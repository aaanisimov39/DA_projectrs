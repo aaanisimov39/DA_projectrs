{
 "cells": [
  {
   "cell_type": "markdown",
   "metadata": {},
   "source": [
    "# Проект e-learning\n",
    "## Анализ успеваемости студентов\n",
    "\n",
    "Для выполнения проекта необходимо:\n",
    "\n",
    "- Выгрузить и изучить имеющиеся данные.\n",
    "- Понять как устроены данные и как они связаны между собой.\n",
    "- Принять решения о трактовке спорных моментов в данных. \n",
    "- Исследовать данные на наличие аномалий.\n",
    "- Выполнить следующие задачи:\n",
    "    1. Вычислить, сколько студентов успешно сдали только один курс.\n",
    "    - Выявить самый сложный и самый простой экзамен.\n",
    "    - По каждому предмету определить средний срок сдачи экзаменов.\n",
    "    - Выявить самые популярные предметы (ТОП-3) по количеству регистраций на них. А также предметы с самым большим оттоком (ТОП-3).\n",
    "    - В период с начала 2013 по конец 2014 выявить семестр с самой низкой завершаемостью курсов и самыми долгими средними сроками сдачи курсов.\n",
    "    - Построить адаптированные RFM-кластеры студентов, чтобы качественно оценить аудиторию.\n",
    "- Описать причины решений и расчетов."
   ]
  },
  {
   "cell_type": "code",
   "execution_count": 1,
   "metadata": {},
   "outputs": [],
   "source": [
    "#  Импорт необходимых библиотек\n",
    "import pandas as pd\n",
    "import numpy as np\n",
    "import requests\n",
    "import matplotlib.pyplot as plt\n",
    "import seaborn as sns\n",
    "from urllib.parse import urlencode\n",
    "%matplotlib inline"
   ]
  },
  {
   "cell_type": "markdown",
   "metadata": {},
   "source": [
    "# Считывание данных"
   ]
  },
  {
   "cell_type": "code",
   "execution_count": 2,
   "metadata": {},
   "outputs": [],
   "source": [
    "#  Функция для считывания датасета с Яндекс диска\n",
    "def convert_from_yandex_disk_to_df(path_to_file: str) -> pd.DataFrame:\n",
    "    '''The input is a link to a document in Yandex disk, the function returns a dataframe'''\n",
    "    base_url = 'https://cloud-api.yandex.net/v1/disk/public/resources/download?'\n",
    "    final_url = base_url + urlencode(dict(public_key=path_to_file))\n",
    "    response = requests.get(final_url)\n",
    "    download_url = response.json()['href']\n",
    "    return pd.read_csv(download_url)"
   ]
  },
  {
   "cell_type": "code",
   "execution_count": 3,
   "metadata": {},
   "outputs": [],
   "source": [
    "assessments_url ='https://disk.yandex.ru/d/iSVP1sZ7AdW7TQ'\n",
    "courses_url = 'https://disk.yandex.ru/d/jmJxR8yhwCXlaw'\n",
    "studentAssessment_url = 'https://disk.yandex.ru/d/DYd4M5b_8RETsA'\n",
    "studentRegistration_url = 'https://disk.yandex.ru/d/lqHnH8NOZ458iw'\n",
    "\n",
    "df_assessments = convert_from_yandex_disk_to_df(assessments_url)\n",
    "df_courses = convert_from_yandex_disk_to_df(courses_url)\n",
    "df_studentAssessment = convert_from_yandex_disk_to_df(studentAssessment_url)\n",
    "df_studentRegistration = convert_from_yandex_disk_to_df(studentRegistration_url)"
   ]
  },
  {
   "cell_type": "markdown",
   "metadata": {},
   "source": [
    "# Анализ и предобработка данных\n",
    "\n",
    "## 1. Assessments \n",
    "Датафрейм содержит информацию об оценках в тестах. Обычно каждый предмет в семестре включает ряд тестов с оценками, за которыми следует заключительный экзаменационный тест (экзамен).\n",
    "\n",
    "- **code_module** — идентификационный код предмета.\n",
    "\n",
    "- **code_presentation** — семестр (идентификационный код).\n",
    "\n",
    "- **id_assessment** — тест (идентификационный номер ассессмента).\n",
    "\n",
    "- **assessment_type** — тип теста. Существуют три типа оценивания: \n",
    "    - *TMA* - оценка преподавателя, \n",
    "    - *СМА* - компьютерная оценка, \n",
    "    - *Exam* - экзамен по курсу, далее по тексту будем называть этот тест **экзамен**.\n",
    "- **date** — информация об окончательной дате сдачи теста. Рассчитывается как количество дней с момента начала семестра. Дата начала семестра имеет номер 0 (ноль).\n",
    "\n",
    "- **weight** — вес теста (%) в оценке за курс. Обычно экзамены рассматриваются отдельно и имеют вес 100%; сумма всех остальных оценок составляет 100%.\n",
    "\n",
    "### Общий анализ"
   ]
  },
  {
   "cell_type": "code",
   "execution_count": 4,
   "metadata": {},
   "outputs": [
    {
     "data": {
      "text/html": [
       "<div>\n",
       "<style scoped>\n",
       "    .dataframe tbody tr th:only-of-type {\n",
       "        vertical-align: middle;\n",
       "    }\n",
       "\n",
       "    .dataframe tbody tr th {\n",
       "        vertical-align: top;\n",
       "    }\n",
       "\n",
       "    .dataframe thead th {\n",
       "        text-align: right;\n",
       "    }\n",
       "</style>\n",
       "<table border=\"1\" class=\"dataframe\">\n",
       "  <thead>\n",
       "    <tr style=\"text-align: right;\">\n",
       "      <th></th>\n",
       "      <th>code_module</th>\n",
       "      <th>code_presentation</th>\n",
       "      <th>id_assessment</th>\n",
       "      <th>assessment_type</th>\n",
       "      <th>date</th>\n",
       "      <th>weight</th>\n",
       "    </tr>\n",
       "  </thead>\n",
       "  <tbody>\n",
       "    <tr>\n",
       "      <th>0</th>\n",
       "      <td>AAA</td>\n",
       "      <td>2013J</td>\n",
       "      <td>1752</td>\n",
       "      <td>TMA</td>\n",
       "      <td>19.0</td>\n",
       "      <td>10.0</td>\n",
       "    </tr>\n",
       "    <tr>\n",
       "      <th>1</th>\n",
       "      <td>AAA</td>\n",
       "      <td>2013J</td>\n",
       "      <td>1753</td>\n",
       "      <td>TMA</td>\n",
       "      <td>54.0</td>\n",
       "      <td>20.0</td>\n",
       "    </tr>\n",
       "    <tr>\n",
       "      <th>2</th>\n",
       "      <td>AAA</td>\n",
       "      <td>2013J</td>\n",
       "      <td>1754</td>\n",
       "      <td>TMA</td>\n",
       "      <td>117.0</td>\n",
       "      <td>20.0</td>\n",
       "    </tr>\n",
       "    <tr>\n",
       "      <th>3</th>\n",
       "      <td>AAA</td>\n",
       "      <td>2013J</td>\n",
       "      <td>1755</td>\n",
       "      <td>TMA</td>\n",
       "      <td>166.0</td>\n",
       "      <td>20.0</td>\n",
       "    </tr>\n",
       "    <tr>\n",
       "      <th>4</th>\n",
       "      <td>AAA</td>\n",
       "      <td>2013J</td>\n",
       "      <td>1756</td>\n",
       "      <td>TMA</td>\n",
       "      <td>215.0</td>\n",
       "      <td>30.0</td>\n",
       "    </tr>\n",
       "  </tbody>\n",
       "</table>\n",
       "</div>"
      ],
      "text/plain": [
       "  code_module code_presentation  id_assessment assessment_type   date  weight\n",
       "0         AAA             2013J           1752             TMA   19.0    10.0\n",
       "1         AAA             2013J           1753             TMA   54.0    20.0\n",
       "2         AAA             2013J           1754             TMA  117.0    20.0\n",
       "3         AAA             2013J           1755             TMA  166.0    20.0\n",
       "4         AAA             2013J           1756             TMA  215.0    30.0"
      ]
     },
     "execution_count": 4,
     "metadata": {},
     "output_type": "execute_result"
    }
   ],
   "source": [
    "df_assessments.head()"
   ]
  },
  {
   "cell_type": "markdown",
   "metadata": {},
   "source": [
    "Переименуем столбец **date** в более понятный - **deadline**"
   ]
  },
  {
   "cell_type": "code",
   "execution_count": 5,
   "metadata": {},
   "outputs": [],
   "source": [
    "df_assessments = df_assessments.rename(columns={'date': 'deadline'})"
   ]
  },
  {
   "cell_type": "code",
   "execution_count": 6,
   "metadata": {},
   "outputs": [
    {
     "data": {
      "text/plain": [
       "(206, 6)"
      ]
     },
     "execution_count": 6,
     "metadata": {},
     "output_type": "execute_result"
    }
   ],
   "source": [
    "df_assessments.shape"
   ]
  },
  {
   "cell_type": "code",
   "execution_count": 7,
   "metadata": {},
   "outputs": [
    {
     "data": {
      "text/plain": [
       "code_module           object\n",
       "code_presentation     object\n",
       "id_assessment          int64\n",
       "assessment_type       object\n",
       "deadline             float64\n",
       "weight               float64\n",
       "dtype: object"
      ]
     },
     "execution_count": 7,
     "metadata": {},
     "output_type": "execute_result"
    }
   ],
   "source": [
    "df_assessments.dtypes"
   ]
  },
  {
   "cell_type": "code",
   "execution_count": 8,
   "metadata": {},
   "outputs": [
    {
     "data": {
      "text/plain": [
       "code_module            7\n",
       "code_presentation      4\n",
       "id_assessment        206\n",
       "assessment_type        3\n",
       "deadline              74\n",
       "weight                24\n",
       "dtype: int64"
      ]
     },
     "execution_count": 8,
     "metadata": {},
     "output_type": "execute_result"
    }
   ],
   "source": [
    "df_assessments.nunique()"
   ]
  },
  {
   "cell_type": "code",
   "execution_count": 9,
   "metadata": {},
   "outputs": [
    {
     "name": "stdout",
     "output_type": "stream",
     "text": [
      "Перечень предметов:  AAA BBB CCC DDD EEE FFF GGG\n",
      "Перечень семестров:  2013J 2014J 2013B 2014B\n",
      "Перечень видов тестов:  TMA Exam CMA\n"
     ]
    }
   ],
   "source": [
    "print('Перечень предметов: ', *df_assessments['code_module'].unique())\n",
    "print('Перечень семестров: ', *df_assessments['code_presentation'].unique())\n",
    "print('Перечень видов тестов: ', *df_assessments['assessment_type'].unique())"
   ]
  },
  {
   "cell_type": "code",
   "execution_count": 10,
   "metadata": {},
   "outputs": [
    {
     "data": {
      "text/html": [
       "<div>\n",
       "<style scoped>\n",
       "    .dataframe tbody tr th:only-of-type {\n",
       "        vertical-align: middle;\n",
       "    }\n",
       "\n",
       "    .dataframe tbody tr th {\n",
       "        vertical-align: top;\n",
       "    }\n",
       "\n",
       "    .dataframe thead th {\n",
       "        text-align: right;\n",
       "    }\n",
       "</style>\n",
       "<table border=\"1\" class=\"dataframe\">\n",
       "  <thead>\n",
       "    <tr style=\"text-align: right;\">\n",
       "      <th></th>\n",
       "      <th>deadline</th>\n",
       "      <th>weight</th>\n",
       "    </tr>\n",
       "  </thead>\n",
       "  <tbody>\n",
       "    <tr>\n",
       "      <th>count</th>\n",
       "      <td>195.000000</td>\n",
       "      <td>206.000000</td>\n",
       "    </tr>\n",
       "    <tr>\n",
       "      <th>mean</th>\n",
       "      <td>145.005128</td>\n",
       "      <td>20.873786</td>\n",
       "    </tr>\n",
       "    <tr>\n",
       "      <th>std</th>\n",
       "      <td>76.001119</td>\n",
       "      <td>30.384224</td>\n",
       "    </tr>\n",
       "    <tr>\n",
       "      <th>min</th>\n",
       "      <td>12.000000</td>\n",
       "      <td>0.000000</td>\n",
       "    </tr>\n",
       "    <tr>\n",
       "      <th>25%</th>\n",
       "      <td>71.000000</td>\n",
       "      <td>0.000000</td>\n",
       "    </tr>\n",
       "    <tr>\n",
       "      <th>50%</th>\n",
       "      <td>152.000000</td>\n",
       "      <td>12.500000</td>\n",
       "    </tr>\n",
       "    <tr>\n",
       "      <th>75%</th>\n",
       "      <td>222.000000</td>\n",
       "      <td>24.250000</td>\n",
       "    </tr>\n",
       "    <tr>\n",
       "      <th>max</th>\n",
       "      <td>261.000000</td>\n",
       "      <td>100.000000</td>\n",
       "    </tr>\n",
       "  </tbody>\n",
       "</table>\n",
       "</div>"
      ],
      "text/plain": [
       "         deadline      weight\n",
       "count  195.000000  206.000000\n",
       "mean   145.005128   20.873786\n",
       "std     76.001119   30.384224\n",
       "min     12.000000    0.000000\n",
       "25%     71.000000    0.000000\n",
       "50%    152.000000   12.500000\n",
       "75%    222.000000   24.250000\n",
       "max    261.000000  100.000000"
      ]
     },
     "execution_count": 10,
     "metadata": {},
     "output_type": "execute_result"
    }
   ],
   "source": [
    "df_assessments[['deadline', 'weight']].describe()"
   ]
  },
  {
   "cell_type": "code",
   "execution_count": 11,
   "metadata": {},
   "outputs": [
    {
     "data": {
      "text/plain": [
       "code_module           0\n",
       "code_presentation     0\n",
       "id_assessment         0\n",
       "assessment_type       0\n",
       "deadline             11\n",
       "weight                0\n",
       "dtype: int64"
      ]
     },
     "execution_count": 11,
     "metadata": {},
     "output_type": "execute_result"
    }
   ],
   "source": [
    "df_assessments.isna().sum()"
   ]
  },
  {
   "cell_type": "markdown",
   "metadata": {},
   "source": [
    "В датафрейме **df_assessments** присутствует **11** пропущенных окончательных дат сдачи теста **deadline**. Проанализируем эти данные."
   ]
  },
  {
   "cell_type": "code",
   "execution_count": 12,
   "metadata": {
    "scrolled": true
   },
   "outputs": [
    {
     "data": {
      "text/html": [
       "<div>\n",
       "<style scoped>\n",
       "    .dataframe tbody tr th:only-of-type {\n",
       "        vertical-align: middle;\n",
       "    }\n",
       "\n",
       "    .dataframe tbody tr th {\n",
       "        vertical-align: top;\n",
       "    }\n",
       "\n",
       "    .dataframe thead th {\n",
       "        text-align: right;\n",
       "    }\n",
       "</style>\n",
       "<table border=\"1\" class=\"dataframe\">\n",
       "  <thead>\n",
       "    <tr style=\"text-align: right;\">\n",
       "      <th></th>\n",
       "      <th>code_module</th>\n",
       "      <th>code_presentation</th>\n",
       "      <th>id_assessment</th>\n",
       "      <th>assessment_type</th>\n",
       "      <th>deadline</th>\n",
       "      <th>weight</th>\n",
       "    </tr>\n",
       "  </thead>\n",
       "  <tbody>\n",
       "    <tr>\n",
       "      <th>5</th>\n",
       "      <td>AAA</td>\n",
       "      <td>2013J</td>\n",
       "      <td>1757</td>\n",
       "      <td>Exam</td>\n",
       "      <td>NaN</td>\n",
       "      <td>100.0</td>\n",
       "    </tr>\n",
       "    <tr>\n",
       "      <th>11</th>\n",
       "      <td>AAA</td>\n",
       "      <td>2014J</td>\n",
       "      <td>1763</td>\n",
       "      <td>Exam</td>\n",
       "      <td>NaN</td>\n",
       "      <td>100.0</td>\n",
       "    </tr>\n",
       "    <tr>\n",
       "      <th>23</th>\n",
       "      <td>BBB</td>\n",
       "      <td>2013B</td>\n",
       "      <td>14990</td>\n",
       "      <td>Exam</td>\n",
       "      <td>NaN</td>\n",
       "      <td>100.0</td>\n",
       "    </tr>\n",
       "    <tr>\n",
       "      <th>35</th>\n",
       "      <td>BBB</td>\n",
       "      <td>2013J</td>\n",
       "      <td>15002</td>\n",
       "      <td>Exam</td>\n",
       "      <td>NaN</td>\n",
       "      <td>100.0</td>\n",
       "    </tr>\n",
       "    <tr>\n",
       "      <th>47</th>\n",
       "      <td>BBB</td>\n",
       "      <td>2014B</td>\n",
       "      <td>15014</td>\n",
       "      <td>Exam</td>\n",
       "      <td>NaN</td>\n",
       "      <td>100.0</td>\n",
       "    </tr>\n",
       "    <tr>\n",
       "      <th>53</th>\n",
       "      <td>BBB</td>\n",
       "      <td>2014J</td>\n",
       "      <td>15025</td>\n",
       "      <td>Exam</td>\n",
       "      <td>NaN</td>\n",
       "      <td>100.0</td>\n",
       "    </tr>\n",
       "    <tr>\n",
       "      <th>62</th>\n",
       "      <td>CCC</td>\n",
       "      <td>2014B</td>\n",
       "      <td>24290</td>\n",
       "      <td>Exam</td>\n",
       "      <td>NaN</td>\n",
       "      <td>100.0</td>\n",
       "    </tr>\n",
       "    <tr>\n",
       "      <th>63</th>\n",
       "      <td>CCC</td>\n",
       "      <td>2014B</td>\n",
       "      <td>40087</td>\n",
       "      <td>Exam</td>\n",
       "      <td>NaN</td>\n",
       "      <td>100.0</td>\n",
       "    </tr>\n",
       "    <tr>\n",
       "      <th>72</th>\n",
       "      <td>CCC</td>\n",
       "      <td>2014J</td>\n",
       "      <td>24299</td>\n",
       "      <td>Exam</td>\n",
       "      <td>NaN</td>\n",
       "      <td>100.0</td>\n",
       "    </tr>\n",
       "    <tr>\n",
       "      <th>73</th>\n",
       "      <td>CCC</td>\n",
       "      <td>2014J</td>\n",
       "      <td>40088</td>\n",
       "      <td>Exam</td>\n",
       "      <td>NaN</td>\n",
       "      <td>100.0</td>\n",
       "    </tr>\n",
       "    <tr>\n",
       "      <th>108</th>\n",
       "      <td>DDD</td>\n",
       "      <td>2014J</td>\n",
       "      <td>25368</td>\n",
       "      <td>Exam</td>\n",
       "      <td>NaN</td>\n",
       "      <td>100.0</td>\n",
       "    </tr>\n",
       "  </tbody>\n",
       "</table>\n",
       "</div>"
      ],
      "text/plain": [
       "    code_module code_presentation  id_assessment assessment_type  deadline  \\\n",
       "5           AAA             2013J           1757            Exam       NaN   \n",
       "11          AAA             2014J           1763            Exam       NaN   \n",
       "23          BBB             2013B          14990            Exam       NaN   \n",
       "35          BBB             2013J          15002            Exam       NaN   \n",
       "47          BBB             2014B          15014            Exam       NaN   \n",
       "53          BBB             2014J          15025            Exam       NaN   \n",
       "62          CCC             2014B          24290            Exam       NaN   \n",
       "63          CCC             2014B          40087            Exam       NaN   \n",
       "72          CCC             2014J          24299            Exam       NaN   \n",
       "73          CCC             2014J          40088            Exam       NaN   \n",
       "108         DDD             2014J          25368            Exam       NaN   \n",
       "\n",
       "     weight  \n",
       "5     100.0  \n",
       "11    100.0  \n",
       "23    100.0  \n",
       "35    100.0  \n",
       "47    100.0  \n",
       "53    100.0  \n",
       "62    100.0  \n",
       "63    100.0  \n",
       "72    100.0  \n",
       "73    100.0  \n",
       "108   100.0  "
      ]
     },
     "execution_count": 12,
     "metadata": {},
     "output_type": "execute_result"
    }
   ],
   "source": [
    "df_assessments[df_assessments['deadline'].isna()]"
   ]
  },
  {
   "cell_type": "markdown",
   "metadata": {},
   "source": [
    "Пропущенные даты наблюдаются только для экзаменов. \n",
    "\n",
    "Посмотрим есть ли в датафрейме **df_assessments** экзамены, для которых установлены ограничения."
   ]
  },
  {
   "cell_type": "code",
   "execution_count": 13,
   "metadata": {},
   "outputs": [
    {
     "data": {
      "text/html": [
       "<div>\n",
       "<style scoped>\n",
       "    .dataframe tbody tr th:only-of-type {\n",
       "        vertical-align: middle;\n",
       "    }\n",
       "\n",
       "    .dataframe tbody tr th {\n",
       "        vertical-align: top;\n",
       "    }\n",
       "\n",
       "    .dataframe thead th {\n",
       "        text-align: right;\n",
       "    }\n",
       "</style>\n",
       "<table border=\"1\" class=\"dataframe\">\n",
       "  <thead>\n",
       "    <tr style=\"text-align: right;\">\n",
       "      <th></th>\n",
       "      <th>code_module</th>\n",
       "      <th>code_presentation</th>\n",
       "      <th>id_assessment</th>\n",
       "      <th>assessment_type</th>\n",
       "      <th>deadline</th>\n",
       "      <th>weight</th>\n",
       "    </tr>\n",
       "  </thead>\n",
       "  <tbody>\n",
       "    <tr>\n",
       "      <th>87</th>\n",
       "      <td>DDD</td>\n",
       "      <td>2013B</td>\n",
       "      <td>25340</td>\n",
       "      <td>Exam</td>\n",
       "      <td>240.0</td>\n",
       "      <td>100.0</td>\n",
       "    </tr>\n",
       "    <tr>\n",
       "      <th>94</th>\n",
       "      <td>DDD</td>\n",
       "      <td>2013J</td>\n",
       "      <td>25354</td>\n",
       "      <td>Exam</td>\n",
       "      <td>261.0</td>\n",
       "      <td>100.0</td>\n",
       "    </tr>\n",
       "    <tr>\n",
       "      <th>101</th>\n",
       "      <td>DDD</td>\n",
       "      <td>2014B</td>\n",
       "      <td>25361</td>\n",
       "      <td>Exam</td>\n",
       "      <td>241.0</td>\n",
       "      <td>100.0</td>\n",
       "    </tr>\n",
       "    <tr>\n",
       "      <th>113</th>\n",
       "      <td>EEE</td>\n",
       "      <td>2013J</td>\n",
       "      <td>30713</td>\n",
       "      <td>Exam</td>\n",
       "      <td>235.0</td>\n",
       "      <td>100.0</td>\n",
       "    </tr>\n",
       "    <tr>\n",
       "      <th>118</th>\n",
       "      <td>EEE</td>\n",
       "      <td>2014B</td>\n",
       "      <td>30718</td>\n",
       "      <td>Exam</td>\n",
       "      <td>228.0</td>\n",
       "      <td>100.0</td>\n",
       "    </tr>\n",
       "    <tr>\n",
       "      <th>123</th>\n",
       "      <td>EEE</td>\n",
       "      <td>2014J</td>\n",
       "      <td>30723</td>\n",
       "      <td>Exam</td>\n",
       "      <td>235.0</td>\n",
       "      <td>100.0</td>\n",
       "    </tr>\n",
       "    <tr>\n",
       "      <th>136</th>\n",
       "      <td>FFF</td>\n",
       "      <td>2013B</td>\n",
       "      <td>34872</td>\n",
       "      <td>Exam</td>\n",
       "      <td>222.0</td>\n",
       "      <td>100.0</td>\n",
       "    </tr>\n",
       "    <tr>\n",
       "      <th>149</th>\n",
       "      <td>FFF</td>\n",
       "      <td>2013J</td>\n",
       "      <td>34885</td>\n",
       "      <td>Exam</td>\n",
       "      <td>236.0</td>\n",
       "      <td>100.0</td>\n",
       "    </tr>\n",
       "    <tr>\n",
       "      <th>162</th>\n",
       "      <td>FFF</td>\n",
       "      <td>2014B</td>\n",
       "      <td>34898</td>\n",
       "      <td>Exam</td>\n",
       "      <td>227.0</td>\n",
       "      <td>100.0</td>\n",
       "    </tr>\n",
       "    <tr>\n",
       "      <th>175</th>\n",
       "      <td>FFF</td>\n",
       "      <td>2014J</td>\n",
       "      <td>34911</td>\n",
       "      <td>Exam</td>\n",
       "      <td>241.0</td>\n",
       "      <td>100.0</td>\n",
       "    </tr>\n",
       "    <tr>\n",
       "      <th>185</th>\n",
       "      <td>GGG</td>\n",
       "      <td>2013J</td>\n",
       "      <td>37424</td>\n",
       "      <td>Exam</td>\n",
       "      <td>229.0</td>\n",
       "      <td>100.0</td>\n",
       "    </tr>\n",
       "    <tr>\n",
       "      <th>195</th>\n",
       "      <td>GGG</td>\n",
       "      <td>2014B</td>\n",
       "      <td>37434</td>\n",
       "      <td>Exam</td>\n",
       "      <td>222.0</td>\n",
       "      <td>100.0</td>\n",
       "    </tr>\n",
       "    <tr>\n",
       "      <th>205</th>\n",
       "      <td>GGG</td>\n",
       "      <td>2014J</td>\n",
       "      <td>37444</td>\n",
       "      <td>Exam</td>\n",
       "      <td>229.0</td>\n",
       "      <td>100.0</td>\n",
       "    </tr>\n",
       "  </tbody>\n",
       "</table>\n",
       "</div>"
      ],
      "text/plain": [
       "    code_module code_presentation  id_assessment assessment_type  deadline  \\\n",
       "87          DDD             2013B          25340            Exam     240.0   \n",
       "94          DDD             2013J          25354            Exam     261.0   \n",
       "101         DDD             2014B          25361            Exam     241.0   \n",
       "113         EEE             2013J          30713            Exam     235.0   \n",
       "118         EEE             2014B          30718            Exam     228.0   \n",
       "123         EEE             2014J          30723            Exam     235.0   \n",
       "136         FFF             2013B          34872            Exam     222.0   \n",
       "149         FFF             2013J          34885            Exam     236.0   \n",
       "162         FFF             2014B          34898            Exam     227.0   \n",
       "175         FFF             2014J          34911            Exam     241.0   \n",
       "185         GGG             2013J          37424            Exam     229.0   \n",
       "195         GGG             2014B          37434            Exam     222.0   \n",
       "205         GGG             2014J          37444            Exam     229.0   \n",
       "\n",
       "     weight  \n",
       "87    100.0  \n",
       "94    100.0  \n",
       "101   100.0  \n",
       "113   100.0  \n",
       "118   100.0  \n",
       "123   100.0  \n",
       "136   100.0  \n",
       "149   100.0  \n",
       "162   100.0  \n",
       "175   100.0  \n",
       "185   100.0  \n",
       "195   100.0  \n",
       "205   100.0  "
      ]
     },
     "execution_count": 13,
     "metadata": {},
     "output_type": "execute_result"
    }
   ],
   "source": [
    "df_assessments[(df_assessments['assessment_type']=='Exam') & (df_assessments['deadline'].notna())]"
   ]
  },
  {
   "cell_type": "markdown",
   "metadata": {},
   "source": [
    "- Датафрейм **df_assessments** считан корректно. \n",
    "- Типы значений столбцов соответствуют действительности, изменять типы не требуется. \n",
    "- **4 семестра** (2013J, 2014J, 2013B и 2014B) включают в себя **7 предметов** (AAA, BBB, CCC, DDD, EEE, FFF и GGG), по которым проводится **206 различных тестов**, разбитых на **3 типа** (TMA, CMA и Exam)\n",
    "- В датафрейме пропущены **11 дат** сдачи экзаменов. Есть три варианта, почему так могло произойти:\n",
    "    1. Ошибка в данных,\n",
    "    2. Дедлайны для этих экзаменов не установлены,\n",
    "    3. Дедлайны для этих экзаменов ограничены другим временем.\n",
    "\n",
    "Примем решение по дедлайнам этих экзаменов после анализа других датафреймов."
   ]
  },
  {
   "cell_type": "markdown",
   "metadata": {},
   "source": [
    "### Анализ количества тестов"
   ]
  },
  {
   "cell_type": "markdown",
   "metadata": {},
   "source": [
    "Выведем количество разных типов тестов по предметам в разбивке по семестрам"
   ]
  },
  {
   "cell_type": "code",
   "execution_count": 14,
   "metadata": {},
   "outputs": [
    {
     "data": {
      "text/html": [
       "<div>\n",
       "<style scoped>\n",
       "    .dataframe tbody tr th:only-of-type {\n",
       "        vertical-align: middle;\n",
       "    }\n",
       "\n",
       "    .dataframe tbody tr th {\n",
       "        vertical-align: top;\n",
       "    }\n",
       "\n",
       "    .dataframe thead tr th {\n",
       "        text-align: left;\n",
       "    }\n",
       "\n",
       "    .dataframe thead tr:last-of-type th {\n",
       "        text-align: right;\n",
       "    }\n",
       "</style>\n",
       "<table border=\"1\" class=\"dataframe\">\n",
       "  <thead>\n",
       "    <tr>\n",
       "      <th>code_module</th>\n",
       "      <th colspan=\"2\" halign=\"left\">AAA</th>\n",
       "      <th colspan=\"3\" halign=\"left\">BBB</th>\n",
       "      <th colspan=\"3\" halign=\"left\">CCC</th>\n",
       "      <th colspan=\"3\" halign=\"left\">DDD</th>\n",
       "      <th colspan=\"2\" halign=\"left\">EEE</th>\n",
       "      <th colspan=\"3\" halign=\"left\">FFF</th>\n",
       "      <th colspan=\"3\" halign=\"left\">GGG</th>\n",
       "    </tr>\n",
       "    <tr>\n",
       "      <th>assessment_type</th>\n",
       "      <th>Exam</th>\n",
       "      <th>TMA</th>\n",
       "      <th>TMA</th>\n",
       "      <th>Exam</th>\n",
       "      <th>CMA</th>\n",
       "      <th>CMA</th>\n",
       "      <th>Exam</th>\n",
       "      <th>TMA</th>\n",
       "      <th>TMA</th>\n",
       "      <th>Exam</th>\n",
       "      <th>CMA</th>\n",
       "      <th>TMA</th>\n",
       "      <th>Exam</th>\n",
       "      <th>Exam</th>\n",
       "      <th>TMA</th>\n",
       "      <th>CMA</th>\n",
       "      <th>CMA</th>\n",
       "      <th>Exam</th>\n",
       "      <th>TMA</th>\n",
       "    </tr>\n",
       "    <tr>\n",
       "      <th>code_presentation</th>\n",
       "      <th></th>\n",
       "      <th></th>\n",
       "      <th></th>\n",
       "      <th></th>\n",
       "      <th></th>\n",
       "      <th></th>\n",
       "      <th></th>\n",
       "      <th></th>\n",
       "      <th></th>\n",
       "      <th></th>\n",
       "      <th></th>\n",
       "      <th></th>\n",
       "      <th></th>\n",
       "      <th></th>\n",
       "      <th></th>\n",
       "      <th></th>\n",
       "      <th></th>\n",
       "      <th></th>\n",
       "      <th></th>\n",
       "    </tr>\n",
       "  </thead>\n",
       "  <tbody>\n",
       "    <tr>\n",
       "      <th>2013B</th>\n",
       "      <td>0.0</td>\n",
       "      <td>0.0</td>\n",
       "      <td>6.0</td>\n",
       "      <td>1.0</td>\n",
       "      <td>5.0</td>\n",
       "      <td>0.0</td>\n",
       "      <td>0.0</td>\n",
       "      <td>0.0</td>\n",
       "      <td>6.0</td>\n",
       "      <td>1.0</td>\n",
       "      <td>7.0</td>\n",
       "      <td>0.0</td>\n",
       "      <td>0.0</td>\n",
       "      <td>1.0</td>\n",
       "      <td>5.0</td>\n",
       "      <td>7.0</td>\n",
       "      <td>0.0</td>\n",
       "      <td>0.0</td>\n",
       "      <td>0.0</td>\n",
       "    </tr>\n",
       "    <tr>\n",
       "      <th>2013J</th>\n",
       "      <td>1.0</td>\n",
       "      <td>5.0</td>\n",
       "      <td>6.0</td>\n",
       "      <td>1.0</td>\n",
       "      <td>5.0</td>\n",
       "      <td>0.0</td>\n",
       "      <td>0.0</td>\n",
       "      <td>0.0</td>\n",
       "      <td>6.0</td>\n",
       "      <td>1.0</td>\n",
       "      <td>0.0</td>\n",
       "      <td>4.0</td>\n",
       "      <td>1.0</td>\n",
       "      <td>1.0</td>\n",
       "      <td>5.0</td>\n",
       "      <td>7.0</td>\n",
       "      <td>6.0</td>\n",
       "      <td>1.0</td>\n",
       "      <td>3.0</td>\n",
       "    </tr>\n",
       "    <tr>\n",
       "      <th>2014B</th>\n",
       "      <td>0.0</td>\n",
       "      <td>0.0</td>\n",
       "      <td>6.0</td>\n",
       "      <td>1.0</td>\n",
       "      <td>5.0</td>\n",
       "      <td>4.0</td>\n",
       "      <td>2.0</td>\n",
       "      <td>4.0</td>\n",
       "      <td>6.0</td>\n",
       "      <td>1.0</td>\n",
       "      <td>0.0</td>\n",
       "      <td>4.0</td>\n",
       "      <td>1.0</td>\n",
       "      <td>1.0</td>\n",
       "      <td>5.0</td>\n",
       "      <td>7.0</td>\n",
       "      <td>6.0</td>\n",
       "      <td>1.0</td>\n",
       "      <td>3.0</td>\n",
       "    </tr>\n",
       "    <tr>\n",
       "      <th>2014J</th>\n",
       "      <td>1.0</td>\n",
       "      <td>5.0</td>\n",
       "      <td>5.0</td>\n",
       "      <td>1.0</td>\n",
       "      <td>0.0</td>\n",
       "      <td>4.0</td>\n",
       "      <td>2.0</td>\n",
       "      <td>4.0</td>\n",
       "      <td>6.0</td>\n",
       "      <td>1.0</td>\n",
       "      <td>0.0</td>\n",
       "      <td>4.0</td>\n",
       "      <td>1.0</td>\n",
       "      <td>1.0</td>\n",
       "      <td>5.0</td>\n",
       "      <td>7.0</td>\n",
       "      <td>6.0</td>\n",
       "      <td>1.0</td>\n",
       "      <td>3.0</td>\n",
       "    </tr>\n",
       "  </tbody>\n",
       "</table>\n",
       "</div>"
      ],
      "text/plain": [
       "code_module        AAA       BBB            CCC            DDD            EEE  \\\n",
       "assessment_type   Exam  TMA  TMA Exam  CMA  CMA Exam  TMA  TMA Exam  CMA  TMA   \n",
       "code_presentation                                                               \n",
       "2013B              0.0  0.0  6.0  1.0  5.0  0.0  0.0  0.0  6.0  1.0  7.0  0.0   \n",
       "2013J              1.0  5.0  6.0  1.0  5.0  0.0  0.0  0.0  6.0  1.0  0.0  4.0   \n",
       "2014B              0.0  0.0  6.0  1.0  5.0  4.0  2.0  4.0  6.0  1.0  0.0  4.0   \n",
       "2014J              1.0  5.0  5.0  1.0  0.0  4.0  2.0  4.0  6.0  1.0  0.0  4.0   \n",
       "\n",
       "code_module             FFF            GGG            \n",
       "assessment_type   Exam Exam  TMA  CMA  CMA Exam  TMA  \n",
       "code_presentation                                     \n",
       "2013B              0.0  1.0  5.0  7.0  0.0  0.0  0.0  \n",
       "2013J              1.0  1.0  5.0  7.0  6.0  1.0  3.0  \n",
       "2014B              1.0  1.0  5.0  7.0  6.0  1.0  3.0  \n",
       "2014J              1.0  1.0  5.0  7.0  6.0  1.0  3.0  "
      ]
     },
     "execution_count": 14,
     "metadata": {},
     "output_type": "execute_result"
    }
   ],
   "source": [
    "df_tests = df_assessments.groupby(['code_presentation', 'code_module', 'assessment_type'], as_index=False)\\\n",
    "                         .agg({'id_assessment': 'count'})\\\n",
    "                         .sort_values(['code_presentation', 'code_module'])\n",
    "\n",
    "df_tests.sort_values(['code_module'])\\\n",
    "        .pivot(columns=['code_module', 'assessment_type'], index='code_presentation', values='id_assessment')\\\n",
    "        .fillna(0)"
   ]
  },
  {
   "cell_type": "markdown",
   "metadata": {},
   "source": [
    "Построим визуализацию количества различных тестов по разным предметам и семестрам"
   ]
  },
  {
   "cell_type": "code",
   "execution_count": 15,
   "metadata": {},
   "outputs": [
    {
     "data": {
      "image/png": "[encoded data removed]",
      "text/plain": [
       "<Figure size 1080x864 with 28 Axes>"
      ]
     },
     "metadata": {},
     "output_type": "display_data"
    }
   ],
   "source": [
    "fig, axes = plt.subplots(nrows=7, ncols=4,\n",
    "                         sharex=False, sharey=True,\n",
    "                         figsize=(15, 12))\n",
    "module_range = sorted(df_tests.code_module.unique())\n",
    "presentation_range = sorted(df_tests.code_presentation.unique())\n",
    "for i in range(len(module_range)):\n",
    "    for j in range(len(presentation_range)):\n",
    "        df = df_tests[(df_tests['code_module'] == module_range[i])\n",
    "                      & (df_tests['code_presentation'] == presentation_range[j])]\n",
    "        x = df['assessment_type']\n",
    "        y = df['id_assessment']\n",
    "        ax = axes[i, j]\n",
    "        colors_dict = {'Exam' : 'gold', \n",
    "                       'CMA': 'DodgerBlue', \n",
    "                       'TMA': 'FireBrick'}\n",
    "        color_list = [colors_dict[i] for i in df.assessment_type.unique()]\n",
    "        bars = ax.bar(x, y, color=color_list)\n",
    "        ax.set_xlabel('{}\\n'.format(presentation_range[j]), va='top', fontsize=10)  \n",
    "        ax.set_ylabel(module_range[i], fontsize=10)   \n",
    "        ax.tick_params(left=False, labelleft=False, bottom=False)\n",
    "        ax.set_xticks(x)\n",
    "        ax.set_xticklabels(x, fontsize=13)\n",
    "        ax.set_yticks([])        \n",
    "        for bar in bars:\n",
    "            value = bar.get_height()\n",
    "            ax.text(bar.get_x() + bar.get_width() / 2,\n",
    "                    value,\n",
    "                    int(value),\n",
    "                    ha='center',\n",
    "                    va='bottom',\n",
    "                    color='black')\n",
    "fig.suptitle('Количество тестов по каждому предмету в каждом семестре', fontsize=15, y=1.05)\n",
    "fig.patch.set_facecolor('white')\n",
    "plt.tight_layout()\n",
    "plt.show()"
   ]
  },
  {
   "cell_type": "markdown",
   "metadata": {},
   "source": [
    "- Не во всех семестрах присутствуют все предметы.\n",
    "- Не для всех предметов присутствуют все три типа тестов.\n",
    "- Если по предмету есть тесты **TMA**, то по этому предмету обязательно есть экзамен. \n",
    "- В семестрах **2014B** и **2014J** для предмета **CCC** наблюдается по 2 экзамена, выведем их"
   ]
  },
  {
   "cell_type": "code",
   "execution_count": 16,
   "metadata": {},
   "outputs": [
    {
     "data": {
      "text/html": [
       "<div>\n",
       "<style scoped>\n",
       "    .dataframe tbody tr th:only-of-type {\n",
       "        vertical-align: middle;\n",
       "    }\n",
       "\n",
       "    .dataframe tbody tr th {\n",
       "        vertical-align: top;\n",
       "    }\n",
       "\n",
       "    .dataframe thead th {\n",
       "        text-align: right;\n",
       "    }\n",
       "</style>\n",
       "<table border=\"1\" class=\"dataframe\">\n",
       "  <thead>\n",
       "    <tr style=\"text-align: right;\">\n",
       "      <th></th>\n",
       "      <th>code_module</th>\n",
       "      <th>code_presentation</th>\n",
       "      <th>id_assessment</th>\n",
       "      <th>assessment_type</th>\n",
       "      <th>deadline</th>\n",
       "      <th>weight</th>\n",
       "    </tr>\n",
       "  </thead>\n",
       "  <tbody>\n",
       "    <tr>\n",
       "      <th>62</th>\n",
       "      <td>CCC</td>\n",
       "      <td>2014B</td>\n",
       "      <td>24290</td>\n",
       "      <td>Exam</td>\n",
       "      <td>NaN</td>\n",
       "      <td>100.0</td>\n",
       "    </tr>\n",
       "    <tr>\n",
       "      <th>63</th>\n",
       "      <td>CCC</td>\n",
       "      <td>2014B</td>\n",
       "      <td>40087</td>\n",
       "      <td>Exam</td>\n",
       "      <td>NaN</td>\n",
       "      <td>100.0</td>\n",
       "    </tr>\n",
       "    <tr>\n",
       "      <th>72</th>\n",
       "      <td>CCC</td>\n",
       "      <td>2014J</td>\n",
       "      <td>24299</td>\n",
       "      <td>Exam</td>\n",
       "      <td>NaN</td>\n",
       "      <td>100.0</td>\n",
       "    </tr>\n",
       "    <tr>\n",
       "      <th>73</th>\n",
       "      <td>CCC</td>\n",
       "      <td>2014J</td>\n",
       "      <td>40088</td>\n",
       "      <td>Exam</td>\n",
       "      <td>NaN</td>\n",
       "      <td>100.0</td>\n",
       "    </tr>\n",
       "  </tbody>\n",
       "</table>\n",
       "</div>"
      ],
      "text/plain": [
       "   code_module code_presentation  id_assessment assessment_type  deadline  \\\n",
       "62         CCC             2014B          24290            Exam       NaN   \n",
       "63         CCC             2014B          40087            Exam       NaN   \n",
       "72         CCC             2014J          24299            Exam       NaN   \n",
       "73         CCC             2014J          40088            Exam       NaN   \n",
       "\n",
       "    weight  \n",
       "62   100.0  \n",
       "63   100.0  \n",
       "72   100.0  \n",
       "73   100.0  "
      ]
     },
     "execution_count": 16,
     "metadata": {},
     "output_type": "execute_result"
    }
   ],
   "source": [
    "df_assessments[(df_assessments['code_presentation'].isin(['2014J', '2014B']))\n",
    "               & (df_assessments['assessment_type'] == 'Exam')\n",
    "               & (df_assessments['code_module']=='CCC')]"
   ]
  },
  {
   "cell_type": "markdown",
   "metadata": {},
   "source": [
    "По предмету **ССС** в семестрах **2014B** и **2014J** проводится по два заключительных экзамена, у которых отсутствуют дедлайны. Необходимо учесть данный факт в дальнейшем анализе."
   ]
  },
  {
   "cell_type": "markdown",
   "metadata": {},
   "source": [
    "### Анализ весов тестов для каждого предмета в разбивке по семестрам"
   ]
  },
  {
   "cell_type": "markdown",
   "metadata": {},
   "source": [
    "Выведем суммарные веса каждого типа тестов в разбивке по предмету и семестру"
   ]
  },
  {
   "cell_type": "code",
   "execution_count": 17,
   "metadata": {},
   "outputs": [
    {
     "data": {
      "text/html": [
       "<div>\n",
       "<style scoped>\n",
       "    .dataframe tbody tr th:only-of-type {\n",
       "        vertical-align: middle;\n",
       "    }\n",
       "\n",
       "    .dataframe tbody tr th {\n",
       "        vertical-align: top;\n",
       "    }\n",
       "\n",
       "    .dataframe thead tr th {\n",
       "        text-align: left;\n",
       "    }\n",
       "\n",
       "    .dataframe thead tr:last-of-type th {\n",
       "        text-align: right;\n",
       "    }\n",
       "</style>\n",
       "<table border=\"1\" class=\"dataframe\">\n",
       "  <thead>\n",
       "    <tr>\n",
       "      <th>code_module</th>\n",
       "      <th colspan=\"2\" halign=\"left\">AAA</th>\n",
       "      <th colspan=\"3\" halign=\"left\">BBB</th>\n",
       "      <th colspan=\"3\" halign=\"left\">CCC</th>\n",
       "      <th colspan=\"3\" halign=\"left\">DDD</th>\n",
       "      <th colspan=\"2\" halign=\"left\">EEE</th>\n",
       "      <th colspan=\"3\" halign=\"left\">FFF</th>\n",
       "      <th colspan=\"3\" halign=\"left\">GGG</th>\n",
       "    </tr>\n",
       "    <tr>\n",
       "      <th>assessment_type</th>\n",
       "      <th>Exam</th>\n",
       "      <th>TMA</th>\n",
       "      <th>TMA</th>\n",
       "      <th>Exam</th>\n",
       "      <th>CMA</th>\n",
       "      <th>CMA</th>\n",
       "      <th>Exam</th>\n",
       "      <th>TMA</th>\n",
       "      <th>TMA</th>\n",
       "      <th>Exam</th>\n",
       "      <th>CMA</th>\n",
       "      <th>TMA</th>\n",
       "      <th>Exam</th>\n",
       "      <th>Exam</th>\n",
       "      <th>TMA</th>\n",
       "      <th>CMA</th>\n",
       "      <th>CMA</th>\n",
       "      <th>Exam</th>\n",
       "      <th>TMA</th>\n",
       "    </tr>\n",
       "    <tr>\n",
       "      <th>code_presentation</th>\n",
       "      <th></th>\n",
       "      <th></th>\n",
       "      <th></th>\n",
       "      <th></th>\n",
       "      <th></th>\n",
       "      <th></th>\n",
       "      <th></th>\n",
       "      <th></th>\n",
       "      <th></th>\n",
       "      <th></th>\n",
       "      <th></th>\n",
       "      <th></th>\n",
       "      <th></th>\n",
       "      <th></th>\n",
       "      <th></th>\n",
       "      <th></th>\n",
       "      <th></th>\n",
       "      <th></th>\n",
       "      <th></th>\n",
       "    </tr>\n",
       "  </thead>\n",
       "  <tbody>\n",
       "    <tr>\n",
       "      <th>2013B</th>\n",
       "      <td>0.0</td>\n",
       "      <td>0.0</td>\n",
       "      <td>95.0</td>\n",
       "      <td>100.0</td>\n",
       "      <td>5.0</td>\n",
       "      <td>0.0</td>\n",
       "      <td>0.0</td>\n",
       "      <td>0.0</td>\n",
       "      <td>75.0</td>\n",
       "      <td>100.0</td>\n",
       "      <td>25.0</td>\n",
       "      <td>0.0</td>\n",
       "      <td>0.0</td>\n",
       "      <td>100.0</td>\n",
       "      <td>100.0</td>\n",
       "      <td>0.0</td>\n",
       "      <td>0.0</td>\n",
       "      <td>0.0</td>\n",
       "      <td>0.0</td>\n",
       "    </tr>\n",
       "    <tr>\n",
       "      <th>2013J</th>\n",
       "      <td>100.0</td>\n",
       "      <td>100.0</td>\n",
       "      <td>95.0</td>\n",
       "      <td>100.0</td>\n",
       "      <td>5.0</td>\n",
       "      <td>0.0</td>\n",
       "      <td>0.0</td>\n",
       "      <td>0.0</td>\n",
       "      <td>100.0</td>\n",
       "      <td>100.0</td>\n",
       "      <td>0.0</td>\n",
       "      <td>100.0</td>\n",
       "      <td>100.0</td>\n",
       "      <td>100.0</td>\n",
       "      <td>100.0</td>\n",
       "      <td>0.0</td>\n",
       "      <td>0.0</td>\n",
       "      <td>100.0</td>\n",
       "      <td>0.0</td>\n",
       "    </tr>\n",
       "    <tr>\n",
       "      <th>2014B</th>\n",
       "      <td>0.0</td>\n",
       "      <td>0.0</td>\n",
       "      <td>95.0</td>\n",
       "      <td>100.0</td>\n",
       "      <td>5.0</td>\n",
       "      <td>25.0</td>\n",
       "      <td>200.0</td>\n",
       "      <td>75.0</td>\n",
       "      <td>100.0</td>\n",
       "      <td>100.0</td>\n",
       "      <td>0.0</td>\n",
       "      <td>100.0</td>\n",
       "      <td>100.0</td>\n",
       "      <td>100.0</td>\n",
       "      <td>100.0</td>\n",
       "      <td>0.0</td>\n",
       "      <td>0.0</td>\n",
       "      <td>100.0</td>\n",
       "      <td>0.0</td>\n",
       "    </tr>\n",
       "    <tr>\n",
       "      <th>2014J</th>\n",
       "      <td>100.0</td>\n",
       "      <td>100.0</td>\n",
       "      <td>100.0</td>\n",
       "      <td>100.0</td>\n",
       "      <td>0.0</td>\n",
       "      <td>25.0</td>\n",
       "      <td>200.0</td>\n",
       "      <td>75.0</td>\n",
       "      <td>100.0</td>\n",
       "      <td>100.0</td>\n",
       "      <td>0.0</td>\n",
       "      <td>100.0</td>\n",
       "      <td>100.0</td>\n",
       "      <td>100.0</td>\n",
       "      <td>100.0</td>\n",
       "      <td>0.0</td>\n",
       "      <td>0.0</td>\n",
       "      <td>100.0</td>\n",
       "      <td>0.0</td>\n",
       "    </tr>\n",
       "  </tbody>\n",
       "</table>\n",
       "</div>"
      ],
      "text/plain": [
       "code_module          AAA           BBB               CCC                 DDD  \\\n",
       "assessment_type     Exam    TMA    TMA   Exam  CMA   CMA   Exam   TMA    TMA   \n",
       "code_presentation                                                              \n",
       "2013B                0.0    0.0   95.0  100.0  5.0   0.0    0.0   0.0   75.0   \n",
       "2013J              100.0  100.0   95.0  100.0  5.0   0.0    0.0   0.0  100.0   \n",
       "2014B                0.0    0.0   95.0  100.0  5.0  25.0  200.0  75.0  100.0   \n",
       "2014J              100.0  100.0  100.0  100.0  0.0  25.0  200.0  75.0  100.0   \n",
       "\n",
       "code_module                       EEE           FFF              GGG         \\\n",
       "assessment_type     Exam   CMA    TMA   Exam   Exam    TMA  CMA  CMA   Exam   \n",
       "code_presentation                                                             \n",
       "2013B              100.0  25.0    0.0    0.0  100.0  100.0  0.0  0.0    0.0   \n",
       "2013J              100.0   0.0  100.0  100.0  100.0  100.0  0.0  0.0  100.0   \n",
       "2014B              100.0   0.0  100.0  100.0  100.0  100.0  0.0  0.0  100.0   \n",
       "2014J              100.0   0.0  100.0  100.0  100.0  100.0  0.0  0.0  100.0   \n",
       "\n",
       "code_module             \n",
       "assessment_type    TMA  \n",
       "code_presentation       \n",
       "2013B              0.0  \n",
       "2013J              0.0  \n",
       "2014B              0.0  \n",
       "2014J              0.0  "
      ]
     },
     "execution_count": 17,
     "metadata": {},
     "output_type": "execute_result"
    }
   ],
   "source": [
    "df_weight = df_assessments.groupby(['code_presentation', \n",
    "                                    'code_module', \n",
    "                                    'assessment_type'], as_index=False)\\\n",
    "                          .agg({'weight': 'sum'})\\\n",
    "                          .sort_values(['code_presentation', 'code_module'])\n",
    "\n",
    "df_weight.sort_values(['code_module'])\\\n",
    "         .pivot(columns=['code_module', 'assessment_type'], index='code_presentation', values='weight')\\\n",
    "         .fillna(0)"
   ]
  },
  {
   "cell_type": "markdown",
   "metadata": {},
   "source": [
    "Построим визуализацию количества тестов для каждого предмета в разбивке по типу теста и семестру"
   ]
  },
  {
   "cell_type": "code",
   "execution_count": 18,
   "metadata": {},
   "outputs": [
    {
     "data": {
      "image/png": "[encoded data removed]",
      "text/plain": [
       "<Figure size 1080x864 with 28 Axes>"
      ]
     },
     "metadata": {},
     "output_type": "display_data"
    }
   ],
   "source": [
    "fig, axes = plt.subplots(nrows=7, ncols=4,\n",
    "                         sharex=False, sharey=True,\n",
    "                         figsize=(15, 12))\n",
    "module_range = sorted(df_weight.code_module.unique())\n",
    "presentation_range = sorted(df_weight.code_presentation.unique())\n",
    "for i in range(len(module_range)): #r\n",
    "    for j in range(len(presentation_range)): #f\n",
    "        df = df_weight[(df_weight['code_module'] == module_range[i]) \n",
    "                     & (df_weight['code_presentation'] == presentation_range[j])]\n",
    "        x = df['assessment_type']\n",
    "        y = df['weight']\n",
    "        ax = axes[i, j]\n",
    "        colors_dict = {'Exam' : 'gold', 'CMA': 'DodgerBlue', 'TMA': 'FireBrick'}\n",
    "        color_list = [colors_dict[i] for i in df.assessment_type.unique()]\n",
    "        bars = ax.bar(x, y, color=color_list)\n",
    "        ax.set_xlabel('{}\\n'.format(presentation_range[j]), va='top', fontsize=10)  \n",
    "        ax.set_ylabel(module_range[i], fontsize=10)   \n",
    "        ax.tick_params(left=False, labelleft=False, bottom=False)\n",
    "        ax.set_xticks(x)\n",
    "        ax.set_xticklabels(x, fontsize=13)\n",
    "        ax.set_yticks([])        \n",
    "        for bar in bars:\n",
    "            value = bar.get_height()\n",
    "            ax.text(bar.get_x() + bar.get_width() / 2,\n",
    "                    value,\n",
    "                    int(value),\n",
    "                    ha='center',\n",
    "                    va='bottom',\n",
    "                    color='black')\n",
    "fig.suptitle('Распределение M для каждой F и R', fontsize=15, y=1.05)\n",
    "fig.patch.set_facecolor('white')\n",
    "plt.tight_layout()\n",
    "plt.show()"
   ]
  },
  {
   "cell_type": "markdown",
   "metadata": {},
   "source": [
    "- Вес экзамена составляет **100%**\n",
    "- В семестрах **2014B** и **2014J** для предмета **CCC** наблюдается вес экзаменов **200%** (т.к. в данных семестрах **2** экзамена по этому предмету)\n",
    "- В датафрейме присутствуют тесты, вес которых составляет **0**%\n",
    "- Для каждого предмета в разбивке по семестрам сумма весов тестов **CMA** и **TMA** равна **100%** (если в семестре присутствует хотя бы один из тестов, вес которого больше **0%**)"
   ]
  },
  {
   "cell_type": "markdown",
   "metadata": {},
   "source": [
    "### Анализ окончательных дат сдачи тестов для каждого предмета в разбивке по семестрам"
   ]
  },
  {
   "cell_type": "markdown",
   "metadata": {},
   "source": [
    "Сгруппируем датафрейм **df_assessments** по типу теста, посчитаем минимальное и максимальное значения количества дней для сдачи теста, а затем вычислим размах."
   ]
  },
  {
   "cell_type": "code",
   "execution_count": 19,
   "metadata": {},
   "outputs": [
    {
     "data": {
      "text/html": [
       "<div>\n",
       "<style scoped>\n",
       "    .dataframe tbody tr th:only-of-type {\n",
       "        vertical-align: middle;\n",
       "    }\n",
       "\n",
       "    .dataframe tbody tr th {\n",
       "        vertical-align: top;\n",
       "    }\n",
       "\n",
       "    .dataframe thead th {\n",
       "        text-align: right;\n",
       "    }\n",
       "</style>\n",
       "<table border=\"1\" class=\"dataframe\">\n",
       "  <thead>\n",
       "    <tr style=\"text-align: right;\">\n",
       "      <th></th>\n",
       "      <th>deadline_min</th>\n",
       "      <th>deadline_median</th>\n",
       "      <th>deadline_max</th>\n",
       "      <th>deadline_range</th>\n",
       "    </tr>\n",
       "    <tr>\n",
       "      <th>assessment_type</th>\n",
       "      <th></th>\n",
       "      <th></th>\n",
       "      <th></th>\n",
       "      <th></th>\n",
       "    </tr>\n",
       "  </thead>\n",
       "  <tbody>\n",
       "    <tr>\n",
       "      <th>CMA</th>\n",
       "      <td>18.0</td>\n",
       "      <td>222.0</td>\n",
       "      <td>241.0</td>\n",
       "      <td>223.0</td>\n",
       "    </tr>\n",
       "    <tr>\n",
       "      <th>Exam</th>\n",
       "      <td>222.0</td>\n",
       "      <td>235.0</td>\n",
       "      <td>261.0</td>\n",
       "      <td>39.0</td>\n",
       "    </tr>\n",
       "    <tr>\n",
       "      <th>TMA</th>\n",
       "      <td>12.0</td>\n",
       "      <td>110.5</td>\n",
       "      <td>215.0</td>\n",
       "      <td>203.0</td>\n",
       "    </tr>\n",
       "  </tbody>\n",
       "</table>\n",
       "</div>"
      ],
      "text/plain": [
       "                 deadline_min  deadline_median  deadline_max  deadline_range\n",
       "assessment_type                                                             \n",
       "CMA                      18.0            222.0         241.0           223.0\n",
       "Exam                    222.0            235.0         261.0            39.0\n",
       "TMA                      12.0            110.5         215.0           203.0"
      ]
     },
     "execution_count": 19,
     "metadata": {},
     "output_type": "execute_result"
    }
   ],
   "source": [
    "df_assessments_range = df_assessments.groupby('assessment_type')\\\n",
    "                                     .agg({'deadline': (np.min, np.median, np.max)})\\\n",
    "                                     .rename(columns={'amin': 'deadline_min', \n",
    "                                                     'median': 'deadline_median', \n",
    "                                                     'amax': 'deadline_max'})\\\n",
    "                                     .droplevel(0, axis=1)\n",
    "\n",
    "df_assessments_range['deadline_range'] = df_assessments_range['deadline_max'] - df_assessments_range['deadline_min']\n",
    "df_assessments_range"
   ]
  },
  {
   "cell_type": "markdown",
   "metadata": {},
   "source": [
    "Посмотрим на распределение дедлайнов для каждого типа тестов"
   ]
  },
  {
   "cell_type": "code",
   "execution_count": 20,
   "metadata": {},
   "outputs": [
    {
     "data": {
      "image/png": "[encoded data removed]",
      "text/plain": [
       "<Figure size 1080x360 with 1 Axes>"
      ]
     },
     "metadata": {
      "needs_background": "light"
     },
     "output_type": "display_data"
    }
   ],
   "source": [
    "plt.figure(figsize=(15, 5))\n",
    "ax = sns.boxplot(data=df_assessments, \n",
    "                 x='deadline', \n",
    "                 y='assessment_type', \n",
    "                 palette=['FireBrick', 'gold', 'DodgerBlue'])\n",
    "ax.set_xlabel('Дедлайн', fontsize=13)\n",
    "ax.set_ylabel('Тип теста', fontsize=13)\n",
    "plt.title(\"Распределене дедлайнов тестов\", fontsize=15)\n",
    "plt.show()"
   ]
  },
  {
   "cell_type": "markdown",
   "metadata": {},
   "source": [
    "- Медианное количество дней для сдачи теста **CMA** составляет **222** дня с размахом **223** дня.\n",
    "- Медианное количество дней для сдачи экзамена составляет **235** дней с размахом **39** дней.\n",
    "- Медианное количество дней для сдачи теста **TMA** составляет **110.5** дней с размахом **203** дня.\n",
    "- Для тестов **CMA** и **TMA** наблюдается большой размах количества дней для сдачи теста."
   ]
  },
  {
   "cell_type": "markdown",
   "metadata": {},
   "source": [
    "## 2. Courses \n",
    "\n",
    "Датафрейм содержит список предметов по семестрам\n",
    "- **code_module** — предмет (идентификационный код).\n",
    "\n",
    "- **code_presentation** — семестр (идентификационный код).\n",
    "\n",
    "- **module_presentation_length** — продолжительность семестра в днях."
   ]
  },
  {
   "cell_type": "markdown",
   "metadata": {},
   "source": [
    "### Общий анализ"
   ]
  },
  {
   "cell_type": "code",
   "execution_count": 21,
   "metadata": {},
   "outputs": [
    {
     "data": {
      "text/html": [
       "<div>\n",
       "<style scoped>\n",
       "    .dataframe tbody tr th:only-of-type {\n",
       "        vertical-align: middle;\n",
       "    }\n",
       "\n",
       "    .dataframe tbody tr th {\n",
       "        vertical-align: top;\n",
       "    }\n",
       "\n",
       "    .dataframe thead th {\n",
       "        text-align: right;\n",
       "    }\n",
       "</style>\n",
       "<table border=\"1\" class=\"dataframe\">\n",
       "  <thead>\n",
       "    <tr style=\"text-align: right;\">\n",
       "      <th></th>\n",
       "      <th>code_module</th>\n",
       "      <th>code_presentation</th>\n",
       "      <th>module_presentation_length</th>\n",
       "    </tr>\n",
       "  </thead>\n",
       "  <tbody>\n",
       "    <tr>\n",
       "      <th>0</th>\n",
       "      <td>AAA</td>\n",
       "      <td>2013J</td>\n",
       "      <td>268</td>\n",
       "    </tr>\n",
       "    <tr>\n",
       "      <th>1</th>\n",
       "      <td>AAA</td>\n",
       "      <td>2014J</td>\n",
       "      <td>269</td>\n",
       "    </tr>\n",
       "    <tr>\n",
       "      <th>2</th>\n",
       "      <td>BBB</td>\n",
       "      <td>2013J</td>\n",
       "      <td>268</td>\n",
       "    </tr>\n",
       "    <tr>\n",
       "      <th>3</th>\n",
       "      <td>BBB</td>\n",
       "      <td>2014J</td>\n",
       "      <td>262</td>\n",
       "    </tr>\n",
       "    <tr>\n",
       "      <th>4</th>\n",
       "      <td>BBB</td>\n",
       "      <td>2013B</td>\n",
       "      <td>240</td>\n",
       "    </tr>\n",
       "  </tbody>\n",
       "</table>\n",
       "</div>"
      ],
      "text/plain": [
       "  code_module code_presentation  module_presentation_length\n",
       "0         AAA             2013J                         268\n",
       "1         AAA             2014J                         269\n",
       "2         BBB             2013J                         268\n",
       "3         BBB             2014J                         262\n",
       "4         BBB             2013B                         240"
      ]
     },
     "execution_count": 21,
     "metadata": {},
     "output_type": "execute_result"
    }
   ],
   "source": [
    "df_courses.head()"
   ]
  },
  {
   "cell_type": "code",
   "execution_count": 22,
   "metadata": {},
   "outputs": [
    {
     "data": {
      "text/plain": [
       "(22, 3)"
      ]
     },
     "execution_count": 22,
     "metadata": {},
     "output_type": "execute_result"
    }
   ],
   "source": [
    "df_courses.shape"
   ]
  },
  {
   "cell_type": "code",
   "execution_count": 23,
   "metadata": {},
   "outputs": [
    {
     "data": {
      "text/plain": [
       "code_module                   7\n",
       "code_presentation             4\n",
       "module_presentation_length    7\n",
       "dtype: int64"
      ]
     },
     "execution_count": 23,
     "metadata": {},
     "output_type": "execute_result"
    }
   ],
   "source": [
    "df_courses.nunique()"
   ]
  },
  {
   "cell_type": "code",
   "execution_count": 24,
   "metadata": {},
   "outputs": [
    {
     "data": {
      "text/plain": [
       "code_module                   object\n",
       "code_presentation             object\n",
       "module_presentation_length     int64\n",
       "dtype: object"
      ]
     },
     "execution_count": 24,
     "metadata": {},
     "output_type": "execute_result"
    }
   ],
   "source": [
    "df_courses.dtypes"
   ]
  },
  {
   "cell_type": "code",
   "execution_count": 25,
   "metadata": {},
   "outputs": [
    {
     "data": {
      "text/plain": [
       "code_module                   0\n",
       "code_presentation             0\n",
       "module_presentation_length    0\n",
       "dtype: int64"
      ]
     },
     "execution_count": 25,
     "metadata": {},
     "output_type": "execute_result"
    }
   ],
   "source": [
    "df_courses.isna().sum()"
   ]
  },
  {
   "cell_type": "code",
   "execution_count": 26,
   "metadata": {},
   "outputs": [
    {
     "data": {
      "text/html": [
       "<div>\n",
       "<style scoped>\n",
       "    .dataframe tbody tr th:only-of-type {\n",
       "        vertical-align: middle;\n",
       "    }\n",
       "\n",
       "    .dataframe tbody tr th {\n",
       "        vertical-align: top;\n",
       "    }\n",
       "\n",
       "    .dataframe thead th {\n",
       "        text-align: right;\n",
       "    }\n",
       "</style>\n",
       "<table border=\"1\" class=\"dataframe\">\n",
       "  <thead>\n",
       "    <tr style=\"text-align: right;\">\n",
       "      <th></th>\n",
       "      <th>module_presentation_length</th>\n",
       "    </tr>\n",
       "  </thead>\n",
       "  <tbody>\n",
       "    <tr>\n",
       "      <th>count</th>\n",
       "      <td>22.000000</td>\n",
       "    </tr>\n",
       "    <tr>\n",
       "      <th>mean</th>\n",
       "      <td>255.545455</td>\n",
       "    </tr>\n",
       "    <tr>\n",
       "      <th>std</th>\n",
       "      <td>13.654677</td>\n",
       "    </tr>\n",
       "    <tr>\n",
       "      <th>min</th>\n",
       "      <td>234.000000</td>\n",
       "    </tr>\n",
       "    <tr>\n",
       "      <th>25%</th>\n",
       "      <td>241.000000</td>\n",
       "    </tr>\n",
       "    <tr>\n",
       "      <th>50%</th>\n",
       "      <td>261.500000</td>\n",
       "    </tr>\n",
       "    <tr>\n",
       "      <th>75%</th>\n",
       "      <td>268.000000</td>\n",
       "    </tr>\n",
       "    <tr>\n",
       "      <th>max</th>\n",
       "      <td>269.000000</td>\n",
       "    </tr>\n",
       "  </tbody>\n",
       "</table>\n",
       "</div>"
      ],
      "text/plain": [
       "       module_presentation_length\n",
       "count                   22.000000\n",
       "mean                   255.545455\n",
       "std                     13.654677\n",
       "min                    234.000000\n",
       "25%                    241.000000\n",
       "50%                    261.500000\n",
       "75%                    268.000000\n",
       "max                    269.000000"
      ]
     },
     "execution_count": 26,
     "metadata": {},
     "output_type": "execute_result"
    }
   ],
   "source": [
    "df_courses.describe()"
   ]
  },
  {
   "cell_type": "markdown",
   "metadata": {},
   "source": [
    "Посмотрим на распределение продолжительности семестров относительно предметов"
   ]
  },
  {
   "cell_type": "code",
   "execution_count": 27,
   "metadata": {},
   "outputs": [
    {
     "data": {
      "image/png": "[encoded data removed]",
      "text/plain": [
       "<Figure size 1080x360 with 1 Axes>"
      ]
     },
     "metadata": {
      "needs_background": "light"
     },
     "output_type": "display_data"
    }
   ],
   "source": [
    "plt.figure(figsize=(15, 5))\n",
    "ax = sns.boxplot(data=df_courses, \n",
    "                 x='module_presentation_length', \n",
    "                 y='code_module', \n",
    "                 palette=['MediumSlateBlue', 'IndianRed', 'Khaki', 'CornflowerBlue', \n",
    "                          'LightSalmon', 'MediumAquamarine', 'Cornsilk'])\n",
    "ax.set_xlabel('Продолжительность семестра', fontsize=13)\n",
    "ax.set_ylabel('Предмет', fontsize=13)\n",
    "plt.title(\"Распределение продолжительности предметов в днях\", fontsize=15)\n",
    "plt.show()"
   ]
  },
  {
   "cell_type": "markdown",
   "metadata": {},
   "source": [
    "- Датафрейм **df_courses** считан корректно.\n",
    "- Типы значений столбцов соответствуют действительности, изменять типы не требуется. \n",
    "- Пропущенных значений нет.\n",
    "- Cеместры длятся в среднем **262** дня (больше, чем полгода)."
   ]
  },
  {
   "cell_type": "markdown",
   "metadata": {},
   "source": [
    "## 3. Student Assessment\n",
    "\n",
    "Датафрейм содержит результаты тестов студентов. Если учащийся не сдаёт тест на оценку, результат не записывается в таблицу.\n",
    "\n",
    "- **id_assessment** — тест (идентификационный номер).\n",
    "\n",
    "- **id_student** — идентификационный номер студента.\n",
    "\n",
    "- **date_submitted** — дата сдачи теста студентом, измеряемая как количество дней с начала семестра.\n",
    "\n",
    "- **is_banked** — факт перезачета теста с прошлого семестра (иногда курсы перезачитывают студентам, вернувшимся из академического отпуска).\n",
    "\n",
    "- **score** — оценка учащегося в этом тесте. Диапазон составляет от 0 до 100. Оценка ниже 40 неудачная/неуспешная сдача теста."
   ]
  },
  {
   "cell_type": "markdown",
   "metadata": {},
   "source": [
    "### Общий анализ"
   ]
  },
  {
   "cell_type": "code",
   "execution_count": 28,
   "metadata": {},
   "outputs": [
    {
     "data": {
      "text/html": [
       "<div>\n",
       "<style scoped>\n",
       "    .dataframe tbody tr th:only-of-type {\n",
       "        vertical-align: middle;\n",
       "    }\n",
       "\n",
       "    .dataframe tbody tr th {\n",
       "        vertical-align: top;\n",
       "    }\n",
       "\n",
       "    .dataframe thead th {\n",
       "        text-align: right;\n",
       "    }\n",
       "</style>\n",
       "<table border=\"1\" class=\"dataframe\">\n",
       "  <thead>\n",
       "    <tr style=\"text-align: right;\">\n",
       "      <th></th>\n",
       "      <th>id_assessment</th>\n",
       "      <th>id_student</th>\n",
       "      <th>date_submitted</th>\n",
       "      <th>is_banked</th>\n",
       "      <th>score</th>\n",
       "    </tr>\n",
       "  </thead>\n",
       "  <tbody>\n",
       "    <tr>\n",
       "      <th>0</th>\n",
       "      <td>1752</td>\n",
       "      <td>11391</td>\n",
       "      <td>18</td>\n",
       "      <td>0</td>\n",
       "      <td>78.0</td>\n",
       "    </tr>\n",
       "    <tr>\n",
       "      <th>1</th>\n",
       "      <td>1752</td>\n",
       "      <td>28400</td>\n",
       "      <td>22</td>\n",
       "      <td>0</td>\n",
       "      <td>70.0</td>\n",
       "    </tr>\n",
       "    <tr>\n",
       "      <th>2</th>\n",
       "      <td>1752</td>\n",
       "      <td>31604</td>\n",
       "      <td>17</td>\n",
       "      <td>0</td>\n",
       "      <td>72.0</td>\n",
       "    </tr>\n",
       "    <tr>\n",
       "      <th>3</th>\n",
       "      <td>1752</td>\n",
       "      <td>32885</td>\n",
       "      <td>26</td>\n",
       "      <td>0</td>\n",
       "      <td>69.0</td>\n",
       "    </tr>\n",
       "    <tr>\n",
       "      <th>4</th>\n",
       "      <td>1752</td>\n",
       "      <td>38053</td>\n",
       "      <td>19</td>\n",
       "      <td>0</td>\n",
       "      <td>79.0</td>\n",
       "    </tr>\n",
       "  </tbody>\n",
       "</table>\n",
       "</div>"
      ],
      "text/plain": [
       "   id_assessment  id_student  date_submitted  is_banked  score\n",
       "0           1752       11391              18          0   78.0\n",
       "1           1752       28400              22          0   70.0\n",
       "2           1752       31604              17          0   72.0\n",
       "3           1752       32885              26          0   69.0\n",
       "4           1752       38053              19          0   79.0"
      ]
     },
     "execution_count": 28,
     "metadata": {},
     "output_type": "execute_result"
    }
   ],
   "source": [
    "df_studentAssessment.head()"
   ]
  },
  {
   "cell_type": "code",
   "execution_count": 29,
   "metadata": {},
   "outputs": [
    {
     "data": {
      "text/plain": [
       "(173912, 5)"
      ]
     },
     "execution_count": 29,
     "metadata": {},
     "output_type": "execute_result"
    }
   ],
   "source": [
    "df_studentAssessment.shape"
   ]
  },
  {
   "cell_type": "code",
   "execution_count": 30,
   "metadata": {},
   "outputs": [
    {
     "data": {
      "text/plain": [
       "id_assessment       188\n",
       "id_student        23369\n",
       "date_submitted      312\n",
       "is_banked             2\n",
       "score               101\n",
       "dtype: int64"
      ]
     },
     "execution_count": 30,
     "metadata": {},
     "output_type": "execute_result"
    }
   ],
   "source": [
    "df_studentAssessment.nunique()"
   ]
  },
  {
   "cell_type": "code",
   "execution_count": 31,
   "metadata": {},
   "outputs": [
    {
     "data": {
      "text/plain": [
       "id_assessment       int64\n",
       "id_student          int64\n",
       "date_submitted      int64\n",
       "is_banked           int64\n",
       "score             float64\n",
       "dtype: object"
      ]
     },
     "execution_count": 31,
     "metadata": {},
     "output_type": "execute_result"
    }
   ],
   "source": [
    "df_studentAssessment.dtypes"
   ]
  },
  {
   "cell_type": "code",
   "execution_count": 32,
   "metadata": {},
   "outputs": [
    {
     "data": {
      "text/plain": [
       "id_assessment       0\n",
       "id_student          0\n",
       "date_submitted      0\n",
       "is_banked           0\n",
       "score             173\n",
       "dtype: int64"
      ]
     },
     "execution_count": 32,
     "metadata": {},
     "output_type": "execute_result"
    }
   ],
   "source": [
    "df_studentAssessment.isna().sum()"
   ]
  },
  {
   "cell_type": "markdown",
   "metadata": {},
   "source": [
    "- Датафрейм **df_studentAssessment** считан корректно.\n",
    "- Типы значений столбцов соответствуют действительности, изменять типы не требуется.\n",
    "- Количество студентов, которые пытались сдать тест (не факт, что сдали) составляет **23369** человек.\n",
    "- **173** пропущенные оценки означают, что студенты **173** раза (0.7 %) не сдавали тест на оценку (по условию задачи).\n",
    "- Студенты сдают **188** тестов из **206** возможных."
   ]
  },
  {
   "cell_type": "markdown",
   "metadata": {},
   "source": [
    "## Анализ оценок студентов"
   ]
  },
  {
   "cell_type": "code",
   "execution_count": 33,
   "metadata": {},
   "outputs": [
    {
     "data": {
      "text/plain": [
       "count    173739.000000\n",
       "mean         75.799573\n",
       "std          18.798107\n",
       "min           0.000000\n",
       "25%          65.000000\n",
       "50%          80.000000\n",
       "75%          90.000000\n",
       "max         100.000000\n",
       "Name: score, dtype: float64"
      ]
     },
     "execution_count": 33,
     "metadata": {},
     "output_type": "execute_result"
    }
   ],
   "source": [
    "df_studentAssessment['score'].describe()"
   ]
  },
  {
   "cell_type": "code",
   "execution_count": 34,
   "metadata": {},
   "outputs": [
    {
     "data": {
      "image/png": "[encoded data removed]",
      "text/plain": [
       "<Figure size 1080x360 with 1 Axes>"
      ]
     },
     "metadata": {
      "needs_background": "light"
     },
     "output_type": "display_data"
    }
   ],
   "source": [
    "plt.figure(figsize=(15, 5))\n",
    "ax = df_studentAssessment['score'].hist(color='CornflowerBlue', bins=50)\n",
    "ax.set_xlabel('Оценка за тест', fontsize=13)\n",
    "ax.set_ylabel('Количество студентов', fontsize=13)\n",
    "plt.title(\"Распределение оценок за тесты\", fontsize=15)\n",
    "plt.show()"
   ]
  },
  {
   "cell_type": "code",
   "execution_count": 35,
   "metadata": {
    "scrolled": true
   },
   "outputs": [
    {
     "data": {
      "image/png": "[encoded data removed]",
      "text/plain": [
       "<Figure size 1080x360 with 1 Axes>"
      ]
     },
     "metadata": {
      "needs_background": "light"
     },
     "output_type": "display_data"
    }
   ],
   "source": [
    "plt.figure(figsize=(15, 5))\n",
    "ax = sns.boxplot(data=df_studentAssessment, x='score', color='CornflowerBlue')\n",
    "plt.title(\"Распределение оценок за тесты\", fontsize=15)\n",
    "ax.set_xlabel('Оценка за тест', fontsize=13)\n",
    "plt.show()"
   ]
  },
  {
   "cell_type": "markdown",
   "metadata": {},
   "source": [
    "- Из распределения оценок за тесты видно, что большинство студентов успешно сдают тесты на **65 - 90%**\n",
    "- Медианная оценка за тесты составляет **75.8**.\n"
   ]
  },
  {
   "cell_type": "markdown",
   "metadata": {},
   "source": [
    "### Анализ удачных и неудачных попыток сдать тест"
   ]
  },
  {
   "cell_type": "markdown",
   "metadata": {},
   "source": [
    "Количество удачных попыток сдать тест"
   ]
  },
  {
   "cell_type": "code",
   "execution_count": 36,
   "metadata": {},
   "outputs": [
    {
     "data": {
      "text/plain": [
       "164195"
      ]
     },
     "execution_count": 36,
     "metadata": {},
     "output_type": "execute_result"
    }
   ],
   "source": [
    "df_studentAssessment.query('score > 40').shape[0]"
   ]
  },
  {
   "cell_type": "markdown",
   "metadata": {},
   "source": [
    "Количество неудачных попыток сдать тест"
   ]
  },
  {
   "cell_type": "code",
   "execution_count": 37,
   "metadata": {},
   "outputs": [
    {
     "data": {
      "text/plain": [
       "9544"
      ]
     },
     "execution_count": 37,
     "metadata": {},
     "output_type": "execute_result"
    }
   ],
   "source": [
    "df_studentAssessment.query('score <= 40').shape[0]"
   ]
  },
  {
   "cell_type": "markdown",
   "metadata": {},
   "source": [
    "### Анализ несданных тестов\n",
    "\n",
    "Посчитаем количество студентов, которые хотя бы раз не сдавали тест на оценку"
   ]
  },
  {
   "cell_type": "code",
   "execution_count": 38,
   "metadata": {},
   "outputs": [
    {
     "data": {
      "text/plain": [
       "160"
      ]
     },
     "execution_count": 38,
     "metadata": {},
     "output_type": "execute_result"
    }
   ],
   "source": [
    "len(df_studentAssessment[df_studentAssessment.score.isna()].id_student.unique())"
   ]
  },
  {
   "cell_type": "markdown",
   "metadata": {},
   "source": [
    "Посмотрим есть ли студенты, у которых не стоит оценка за тест при перезачёте"
   ]
  },
  {
   "cell_type": "code",
   "execution_count": 39,
   "metadata": {},
   "outputs": [
    {
     "data": {
      "text/html": [
       "<div>\n",
       "<style scoped>\n",
       "    .dataframe tbody tr th:only-of-type {\n",
       "        vertical-align: middle;\n",
       "    }\n",
       "\n",
       "    .dataframe tbody tr th {\n",
       "        vertical-align: top;\n",
       "    }\n",
       "\n",
       "    .dataframe thead th {\n",
       "        text-align: right;\n",
       "    }\n",
       "</style>\n",
       "<table border=\"1\" class=\"dataframe\">\n",
       "  <thead>\n",
       "    <tr style=\"text-align: right;\">\n",
       "      <th></th>\n",
       "      <th>id_student</th>\n",
       "      <th>is_banked</th>\n",
       "      <th>count_tests_without_mark</th>\n",
       "    </tr>\n",
       "  </thead>\n",
       "  <tbody>\n",
       "    <tr>\n",
       "      <th>0</th>\n",
       "      <td>501208</td>\n",
       "      <td>1</td>\n",
       "      <td>1</td>\n",
       "    </tr>\n",
       "  </tbody>\n",
       "</table>\n",
       "</div>"
      ],
      "text/plain": [
       "   id_student  is_banked  count_tests_without_mark\n",
       "0      501208          1                         1"
      ]
     },
     "execution_count": 39,
     "metadata": {},
     "output_type": "execute_result"
    }
   ],
   "source": [
    "df_studentAssessment[df_studentAssessment.score.isna()].query('is_banked == 1')\\\n",
    "                                         .groupby(['id_student', 'is_banked'])\\\n",
    "                                         .agg(count_tests_without_mark=('id_assessment', np.size))\\\n",
    "                                         .reset_index()     "
   ]
  },
  {
   "cell_type": "markdown",
   "metadata": {},
   "source": [
    "Получается, что студент (id 501208) не сдал тест на проверку и ушёл в академический отпуск. Когда он вернулся из академического отпуска, ему перезачли этот результат, т.е. не поставили оценку.  \n",
    "\n",
    "Посчитаем количество студентов в разбивке по количеству несданных тестов на оценку"
   ]
  },
  {
   "cell_type": "code",
   "execution_count": 40,
   "metadata": {},
   "outputs": [
    {
     "data": {
      "text/html": [
       "<div>\n",
       "<style scoped>\n",
       "    .dataframe tbody tr th:only-of-type {\n",
       "        vertical-align: middle;\n",
       "    }\n",
       "\n",
       "    .dataframe tbody tr th {\n",
       "        vertical-align: top;\n",
       "    }\n",
       "\n",
       "    .dataframe thead th {\n",
       "        text-align: right;\n",
       "    }\n",
       "</style>\n",
       "<table border=\"1\" class=\"dataframe\">\n",
       "  <thead>\n",
       "    <tr style=\"text-align: right;\">\n",
       "      <th></th>\n",
       "      <th>count_tests_without_mark</th>\n",
       "      <th>students_count</th>\n",
       "    </tr>\n",
       "  </thead>\n",
       "  <tbody>\n",
       "    <tr>\n",
       "      <th>0</th>\n",
       "      <td>1</td>\n",
       "      <td>149</td>\n",
       "    </tr>\n",
       "    <tr>\n",
       "      <th>1</th>\n",
       "      <td>2</td>\n",
       "      <td>9</td>\n",
       "    </tr>\n",
       "    <tr>\n",
       "      <th>2</th>\n",
       "      <td>3</td>\n",
       "      <td>2</td>\n",
       "    </tr>\n",
       "  </tbody>\n",
       "</table>\n",
       "</div>"
      ],
      "text/plain": [
       "   count_tests_without_mark  students_count\n",
       "0                         1             149\n",
       "1                         2               9\n",
       "2                         3               2"
      ]
     },
     "execution_count": 40,
     "metadata": {},
     "output_type": "execute_result"
    }
   ],
   "source": [
    "df_studentAssessment[df_studentAssessment.score.isna()].groupby('id_student', as_index=False)\\\n",
    "                                                       .id_assessment.count()\\\n",
    "                                                       .groupby('id_assessment', as_index=False)\\\n",
    "                                                       .id_student.count()\\\n",
    "                                                       .rename(columns={'id_assessment': 'count_tests_without_mark', 'id_student': 'students_count'})"
   ]
  },
  {
   "cell_type": "markdown",
   "metadata": {},
   "source": [
    "- Всего **160** студентов (0.7%) хотя бы один раз не сдали тест на оценку.\n",
    "- **1** студент (id 501208) не сдал тест до аккадемического отпуска и этот результат был перезачтён.\n",
    "- **149** студентов не сдавали тест на оценку **1** раз.\n",
    "- **9** студентов не сдавали тест на оценку **2** раза.\n",
    "- **2** студента не сдавали тест на оценку **3** раза. "
   ]
  },
  {
   "cell_type": "markdown",
   "metadata": {},
   "source": [
    "### Анализ количества перезачётов"
   ]
  },
  {
   "cell_type": "markdown",
   "metadata": {},
   "source": [
    "Посчитаем количество перезачётов"
   ]
  },
  {
   "cell_type": "code",
   "execution_count": 41,
   "metadata": {},
   "outputs": [
    {
     "data": {
      "text/plain": [
       "1909"
      ]
     },
     "execution_count": 41,
     "metadata": {},
     "output_type": "execute_result"
    }
   ],
   "source": [
    "df_studentAssessment[df_studentAssessment['is_banked']==1].shape[0]"
   ]
  },
  {
   "cell_type": "markdown",
   "metadata": {},
   "source": [
    "Количество неудачных перезачётов"
   ]
  },
  {
   "cell_type": "code",
   "execution_count": 42,
   "metadata": {},
   "outputs": [
    {
     "data": {
      "text/plain": [
       "88"
      ]
     },
     "execution_count": 42,
     "metadata": {},
     "output_type": "execute_result"
    }
   ],
   "source": [
    "df_studentAssessment[(df_studentAssessment['is_banked']==1)\n",
    "                    & (df_studentAssessment['score']<=40)].shape[0]"
   ]
  },
  {
   "cell_type": "markdown",
   "metadata": {},
   "source": [
    "За **4** семестра было **1909** перезачётов, **88** из которых неудачны (4.6%), т.е. студенты до академического отпуска сдали тесты менее, чем на **40** баллов и этот результат им был перезачтён"
   ]
  },
  {
   "cell_type": "markdown",
   "metadata": {},
   "source": [
    "### Анализ дат сдачи теста"
   ]
  },
  {
   "cell_type": "code",
   "execution_count": 43,
   "metadata": {},
   "outputs": [
    {
     "data": {
      "text/plain": [
       "count    173912.000000\n",
       "mean        116.032942\n",
       "std          71.484148\n",
       "min         -11.000000\n",
       "25%          51.000000\n",
       "50%         116.000000\n",
       "75%         173.000000\n",
       "max         608.000000\n",
       "Name: date_submitted, dtype: float64"
      ]
     },
     "execution_count": 43,
     "metadata": {},
     "output_type": "execute_result"
    }
   ],
   "source": [
    "df_studentAssessment['date_submitted'].describe()"
   ]
  },
  {
   "cell_type": "code",
   "execution_count": 44,
   "metadata": {},
   "outputs": [
    {
     "data": {
      "image/png": "[encoded data removed]",
      "text/plain": [
       "<Figure size 1080x360 with 1 Axes>"
      ]
     },
     "metadata": {
      "needs_background": "light"
     },
     "output_type": "display_data"
    }
   ],
   "source": [
    "plt.figure(figsize=(15, 5))\n",
    "ax = sns.boxplot(data=df_studentAssessment, x='date_submitted', color='LightGreen')\n",
    "plt.title(\"Распределение дат сдачи тестов\")\n",
    "ax.set_xlabel('Количество дней от начала семестра до сдачи теста', fontsize=13)\n",
    "plt.show()"
   ]
  },
  {
   "cell_type": "markdown",
   "metadata": {},
   "source": [
    "В датах сдачи теста наблюдаются отрицателные значения, взглянем на них"
   ]
  },
  {
   "cell_type": "code",
   "execution_count": 45,
   "metadata": {},
   "outputs": [
    {
     "data": {
      "text/plain": [
       "array([ -1,  -4,  -5,  -3,  -6,  -2,  -9, -11,  -7, -10,  -8])"
      ]
     },
     "execution_count": 45,
     "metadata": {},
     "output_type": "execute_result"
    }
   ],
   "source": [
    "df_studentAssessment.query('date_submitted < 0')\\\n",
    "                    ['date_submitted'].unique()"
   ]
  },
  {
   "cell_type": "markdown",
   "metadata": {},
   "source": [
    "Посмотрим на дни сдачи тестов студентами на перезачётах"
   ]
  },
  {
   "cell_type": "code",
   "execution_count": 46,
   "metadata": {},
   "outputs": [
    {
     "data": {
      "text/plain": [
       "array([-1])"
      ]
     },
     "execution_count": 46,
     "metadata": {},
     "output_type": "execute_result"
    }
   ],
   "source": [
    "df_studentAssessment.query('is_banked == 1')\\\n",
    "                    .date_submitted.unique()"
   ]
  },
  {
   "cell_type": "markdown",
   "metadata": {},
   "source": [
    "Получается, что студентам, которым ставится перезачёт, устанавливается дата сдачи **-1**\n",
    "\n",
    "Посмотрим на количество отрицательных дат сдачи тестов, не включая дату **-1**"
   ]
  },
  {
   "cell_type": "code",
   "execution_count": 47,
   "metadata": {},
   "outputs": [
    {
     "data": {
      "text/plain": [
       "130"
      ]
     },
     "execution_count": 47,
     "metadata": {},
     "output_type": "execute_result"
    }
   ],
   "source": [
    "df_studentAssessment.query('date_submitted < -1').sort_values('date_submitted').shape[0]"
   ]
  },
  {
   "cell_type": "markdown",
   "metadata": {},
   "source": [
    "**130** раз студенты сдавали тесты до начала семестра, скорее всего это тоже перезачёты.\n",
    "\n",
    "Посмотрим на данные, где дата сдачи теста превышает максимальное из df_assessments (**269** день)"
   ]
  },
  {
   "cell_type": "code",
   "execution_count": 48,
   "metadata": {},
   "outputs": [
    {
     "data": {
      "text/plain": [
       "73"
      ]
     },
     "execution_count": 48,
     "metadata": {},
     "output_type": "execute_result"
    }
   ],
   "source": [
    "df_studentAssessment.query('date_submitted > 269').shape[0]"
   ]
  },
  {
   "cell_type": "markdown",
   "metadata": {},
   "source": [
    "- В датафрейме присутствует **2057** строк с отрицательными значениями в столбце **date_submitted**.\n",
    "- Дата сдачи перезачтённого теста проставлена, как **-1**\n",
    "- Присутствует **130** случаев (0.1%), когда студенты сдавали тест до начала семестра (возможно это также перезачёты)\n",
    "- **73** раза студенты точно сдали тест позднее дедлайна\n",
    "- Количество удачных попыток сдать тест составляет **164195** (94.4%)\n",
    "- Количество неудачных попыток сдать тест составляет **9544** (5.5%)"
   ]
  },
  {
   "cell_type": "markdown",
   "metadata": {},
   "source": [
    "### 4. Student Registration\n",
    "\n",
    "Датафрейм содержит информацию о времени, когда студент зарегистрировался для прохождения курса в семестре.\n",
    "\n",
    "- **code_module** — предмет (идентификационный код).\n",
    "\n",
    "- **code_presentation** — семестр (идентификационный код)\n",
    "\n",
    "- **id_student** — идентификационный номер студента.\n",
    "\n",
    "- **date_registration** — дата регистрации студента. Это количество дней от начала семестра (например, отрицательное значение -30 означает, что студент зарегистрировался на прохождение курса за 30 дней до его начала).\n",
    "\n",
    "- **date_unregistration** — дата отмены регистрации студента с предмета. У студентов, окончивших курс, это поле остается пустым."
   ]
  },
  {
   "cell_type": "markdown",
   "metadata": {},
   "source": [
    "## Общий анализ"
   ]
  },
  {
   "cell_type": "code",
   "execution_count": 49,
   "metadata": {},
   "outputs": [
    {
     "data": {
      "text/html": [
       "<div>\n",
       "<style scoped>\n",
       "    .dataframe tbody tr th:only-of-type {\n",
       "        vertical-align: middle;\n",
       "    }\n",
       "\n",
       "    .dataframe tbody tr th {\n",
       "        vertical-align: top;\n",
       "    }\n",
       "\n",
       "    .dataframe thead th {\n",
       "        text-align: right;\n",
       "    }\n",
       "</style>\n",
       "<table border=\"1\" class=\"dataframe\">\n",
       "  <thead>\n",
       "    <tr style=\"text-align: right;\">\n",
       "      <th></th>\n",
       "      <th>code_module</th>\n",
       "      <th>code_presentation</th>\n",
       "      <th>id_student</th>\n",
       "      <th>date_registration</th>\n",
       "      <th>date_unregistration</th>\n",
       "    </tr>\n",
       "  </thead>\n",
       "  <tbody>\n",
       "    <tr>\n",
       "      <th>0</th>\n",
       "      <td>AAA</td>\n",
       "      <td>2013J</td>\n",
       "      <td>11391</td>\n",
       "      <td>-159.0</td>\n",
       "      <td>NaN</td>\n",
       "    </tr>\n",
       "    <tr>\n",
       "      <th>1</th>\n",
       "      <td>AAA</td>\n",
       "      <td>2013J</td>\n",
       "      <td>28400</td>\n",
       "      <td>-53.0</td>\n",
       "      <td>NaN</td>\n",
       "    </tr>\n",
       "    <tr>\n",
       "      <th>2</th>\n",
       "      <td>AAA</td>\n",
       "      <td>2013J</td>\n",
       "      <td>30268</td>\n",
       "      <td>-92.0</td>\n",
       "      <td>12.0</td>\n",
       "    </tr>\n",
       "    <tr>\n",
       "      <th>3</th>\n",
       "      <td>AAA</td>\n",
       "      <td>2013J</td>\n",
       "      <td>31604</td>\n",
       "      <td>-52.0</td>\n",
       "      <td>NaN</td>\n",
       "    </tr>\n",
       "    <tr>\n",
       "      <th>4</th>\n",
       "      <td>AAA</td>\n",
       "      <td>2013J</td>\n",
       "      <td>32885</td>\n",
       "      <td>-176.0</td>\n",
       "      <td>NaN</td>\n",
       "    </tr>\n",
       "  </tbody>\n",
       "</table>\n",
       "</div>"
      ],
      "text/plain": [
       "  code_module code_presentation  id_student  date_registration  \\\n",
       "0         AAA             2013J       11391             -159.0   \n",
       "1         AAA             2013J       28400              -53.0   \n",
       "2         AAA             2013J       30268              -92.0   \n",
       "3         AAA             2013J       31604              -52.0   \n",
       "4         AAA             2013J       32885             -176.0   \n",
       "\n",
       "   date_unregistration  \n",
       "0                  NaN  \n",
       "1                  NaN  \n",
       "2                 12.0  \n",
       "3                  NaN  \n",
       "4                  NaN  "
      ]
     },
     "execution_count": 49,
     "metadata": {},
     "output_type": "execute_result"
    }
   ],
   "source": [
    "df_studentRegistration.head()"
   ]
  },
  {
   "cell_type": "code",
   "execution_count": 50,
   "metadata": {},
   "outputs": [
    {
     "data": {
      "text/plain": [
       "(32593, 5)"
      ]
     },
     "execution_count": 50,
     "metadata": {},
     "output_type": "execute_result"
    }
   ],
   "source": [
    "df_studentRegistration.shape"
   ]
  },
  {
   "cell_type": "code",
   "execution_count": 51,
   "metadata": {},
   "outputs": [
    {
     "data": {
      "text/plain": [
       "code_module                7\n",
       "code_presentation          4\n",
       "id_student             28785\n",
       "date_registration        332\n",
       "date_unregistration      416\n",
       "dtype: int64"
      ]
     },
     "execution_count": 51,
     "metadata": {},
     "output_type": "execute_result"
    }
   ],
   "source": [
    "df_studentRegistration.nunique()"
   ]
  },
  {
   "cell_type": "code",
   "execution_count": 52,
   "metadata": {},
   "outputs": [
    {
     "data": {
      "text/plain": [
       "code_module             object\n",
       "code_presentation       object\n",
       "id_student               int64\n",
       "date_registration      float64\n",
       "date_unregistration    float64\n",
       "dtype: object"
      ]
     },
     "execution_count": 52,
     "metadata": {},
     "output_type": "execute_result"
    }
   ],
   "source": [
    "df_studentRegistration.dtypes"
   ]
  },
  {
   "cell_type": "code",
   "execution_count": 53,
   "metadata": {},
   "outputs": [
    {
     "data": {
      "text/plain": [
       "code_module                0\n",
       "code_presentation          0\n",
       "id_student                 0\n",
       "date_registration         45\n",
       "date_unregistration    22521\n",
       "dtype: int64"
      ]
     },
     "execution_count": 53,
     "metadata": {},
     "output_type": "execute_result"
    }
   ],
   "source": [
    "df_studentRegistration.isna().sum()"
   ]
  },
  {
   "cell_type": "code",
   "execution_count": 54,
   "metadata": {},
   "outputs": [
    {
     "data": {
      "text/html": [
       "<div>\n",
       "<style scoped>\n",
       "    .dataframe tbody tr th:only-of-type {\n",
       "        vertical-align: middle;\n",
       "    }\n",
       "\n",
       "    .dataframe tbody tr th {\n",
       "        vertical-align: top;\n",
       "    }\n",
       "\n",
       "    .dataframe thead th {\n",
       "        text-align: right;\n",
       "    }\n",
       "</style>\n",
       "<table border=\"1\" class=\"dataframe\">\n",
       "  <thead>\n",
       "    <tr style=\"text-align: right;\">\n",
       "      <th></th>\n",
       "      <th>date_registration</th>\n",
       "      <th>date_unregistration</th>\n",
       "    </tr>\n",
       "  </thead>\n",
       "  <tbody>\n",
       "    <tr>\n",
       "      <th>count</th>\n",
       "      <td>32548.000000</td>\n",
       "      <td>10072.000000</td>\n",
       "    </tr>\n",
       "    <tr>\n",
       "      <th>mean</th>\n",
       "      <td>-69.411300</td>\n",
       "      <td>49.757645</td>\n",
       "    </tr>\n",
       "    <tr>\n",
       "      <th>std</th>\n",
       "      <td>49.260522</td>\n",
       "      <td>82.460890</td>\n",
       "    </tr>\n",
       "    <tr>\n",
       "      <th>min</th>\n",
       "      <td>-322.000000</td>\n",
       "      <td>-365.000000</td>\n",
       "    </tr>\n",
       "    <tr>\n",
       "      <th>25%</th>\n",
       "      <td>-100.000000</td>\n",
       "      <td>-2.000000</td>\n",
       "    </tr>\n",
       "    <tr>\n",
       "      <th>50%</th>\n",
       "      <td>-57.000000</td>\n",
       "      <td>27.000000</td>\n",
       "    </tr>\n",
       "    <tr>\n",
       "      <th>75%</th>\n",
       "      <td>-29.000000</td>\n",
       "      <td>109.000000</td>\n",
       "    </tr>\n",
       "    <tr>\n",
       "      <th>max</th>\n",
       "      <td>167.000000</td>\n",
       "      <td>444.000000</td>\n",
       "    </tr>\n",
       "  </tbody>\n",
       "</table>\n",
       "</div>"
      ],
      "text/plain": [
       "       date_registration  date_unregistration\n",
       "count       32548.000000         10072.000000\n",
       "mean          -69.411300            49.757645\n",
       "std            49.260522            82.460890\n",
       "min          -322.000000          -365.000000\n",
       "25%          -100.000000            -2.000000\n",
       "50%           -57.000000            27.000000\n",
       "75%           -29.000000           109.000000\n",
       "max           167.000000           444.000000"
      ]
     },
     "execution_count": 54,
     "metadata": {},
     "output_type": "execute_result"
    }
   ],
   "source": [
    "df_studentRegistration[['date_registration', 'date_unregistration']].describe()"
   ]
  },
  {
   "cell_type": "markdown",
   "metadata": {},
   "source": [
    "В датафрейме **df_studentRegistration** обнаружено **45** пропущенных дат регистрации. Предположим, что это ошибка в данных.\n",
    "\n",
    "Посчитаем среднее количество дней от даты регистрации до начала семестра"
   ]
  },
  {
   "cell_type": "code",
   "execution_count": 55,
   "metadata": {},
   "outputs": [],
   "source": [
    "Registration_mean = round(df_studentRegistration.date_registration.median())"
   ]
  },
  {
   "cell_type": "markdown",
   "metadata": {},
   "source": [
    "Заполним отсутствующие значения столбца **date_registration**, где дата отмены регистрации отсутствует, значением **Registration_mean**. Выведем оставшееся количество пропущенных дат регистрации."
   ]
  },
  {
   "cell_type": "code",
   "execution_count": 56,
   "metadata": {},
   "outputs": [
    {
     "data": {
      "text/plain": [
       "39"
      ]
     },
     "execution_count": 56,
     "metadata": {},
     "output_type": "execute_result"
    }
   ],
   "source": [
    "df_studentRegistration.loc[(df_studentRegistration.date_registration.isna()) \n",
    "                           & (df_studentRegistration.date_unregistration.isna()), 'date_registration'] = Registration_mean\n",
    "df_studentRegistration[df_studentRegistration.date_registration.isna()].shape[0]"
   ]
  },
  {
   "cell_type": "markdown",
   "metadata": {},
   "source": [
    "Посчитаем среднее количество дней от даты регистрации до даты отмены регистрации "
   ]
  },
  {
   "cell_type": "code",
   "execution_count": 57,
   "metadata": {},
   "outputs": [],
   "source": [
    "registration = df_studentRegistration.date_registration\n",
    "unregistration = df_studentRegistration.date_unregistration\n",
    "between_registration_unregistration = round((unregistration - registration).median())"
   ]
  },
  {
   "cell_type": "markdown",
   "metadata": {},
   "source": [
    "Заполним оставшиеся отсутствующие значения дат регистраций (т.е. строки, где значения дат отмен регистраций установлено), значением **between_registration_unregistration**"
   ]
  },
  {
   "cell_type": "code",
   "execution_count": 58,
   "metadata": {},
   "outputs": [],
   "source": [
    "df_studentRegistration['date_registration'] = df_studentRegistration['date_registration'].fillna(df_studentRegistration['date_unregistration'] - between_registration_unregistration)"
   ]
  },
  {
   "cell_type": "code",
   "execution_count": 59,
   "metadata": {},
   "outputs": [
    {
     "data": {
      "text/plain": [
       "code_module                0\n",
       "code_presentation          0\n",
       "id_student                 0\n",
       "date_registration          0\n",
       "date_unregistration    22521\n",
       "dtype: int64"
      ]
     },
     "execution_count": 59,
     "metadata": {},
     "output_type": "execute_result"
    }
   ],
   "source": [
    "df_studentRegistration.isna().sum()"
   ]
  },
  {
   "cell_type": "markdown",
   "metadata": {},
   "source": [
    "## Анализ регистраций и отмен регистраций\n",
    "\n",
    "### Анализ регистраций\n",
    "\n",
    "Посмотрим на распределение дней регистрации на предмет"
   ]
  },
  {
   "cell_type": "code",
   "execution_count": 60,
   "metadata": {},
   "outputs": [
    {
     "data": {
      "image/png": "[encoded data removed]",
      "text/plain": [
       "<Figure size 1080x720 with 2 Axes>"
      ]
     },
     "metadata": {
      "needs_background": "light"
     },
     "output_type": "display_data"
    }
   ],
   "source": [
    "registration_color = 'DarkCyan'\n",
    "\n",
    "fig, axs = plt.subplots(2, 1, figsize=(15, 10))\n",
    "\n",
    "df_studentRegistration.date_registration.hist(bins=60, color=registration_color, ax=axs[0])\n",
    "axs[0].set_title('Распределение дней регистрации на курс', fontsize=15)\n",
    "axs[0].set_xlabel('Количество дней от даты начала семестра до даты регистрации на курс', fontsize=13)\n",
    "\n",
    "sns.boxplot(data=df_studentRegistration, x='date_registration', color=registration_color, ax=axs[1])\n",
    "axs[1].set_xlabel('Количество дней от даты начала семестра до даты регистрации на курс', fontsize=13)\n",
    "\n",
    "plt.show()"
   ]
  },
  {
   "cell_type": "markdown",
   "metadata": {},
   "source": [
    "Исходя из распредления дней регистрации на курс можно сделать вывод: чем ближе дата начала семестра, тем больше людей регистрируется на него. Все студенты регистрируются на предметы не позднее, чем длительность семестров."
   ]
  },
  {
   "cell_type": "markdown",
   "metadata": {},
   "source": [
    "### Анализ отмен регистраций\n",
    "Посмотрим на распределение дней отмен регистрации на предмет"
   ]
  },
  {
   "cell_type": "code",
   "execution_count": 61,
   "metadata": {},
   "outputs": [
    {
     "data": {
      "image/png": "[encoded data removed]",
      "text/plain": [
       "<Figure size 1080x720 with 2 Axes>"
      ]
     },
     "metadata": {
      "needs_background": "light"
     },
     "output_type": "display_data"
    }
   ],
   "source": [
    "unregistration_color = 'Tomato'\n",
    "\n",
    "fig, axs = plt.subplots(2, 1, figsize=(15, 10))\n",
    "\n",
    "df_studentRegistration.date_unregistration.hist(bins=60, color=unregistration_color, ax=axs[0])\n",
    "axs[0].set_title('Распределение дней отмен регистраций на предмет', fontsize=15)\n",
    "axs[0].set_xlabel('Количество дней от даты начала семестра до даты отмены регистрации на курс', fontsize=13)\n",
    "\n",
    "sns.boxplot(data=df_studentRegistration, x='date_unregistration', color=unregistration_color, ax=axs[1])\n",
    "axs[1].set_xlabel('Количество дней от даты начала семестра до даты отмены регистрации на курс', fontsize=13)\n",
    "\n",
    "plt.show()"
   ]
  },
  {
   "cell_type": "markdown",
   "metadata": {},
   "source": [
    "Исходя из распределения дней отмены регистраций на предмет можно сделать вывод, что максимальное количество студентов отменяют регистрацию в начале обучения. \n",
    "\n",
    "Выведем студента, который отменил регистрацию позднее, чем максимальная продолжительность семестра (**269** дней)"
   ]
  },
  {
   "cell_type": "code",
   "execution_count": 62,
   "metadata": {},
   "outputs": [
    {
     "data": {
      "text/html": [
       "<div>\n",
       "<style scoped>\n",
       "    .dataframe tbody tr th:only-of-type {\n",
       "        vertical-align: middle;\n",
       "    }\n",
       "\n",
       "    .dataframe tbody tr th {\n",
       "        vertical-align: top;\n",
       "    }\n",
       "\n",
       "    .dataframe thead th {\n",
       "        text-align: right;\n",
       "    }\n",
       "</style>\n",
       "<table border=\"1\" class=\"dataframe\">\n",
       "  <thead>\n",
       "    <tr style=\"text-align: right;\">\n",
       "      <th></th>\n",
       "      <th>code_module</th>\n",
       "      <th>code_presentation</th>\n",
       "      <th>id_student</th>\n",
       "      <th>date_registration</th>\n",
       "      <th>date_unregistration</th>\n",
       "    </tr>\n",
       "  </thead>\n",
       "  <tbody>\n",
       "    <tr>\n",
       "      <th>25249</th>\n",
       "      <td>FFF</td>\n",
       "      <td>2013J</td>\n",
       "      <td>586851</td>\n",
       "      <td>-22.0</td>\n",
       "      <td>444.0</td>\n",
       "    </tr>\n",
       "  </tbody>\n",
       "</table>\n",
       "</div>"
      ],
      "text/plain": [
       "      code_module code_presentation  id_student  date_registration  \\\n",
       "25249         FFF             2013J      586851              -22.0   \n",
       "\n",
       "       date_unregistration  \n",
       "25249                444.0  "
      ]
     },
     "execution_count": 62,
     "metadata": {},
     "output_type": "execute_result"
    }
   ],
   "source": [
    "df_studentRegistration.query('date_unregistration > 269')"
   ]
  },
  {
   "cell_type": "markdown",
   "metadata": {},
   "source": [
    "Данный студент отменил регистрацию на предмет позднее продолжительности семестра. Возможно, он уходил в академический отпуск, и после возвращения отменил регистрацию."
   ]
  },
  {
   "cell_type": "markdown",
   "metadata": {},
   "source": [
    "### Анализ регистраций и их отмен студентами"
   ]
  },
  {
   "cell_type": "markdown",
   "metadata": {},
   "source": [
    "Посчитаем для каждого студента количество регистраций и количество отмен регистраций, затем вычтем из количества регистраций количество отмен регистраций. "
   ]
  },
  {
   "cell_type": "code",
   "execution_count": 63,
   "metadata": {},
   "outputs": [
    {
     "data": {
      "text/html": [
       "<div>\n",
       "<style scoped>\n",
       "    .dataframe tbody tr th:only-of-type {\n",
       "        vertical-align: middle;\n",
       "    }\n",
       "\n",
       "    .dataframe tbody tr th {\n",
       "        vertical-align: top;\n",
       "    }\n",
       "\n",
       "    .dataframe thead th {\n",
       "        text-align: right;\n",
       "    }\n",
       "</style>\n",
       "<table border=\"1\" class=\"dataframe\">\n",
       "  <thead>\n",
       "    <tr style=\"text-align: right;\">\n",
       "      <th></th>\n",
       "      <th>id_student</th>\n",
       "      <th>date_registration</th>\n",
       "      <th>date_unregistration</th>\n",
       "      <th>result_registration</th>\n",
       "    </tr>\n",
       "  </thead>\n",
       "  <tbody>\n",
       "    <tr>\n",
       "      <th>0</th>\n",
       "      <td>3733</td>\n",
       "      <td>1.0</td>\n",
       "      <td>1.0</td>\n",
       "      <td>0.0</td>\n",
       "    </tr>\n",
       "    <tr>\n",
       "      <th>18738</th>\n",
       "      <td>623548</td>\n",
       "      <td>1.0</td>\n",
       "      <td>1.0</td>\n",
       "      <td>0.0</td>\n",
       "    </tr>\n",
       "    <tr>\n",
       "      <th>18737</th>\n",
       "      <td>623542</td>\n",
       "      <td>1.0</td>\n",
       "      <td>0.0</td>\n",
       "      <td>1.0</td>\n",
       "    </tr>\n",
       "    <tr>\n",
       "      <th>18736</th>\n",
       "      <td>623541</td>\n",
       "      <td>1.0</td>\n",
       "      <td>0.0</td>\n",
       "      <td>1.0</td>\n",
       "    </tr>\n",
       "    <tr>\n",
       "      <th>18735</th>\n",
       "      <td>623537</td>\n",
       "      <td>1.0</td>\n",
       "      <td>0.0</td>\n",
       "      <td>1.0</td>\n",
       "    </tr>\n",
       "  </tbody>\n",
       "</table>\n",
       "</div>"
      ],
      "text/plain": [
       "       id_student  date_registration  date_unregistration  result_registration\n",
       "0            3733                1.0                  1.0                  0.0\n",
       "18738      623548                1.0                  1.0                  0.0\n",
       "18737      623542                1.0                  0.0                  1.0\n",
       "18736      623541                1.0                  0.0                  1.0\n",
       "18735      623537                1.0                  0.0                  1.0"
      ]
     },
     "execution_count": 63,
     "metadata": {},
     "output_type": "execute_result"
    }
   ],
   "source": [
    "Registration_unregistration =  df_studentRegistration.groupby('id_student', as_index=False)\\\n",
    "                                                     .agg({'date_registration': lambda x: len(pd.Series(x).dropna()),\n",
    "                                                           'date_unregistration': lambda x: len(pd.Series(x).dropna())})\\\n",
    "                                                     .sort_values('date_registration')\n",
    "                            \n",
    "Registration_unregistration['result_registration'] = Registration_unregistration['date_registration'] - Registration_unregistration['date_unregistration']\n",
    "Registration_unregistration.head()"
   ]
  },
  {
   "cell_type": "markdown",
   "metadata": {},
   "source": [
    "Сгруппируем датафрейм по результирующему количеству регистраций и посчитаем количество студентов. Таким образом узнаем общее количество студентов, которые продолжают учиться, либо завершили обучение."
   ]
  },
  {
   "cell_type": "code",
   "execution_count": 64,
   "metadata": {},
   "outputs": [
    {
     "data": {
      "text/html": [
       "<div>\n",
       "<style scoped>\n",
       "    .dataframe tbody tr th:only-of-type {\n",
       "        vertical-align: middle;\n",
       "    }\n",
       "\n",
       "    .dataframe tbody tr th {\n",
       "        vertical-align: top;\n",
       "    }\n",
       "\n",
       "    .dataframe thead th {\n",
       "        text-align: right;\n",
       "    }\n",
       "</style>\n",
       "<table border=\"1\" class=\"dataframe\">\n",
       "  <thead>\n",
       "    <tr style=\"text-align: right;\">\n",
       "      <th></th>\n",
       "      <th>result_registration</th>\n",
       "      <th>studens_count</th>\n",
       "    </tr>\n",
       "  </thead>\n",
       "  <tbody>\n",
       "    <tr>\n",
       "      <th>0</th>\n",
       "      <td>0.0</td>\n",
       "      <td>7595</td>\n",
       "    </tr>\n",
       "    <tr>\n",
       "      <th>1</th>\n",
       "      <td>1.0</td>\n",
       "      <td>19868</td>\n",
       "    </tr>\n",
       "    <tr>\n",
       "      <th>2</th>\n",
       "      <td>2.0</td>\n",
       "      <td>1313</td>\n",
       "    </tr>\n",
       "    <tr>\n",
       "      <th>3</th>\n",
       "      <td>3.0</td>\n",
       "      <td>9</td>\n",
       "    </tr>\n",
       "  </tbody>\n",
       "</table>\n",
       "</div>"
      ],
      "text/plain": [
       "   result_registration  studens_count\n",
       "0                  0.0           7595\n",
       "1                  1.0          19868\n",
       "2                  2.0           1313\n",
       "3                  3.0              9"
      ]
     },
     "execution_count": 64,
     "metadata": {},
     "output_type": "execute_result"
    }
   ],
   "source": [
    "Res_regestration = Registration_unregistration.groupby('result_registration', as_index=False)\\\n",
    "                                              .agg(studens_count=('id_student', np.size))\n",
    "Res_regestration"
   ]
  },
  {
   "cell_type": "markdown",
   "metadata": {},
   "source": [
    "Посчитаем количество студентов, которые продолжают учиться, либо завершили обучение."
   ]
  },
  {
   "cell_type": "code",
   "execution_count": 65,
   "metadata": {},
   "outputs": [
    {
     "data": {
      "text/plain": [
       "21190"
      ]
     },
     "execution_count": 65,
     "metadata": {},
     "output_type": "execute_result"
    }
   ],
   "source": [
    "Res_regestration.query('result_registration != 0').studens_count.sum()"
   ]
  },
  {
   "cell_type": "markdown",
   "metadata": {},
   "source": [
    "- В датафрейме **df_studentRegistration** пропущены **22521** дат отмены регистрации\n",
    "- Полностью отменили обучение **7595** студентов (26.39%)\n",
    "- Количество студентов, которые либо завершили обучение, либо учатся до сих пор (т.е. не отменили регистрацию) составляет **21190** (73.61%) из них:\n",
    " - Обучаются/закончили обучение на одном предмете - **19868** студентов (69.02%)\n",
    " - На двух предметах - **1313** студентов (4.56%)\n",
    " - На трёх предметах - **9** студентов (0.03%)"
   ]
  },
  {
   "cell_type": "markdown",
   "metadata": {},
   "source": [
    "### Количество регистраций и отмен регистраций по семестрам и предметам"
   ]
  },
  {
   "cell_type": "markdown",
   "metadata": {},
   "source": [
    "Посмотрим на количество регистраций в каждом семестре по каждому предмету"
   ]
  },
  {
   "cell_type": "code",
   "execution_count": 66,
   "metadata": {},
   "outputs": [
    {
     "data": {
      "text/html": [
       "<div>\n",
       "<style scoped>\n",
       "    .dataframe tbody tr th:only-of-type {\n",
       "        vertical-align: middle;\n",
       "    }\n",
       "\n",
       "    .dataframe tbody tr th {\n",
       "        vertical-align: top;\n",
       "    }\n",
       "\n",
       "    .dataframe thead th {\n",
       "        text-align: right;\n",
       "    }\n",
       "</style>\n",
       "<table border=\"1\" class=\"dataframe\">\n",
       "  <thead>\n",
       "    <tr style=\"text-align: right;\">\n",
       "      <th>code_module</th>\n",
       "      <th>AAA</th>\n",
       "      <th>BBB</th>\n",
       "      <th>CCC</th>\n",
       "      <th>DDD</th>\n",
       "      <th>EEE</th>\n",
       "      <th>FFF</th>\n",
       "      <th>GGG</th>\n",
       "    </tr>\n",
       "    <tr>\n",
       "      <th>code_presentation</th>\n",
       "      <th></th>\n",
       "      <th></th>\n",
       "      <th></th>\n",
       "      <th></th>\n",
       "      <th></th>\n",
       "      <th></th>\n",
       "      <th></th>\n",
       "    </tr>\n",
       "  </thead>\n",
       "  <tbody>\n",
       "    <tr>\n",
       "      <th>2013B</th>\n",
       "      <td>0.0</td>\n",
       "      <td>1767.0</td>\n",
       "      <td>0.0</td>\n",
       "      <td>1303.0</td>\n",
       "      <td>0.0</td>\n",
       "      <td>1614.0</td>\n",
       "      <td>0.0</td>\n",
       "    </tr>\n",
       "    <tr>\n",
       "      <th>2013J</th>\n",
       "      <td>383.0</td>\n",
       "      <td>2237.0</td>\n",
       "      <td>0.0</td>\n",
       "      <td>1938.0</td>\n",
       "      <td>1052.0</td>\n",
       "      <td>2283.0</td>\n",
       "      <td>952.0</td>\n",
       "    </tr>\n",
       "    <tr>\n",
       "      <th>2014B</th>\n",
       "      <td>0.0</td>\n",
       "      <td>1613.0</td>\n",
       "      <td>1936.0</td>\n",
       "      <td>1228.0</td>\n",
       "      <td>694.0</td>\n",
       "      <td>1500.0</td>\n",
       "      <td>833.0</td>\n",
       "    </tr>\n",
       "    <tr>\n",
       "      <th>2014J</th>\n",
       "      <td>365.0</td>\n",
       "      <td>2292.0</td>\n",
       "      <td>2498.0</td>\n",
       "      <td>1803.0</td>\n",
       "      <td>1188.0</td>\n",
       "      <td>2365.0</td>\n",
       "      <td>749.0</td>\n",
       "    </tr>\n",
       "  </tbody>\n",
       "</table>\n",
       "</div>"
      ],
      "text/plain": [
       "code_module          AAA     BBB     CCC     DDD     EEE     FFF    GGG\n",
       "code_presentation                                                      \n",
       "2013B                0.0  1767.0     0.0  1303.0     0.0  1614.0    0.0\n",
       "2013J              383.0  2237.0     0.0  1938.0  1052.0  2283.0  952.0\n",
       "2014B                0.0  1613.0  1936.0  1228.0   694.0  1500.0  833.0\n",
       "2014J              365.0  2292.0  2498.0  1803.0  1188.0  2365.0  749.0"
      ]
     },
     "execution_count": 66,
     "metadata": {},
     "output_type": "execute_result"
    }
   ],
   "source": [
    "df_studentRegistration.groupby(['code_presentation', 'code_module'])\\\n",
    "                      .date_registration.count()\\\n",
    "                      .unstack()\\\n",
    "                      .fillna(0)"
   ]
  },
  {
   "cell_type": "markdown",
   "metadata": {},
   "source": [
    "Посмотрим на количество регистраций в каждом семестре по каждому предмету"
   ]
  },
  {
   "cell_type": "code",
   "execution_count": 67,
   "metadata": {},
   "outputs": [
    {
     "data": {
      "text/html": [
       "<div>\n",
       "<style scoped>\n",
       "    .dataframe tbody tr th:only-of-type {\n",
       "        vertical-align: middle;\n",
       "    }\n",
       "\n",
       "    .dataframe tbody tr th {\n",
       "        vertical-align: top;\n",
       "    }\n",
       "\n",
       "    .dataframe thead th {\n",
       "        text-align: right;\n",
       "    }\n",
       "</style>\n",
       "<table border=\"1\" class=\"dataframe\">\n",
       "  <thead>\n",
       "    <tr style=\"text-align: right;\">\n",
       "      <th>code_module</th>\n",
       "      <th>AAA</th>\n",
       "      <th>BBB</th>\n",
       "      <th>CCC</th>\n",
       "      <th>DDD</th>\n",
       "      <th>EEE</th>\n",
       "      <th>FFF</th>\n",
       "      <th>GGG</th>\n",
       "    </tr>\n",
       "    <tr>\n",
       "      <th>code_presentation</th>\n",
       "      <th></th>\n",
       "      <th></th>\n",
       "      <th></th>\n",
       "      <th></th>\n",
       "      <th></th>\n",
       "      <th></th>\n",
       "      <th></th>\n",
       "    </tr>\n",
       "  </thead>\n",
       "  <tbody>\n",
       "    <tr>\n",
       "      <th>2013B</th>\n",
       "      <td>0.0</td>\n",
       "      <td>505.0</td>\n",
       "      <td>0.0</td>\n",
       "      <td>431.0</td>\n",
       "      <td>0.0</td>\n",
       "      <td>411.0</td>\n",
       "      <td>0.0</td>\n",
       "    </tr>\n",
       "    <tr>\n",
       "      <th>2013J</th>\n",
       "      <td>60.0</td>\n",
       "      <td>647.0</td>\n",
       "      <td>0.0</td>\n",
       "      <td>684.0</td>\n",
       "      <td>243.0</td>\n",
       "      <td>677.0</td>\n",
       "      <td>65.0</td>\n",
       "    </tr>\n",
       "    <tr>\n",
       "      <th>2014B</th>\n",
       "      <td>0.0</td>\n",
       "      <td>489.0</td>\n",
       "      <td>898.0</td>\n",
       "      <td>489.0</td>\n",
       "      <td>173.0</td>\n",
       "      <td>461.0</td>\n",
       "      <td>100.0</td>\n",
       "    </tr>\n",
       "    <tr>\n",
       "      <th>2014J</th>\n",
       "      <td>66.0</td>\n",
       "      <td>736.0</td>\n",
       "      <td>1049.0</td>\n",
       "      <td>631.0</td>\n",
       "      <td>302.0</td>\n",
       "      <td>831.0</td>\n",
       "      <td>124.0</td>\n",
       "    </tr>\n",
       "  </tbody>\n",
       "</table>\n",
       "</div>"
      ],
      "text/plain": [
       "code_module         AAA    BBB     CCC    DDD    EEE    FFF    GGG\n",
       "code_presentation                                                 \n",
       "2013B               0.0  505.0     0.0  431.0    0.0  411.0    0.0\n",
       "2013J              60.0  647.0     0.0  684.0  243.0  677.0   65.0\n",
       "2014B               0.0  489.0   898.0  489.0  173.0  461.0  100.0\n",
       "2014J              66.0  736.0  1049.0  631.0  302.0  831.0  124.0"
      ]
     },
     "execution_count": 67,
     "metadata": {},
     "output_type": "execute_result"
    }
   ],
   "source": [
    "df_studentRegistration.groupby(['code_presentation', 'code_module'])\\\n",
    "                      .date_unregistration.count()\\\n",
    "                      .unstack()\\\n",
    "                      .fillna(0)"
   ]
  },
  {
   "cell_type": "markdown",
   "metadata": {},
   "source": [
    "Студенты регистрируются и отменяют регистрации на все возможные предметы в каждом семестре."
   ]
  },
  {
   "cell_type": "markdown",
   "metadata": {},
   "source": [
    "# ВЫВОДЫ ПО АНАЛИЗУ:\n",
    "\n",
    "1. **4 семестра** (2013J, 2014J, 2013B и 2014B) включают в себя **7 предметов** (AAA, BBB, CCC, DDD, EEE, FFF и GGG), по которым проводится **206 различных тестов**, разбитых на **3 типа** (TMA, Exam и CMA)\n",
    "- Исходя из проведённого анализа под термином **курс** будем понимать один предмет в одном семестре, который состоит из различного количества тестов **CMA**, **TMA** и заключительного экзамена **Exam**.\n",
    "- Курсы длятся в среднем **262** дня (**больше, чем полгода**)\n",
    "- Для каждого курса сумма весов тестов **CMA** и **TMA** равна **100%**. Вес экзамена составляет **100%**\n",
    "- Курсы **2014B_ССС** и **2014J_ССС** включают в себя по 2 экзамена, вес каждого из них составляет **100**%\n",
    "- Если для конкретного теста указан вес (не равный 0), будем считать его обязательным\n",
    "- Большой размах количества дней для сдачи тестов **CMA** и **TMA** обусловлен тем, что тесты сдаются на протяжении всего курса.\n",
    "- Количество студентов, которые зарегистрировались на прохождение курса составляет **28785** человек\n",
    "- 7595 студентов (26.39%) полностью отменили обучение \n",
    "- Количество студентов, которые либо завершили обучение, либо учатся до сих пор (т.е. не отменили регистрацию как минимум на один курс) составляет **21190** человек (73.61%) из них:\n",
    " - Обучаются/закончили обучение на одном курсе - **19868** студентов (69.02%)\n",
    " - На двух курсах - **1313** студентов (4.56%)\n",
    " - На трёх курсах - **9** студентов (0.03%)\n",
    "- Медианная оценка за тесты составляет **75.8**%.\n",
    "- Количество удачных попыток сдать тест составляет **164195** (94.4%) \n",
    "- Количество неудачных попыток сдать тест составляет **9544** (5.5%)\n",
    "- Студенты не сдавали тест на оценку **173** раза (0.1%)\n",
    "- В датафрейме **df_assessments** пропущены **11** дедлайнов сдачи экзаменов, заполним их продолжительностью семестра, в котором присутствует данный экзамен."
   ]
  },
  {
   "cell_type": "markdown",
   "metadata": {},
   "source": [
    "# Предобработка датафреймов"
   ]
  },
  {
   "cell_type": "markdown",
   "metadata": {},
   "source": [
    "Посмотрим на типы тестов в датафрейме **df_studentAssessment**, у которых отсутствуют оценки. \n",
    "\n",
    "Объединим датафреймы **df_studentAssessment** и **df_assessments** и выведем уникальные значения столбца **assessment_type**"
   ]
  },
  {
   "cell_type": "code",
   "execution_count": 68,
   "metadata": {},
   "outputs": [
    {
     "data": {
      "text/plain": [
       "array(['TMA'], dtype=object)"
      ]
     },
     "execution_count": 68,
     "metadata": {},
     "output_type": "execute_result"
    }
   ],
   "source": [
    "df_studentAssessment[df_studentAssessment.score.isna()].merge(df_assessments, on='id_assessment', how='left')\\\n",
    "                                                       .assessment_type.unique()"
   ]
  },
  {
   "cell_type": "markdown",
   "metadata": {},
   "source": [
    "Тип всех несданных тестов - **TMA**\n",
    "\n",
    "Добавим в датафреймы **Assessments**, **Courses**, **studentRegistration** колонку с наименованием курса **code_course**, которая будет иметь вид:\n",
    "\n",
    "**code presentation_code module**"
   ]
  },
  {
   "cell_type": "code",
   "execution_count": 69,
   "metadata": {},
   "outputs": [],
   "source": [
    "df_assessments['code_course'] = df_assessments['code_presentation'] + '_' + df_assessments['code_module']\n",
    "df_courses['code_course'] = df_courses['code_presentation'] + '_' + df_courses['code_module']\n",
    "df_studentRegistration['code_course'] = df_studentRegistration['code_presentation'] + '_' + df_studentRegistration['code_module']"
   ]
  },
  {
   "cell_type": "markdown",
   "metadata": {},
   "source": [
    "В датафрейме **df_assessments** пропущенные дедлайны для экзаменов за курс заполним продолжительностью семестра, в котором присутствует данный экзамен. "
   ]
  },
  {
   "cell_type": "code",
   "execution_count": 70,
   "metadata": {},
   "outputs": [],
   "source": [
    "df_merge = df_assessments.merge(df_courses, on=['code_module', 'code_presentation'], how='left')\n",
    "df_merge['deadline'] = df_merge['deadline'].fillna(df_merge['module_presentation_length'])\n",
    "df_assessments['deadline'] = df_merge['deadline']"
   ]
  },
  {
   "cell_type": "markdown",
   "metadata": {},
   "source": [
    "Проверим остались ли пропущенные дедлайны тестов"
   ]
  },
  {
   "cell_type": "code",
   "execution_count": 71,
   "metadata": {},
   "outputs": [
    {
     "data": {
      "text/plain": [
       "0"
      ]
     },
     "execution_count": 71,
     "metadata": {},
     "output_type": "execute_result"
    }
   ],
   "source": [
    "df_assessments['deadline'].isna().sum()"
   ]
  },
  {
   "cell_type": "markdown",
   "metadata": {},
   "source": [
    "В датафрейме **df_studentAssessment** **130** дат сдачи тестов меньше **-1**, предположим, что это ошибка в данных и данные оценки устанавливаются перезачётом. Установим для этих строк дату сдачи теста **date_submitted** - **-1** и в столбец **is_banked** - запишем **1**"
   ]
  },
  {
   "cell_type": "code",
   "execution_count": 72,
   "metadata": {},
   "outputs": [
    {
     "name": "stdout",
     "output_type": "stream",
     "text": [
      "Количество дат меньше 0: 2057\n",
      "Количество перезачётов: 1909\n",
      "Количество строк в датафрейме: 173912\n"
     ]
    }
   ],
   "source": [
    "# Для самопроверки смотрим количество дат меньше -1, количество перезачётов и количество строк в датафрейме\n",
    "print('Количество дат меньше 0:', df_studentAssessment.query('date_submitted <= -1').shape[0])\n",
    "print('Количество перезачётов:', df_studentAssessment.query('is_banked == 1').shape[0])\n",
    "print('Количество строк в датафрейме:', df_studentAssessment.shape[0])"
   ]
  },
  {
   "cell_type": "code",
   "execution_count": 73,
   "metadata": {},
   "outputs": [],
   "source": [
    "df_studentAssessment.loc[df_studentAssessment['date_submitted'] <= -1, 'is_banked'] = 1\n",
    "df_studentAssessment.loc[df_studentAssessment['is_banked'] == 1, 'date_submitted'] = -1"
   ]
  },
  {
   "cell_type": "code",
   "execution_count": 74,
   "metadata": {},
   "outputs": [
    {
     "name": "stdout",
     "output_type": "stream",
     "text": [
      "Количество дат меньше 0: 2057\n",
      "Количество перезачётов: 2057\n",
      "Количество строк в датафрейме: 173912\n"
     ]
    }
   ],
   "source": [
    "print('Количество дат меньше 0:', df_studentAssessment.query('date_submitted == -1').shape[0])\n",
    "print('Количество перезачётов:', df_studentAssessment.query('is_banked == 1').shape[0])\n",
    "print('Количество строк в датафрейме:', df_studentAssessment.shape[0])"
   ]
  },
  {
   "cell_type": "markdown",
   "metadata": {},
   "source": [
    "Из анализа датафрейма **df_studentAssessment** мы выяснили, что студенты сдают **188** тестов из **206** возможных, посмотрим какие тесты студенты не сдают. Для этого выведем датафрейм **df_assessments**, в который не будут входить тесты из датафрейма **df_studentAssessment**."
   ]
  },
  {
   "cell_type": "code",
   "execution_count": 75,
   "metadata": {},
   "outputs": [
    {
     "data": {
      "text/html": [
       "<div>\n",
       "<style scoped>\n",
       "    .dataframe tbody tr th:only-of-type {\n",
       "        vertical-align: middle;\n",
       "    }\n",
       "\n",
       "    .dataframe tbody tr th {\n",
       "        vertical-align: top;\n",
       "    }\n",
       "\n",
       "    .dataframe thead th {\n",
       "        text-align: right;\n",
       "    }\n",
       "</style>\n",
       "<table border=\"1\" class=\"dataframe\">\n",
       "  <thead>\n",
       "    <tr style=\"text-align: right;\">\n",
       "      <th></th>\n",
       "      <th>code_module</th>\n",
       "      <th>code_presentation</th>\n",
       "      <th>id_assessment</th>\n",
       "      <th>assessment_type</th>\n",
       "      <th>deadline</th>\n",
       "      <th>weight</th>\n",
       "      <th>code_course</th>\n",
       "    </tr>\n",
       "  </thead>\n",
       "  <tbody>\n",
       "    <tr>\n",
       "      <th>5</th>\n",
       "      <td>AAA</td>\n",
       "      <td>2013J</td>\n",
       "      <td>1757</td>\n",
       "      <td>Exam</td>\n",
       "      <td>268.0</td>\n",
       "      <td>100.0</td>\n",
       "      <td>2013J_AAA</td>\n",
       "    </tr>\n",
       "    <tr>\n",
       "      <th>11</th>\n",
       "      <td>AAA</td>\n",
       "      <td>2014J</td>\n",
       "      <td>1763</td>\n",
       "      <td>Exam</td>\n",
       "      <td>269.0</td>\n",
       "      <td>100.0</td>\n",
       "      <td>2014J_AAA</td>\n",
       "    </tr>\n",
       "    <tr>\n",
       "      <th>23</th>\n",
       "      <td>BBB</td>\n",
       "      <td>2013B</td>\n",
       "      <td>14990</td>\n",
       "      <td>Exam</td>\n",
       "      <td>240.0</td>\n",
       "      <td>100.0</td>\n",
       "      <td>2013B_BBB</td>\n",
       "    </tr>\n",
       "    <tr>\n",
       "      <th>35</th>\n",
       "      <td>BBB</td>\n",
       "      <td>2013J</td>\n",
       "      <td>15002</td>\n",
       "      <td>Exam</td>\n",
       "      <td>268.0</td>\n",
       "      <td>100.0</td>\n",
       "      <td>2013J_BBB</td>\n",
       "    </tr>\n",
       "    <tr>\n",
       "      <th>47</th>\n",
       "      <td>BBB</td>\n",
       "      <td>2014B</td>\n",
       "      <td>15014</td>\n",
       "      <td>Exam</td>\n",
       "      <td>234.0</td>\n",
       "      <td>100.0</td>\n",
       "      <td>2014B_BBB</td>\n",
       "    </tr>\n",
       "    <tr>\n",
       "      <th>53</th>\n",
       "      <td>BBB</td>\n",
       "      <td>2014J</td>\n",
       "      <td>15025</td>\n",
       "      <td>Exam</td>\n",
       "      <td>262.0</td>\n",
       "      <td>100.0</td>\n",
       "      <td>2014J_BBB</td>\n",
       "    </tr>\n",
       "    <tr>\n",
       "      <th>63</th>\n",
       "      <td>CCC</td>\n",
       "      <td>2014B</td>\n",
       "      <td>40087</td>\n",
       "      <td>Exam</td>\n",
       "      <td>241.0</td>\n",
       "      <td>100.0</td>\n",
       "      <td>2014B_CCC</td>\n",
       "    </tr>\n",
       "    <tr>\n",
       "      <th>73</th>\n",
       "      <td>CCC</td>\n",
       "      <td>2014J</td>\n",
       "      <td>40088</td>\n",
       "      <td>Exam</td>\n",
       "      <td>269.0</td>\n",
       "      <td>100.0</td>\n",
       "      <td>2014J_CCC</td>\n",
       "    </tr>\n",
       "    <tr>\n",
       "      <th>113</th>\n",
       "      <td>EEE</td>\n",
       "      <td>2013J</td>\n",
       "      <td>30713</td>\n",
       "      <td>Exam</td>\n",
       "      <td>235.0</td>\n",
       "      <td>100.0</td>\n",
       "      <td>2013J_EEE</td>\n",
       "    </tr>\n",
       "    <tr>\n",
       "      <th>118</th>\n",
       "      <td>EEE</td>\n",
       "      <td>2014B</td>\n",
       "      <td>30718</td>\n",
       "      <td>Exam</td>\n",
       "      <td>228.0</td>\n",
       "      <td>100.0</td>\n",
       "      <td>2014B_EEE</td>\n",
       "    </tr>\n",
       "    <tr>\n",
       "      <th>123</th>\n",
       "      <td>EEE</td>\n",
       "      <td>2014J</td>\n",
       "      <td>30723</td>\n",
       "      <td>Exam</td>\n",
       "      <td>235.0</td>\n",
       "      <td>100.0</td>\n",
       "      <td>2014J_EEE</td>\n",
       "    </tr>\n",
       "    <tr>\n",
       "      <th>136</th>\n",
       "      <td>FFF</td>\n",
       "      <td>2013B</td>\n",
       "      <td>34872</td>\n",
       "      <td>Exam</td>\n",
       "      <td>222.0</td>\n",
       "      <td>100.0</td>\n",
       "      <td>2013B_FFF</td>\n",
       "    </tr>\n",
       "    <tr>\n",
       "      <th>149</th>\n",
       "      <td>FFF</td>\n",
       "      <td>2013J</td>\n",
       "      <td>34885</td>\n",
       "      <td>Exam</td>\n",
       "      <td>236.0</td>\n",
       "      <td>100.0</td>\n",
       "      <td>2013J_FFF</td>\n",
       "    </tr>\n",
       "    <tr>\n",
       "      <th>162</th>\n",
       "      <td>FFF</td>\n",
       "      <td>2014B</td>\n",
       "      <td>34898</td>\n",
       "      <td>Exam</td>\n",
       "      <td>227.0</td>\n",
       "      <td>100.0</td>\n",
       "      <td>2014B_FFF</td>\n",
       "    </tr>\n",
       "    <tr>\n",
       "      <th>175</th>\n",
       "      <td>FFF</td>\n",
       "      <td>2014J</td>\n",
       "      <td>34911</td>\n",
       "      <td>Exam</td>\n",
       "      <td>241.0</td>\n",
       "      <td>100.0</td>\n",
       "      <td>2014J_FFF</td>\n",
       "    </tr>\n",
       "    <tr>\n",
       "      <th>185</th>\n",
       "      <td>GGG</td>\n",
       "      <td>2013J</td>\n",
       "      <td>37424</td>\n",
       "      <td>Exam</td>\n",
       "      <td>229.0</td>\n",
       "      <td>100.0</td>\n",
       "      <td>2013J_GGG</td>\n",
       "    </tr>\n",
       "    <tr>\n",
       "      <th>195</th>\n",
       "      <td>GGG</td>\n",
       "      <td>2014B</td>\n",
       "      <td>37434</td>\n",
       "      <td>Exam</td>\n",
       "      <td>222.0</td>\n",
       "      <td>100.0</td>\n",
       "      <td>2014B_GGG</td>\n",
       "    </tr>\n",
       "    <tr>\n",
       "      <th>205</th>\n",
       "      <td>GGG</td>\n",
       "      <td>2014J</td>\n",
       "      <td>37444</td>\n",
       "      <td>Exam</td>\n",
       "      <td>229.0</td>\n",
       "      <td>100.0</td>\n",
       "      <td>2014J_GGG</td>\n",
       "    </tr>\n",
       "  </tbody>\n",
       "</table>\n",
       "</div>"
      ],
      "text/plain": [
       "    code_module code_presentation  id_assessment assessment_type  deadline  \\\n",
       "5           AAA             2013J           1757            Exam     268.0   \n",
       "11          AAA             2014J           1763            Exam     269.0   \n",
       "23          BBB             2013B          14990            Exam     240.0   \n",
       "35          BBB             2013J          15002            Exam     268.0   \n",
       "47          BBB             2014B          15014            Exam     234.0   \n",
       "53          BBB             2014J          15025            Exam     262.0   \n",
       "63          CCC             2014B          40087            Exam     241.0   \n",
       "73          CCC             2014J          40088            Exam     269.0   \n",
       "113         EEE             2013J          30713            Exam     235.0   \n",
       "118         EEE             2014B          30718            Exam     228.0   \n",
       "123         EEE             2014J          30723            Exam     235.0   \n",
       "136         FFF             2013B          34872            Exam     222.0   \n",
       "149         FFF             2013J          34885            Exam     236.0   \n",
       "162         FFF             2014B          34898            Exam     227.0   \n",
       "175         FFF             2014J          34911            Exam     241.0   \n",
       "185         GGG             2013J          37424            Exam     229.0   \n",
       "195         GGG             2014B          37434            Exam     222.0   \n",
       "205         GGG             2014J          37444            Exam     229.0   \n",
       "\n",
       "     weight code_course  \n",
       "5     100.0   2013J_AAA  \n",
       "11    100.0   2014J_AAA  \n",
       "23    100.0   2013B_BBB  \n",
       "35    100.0   2013J_BBB  \n",
       "47    100.0   2014B_BBB  \n",
       "53    100.0   2014J_BBB  \n",
       "63    100.0   2014B_CCC  \n",
       "73    100.0   2014J_CCC  \n",
       "113   100.0   2013J_EEE  \n",
       "118   100.0   2014B_EEE  \n",
       "123   100.0   2014J_EEE  \n",
       "136   100.0   2013B_FFF  \n",
       "149   100.0   2013J_FFF  \n",
       "162   100.0   2014B_FFF  \n",
       "175   100.0   2014J_FFF  \n",
       "185   100.0   2013J_GGG  \n",
       "195   100.0   2014B_GGG  \n",
       "205   100.0   2014J_GGG  "
      ]
     },
     "execution_count": 75,
     "metadata": {},
     "output_type": "execute_result"
    }
   ],
   "source": [
    "students_tests = df_studentAssessment['id_assessment'].unique()\n",
    "df_assessments[~ df_assessments['id_assessment'].isin(students_tests)]"
   ]
  },
  {
   "cell_type": "markdown",
   "metadata": {},
   "source": [
    "Студенты не сдают экзамены по большому количеству курсов. Выведем список курсов для предоставления отчёта."
   ]
  },
  {
   "cell_type": "code",
   "execution_count": 76,
   "metadata": {},
   "outputs": [
    {
     "name": "stdout",
     "output_type": "stream",
     "text": [
      "2013J_AAA, 2014J_AAA, 2013B_BBB, 2013J_BBB, 2014B_BBB, 2014J_BBB, 2014B_CCC, 2014J_CCC, 2013J_EEE, 2014B_EEE, 2014J_EEE, 2013B_FFF, 2013J_FFF, 2014B_FFF, 2014J_FFF, 2013J_GGG, 2014B_GGG, 2014J_GGG\n"
     ]
    }
   ],
   "source": [
    "print(*df_assessments[~ df_assessments['id_assessment'].isin(students_tests)].code_course.unique(), sep=', ')"
   ]
  },
  {
   "cell_type": "markdown",
   "metadata": {},
   "source": [
    "Посмотрим на типы тестов, по которым стоит перезачёт"
   ]
  },
  {
   "cell_type": "code",
   "execution_count": 77,
   "metadata": {},
   "outputs": [
    {
     "data": {
      "text/html": [
       "<div>\n",
       "<style scoped>\n",
       "    .dataframe tbody tr th:only-of-type {\n",
       "        vertical-align: middle;\n",
       "    }\n",
       "\n",
       "    .dataframe tbody tr th {\n",
       "        vertical-align: top;\n",
       "    }\n",
       "\n",
       "    .dataframe thead th {\n",
       "        text-align: right;\n",
       "    }\n",
       "</style>\n",
       "<table border=\"1\" class=\"dataframe\">\n",
       "  <thead>\n",
       "    <tr style=\"text-align: right;\">\n",
       "      <th></th>\n",
       "      <th>assessment_type</th>\n",
       "      <th>id_student</th>\n",
       "    </tr>\n",
       "  </thead>\n",
       "  <tbody>\n",
       "    <tr>\n",
       "      <th>0</th>\n",
       "      <td>CMA</td>\n",
       "      <td>641</td>\n",
       "    </tr>\n",
       "    <tr>\n",
       "      <th>1</th>\n",
       "      <td>TMA</td>\n",
       "      <td>1416</td>\n",
       "    </tr>\n",
       "  </tbody>\n",
       "</table>\n",
       "</div>"
      ],
      "text/plain": [
       "  assessment_type  id_student\n",
       "0             CMA         641\n",
       "1             TMA        1416"
      ]
     },
     "execution_count": 77,
     "metadata": {},
     "output_type": "execute_result"
    }
   ],
   "source": [
    "df_studentAssessment.merge(df_assessments, on='id_assessment', how='left')\\\n",
    "                    .query('is_banked == 1')\\\n",
    "                    .groupby('assessment_type', as_index=False)\\\n",
    "                    .id_student.count()"
   ]
  },
  {
   "cell_type": "markdown",
   "metadata": {},
   "source": [
    "В датафреме **df_assessments** не встречается перезачёт по экзамену за курс"
   ]
  },
  {
   "cell_type": "markdown",
   "metadata": {},
   "source": [
    "Посмотрим какой именно тест не сдал студент (id 501208) на проверку"
   ]
  },
  {
   "cell_type": "code",
   "execution_count": 78,
   "metadata": {},
   "outputs": [
    {
     "data": {
      "text/html": [
       "<div>\n",
       "<style scoped>\n",
       "    .dataframe tbody tr th:only-of-type {\n",
       "        vertical-align: middle;\n",
       "    }\n",
       "\n",
       "    .dataframe tbody tr th {\n",
       "        vertical-align: top;\n",
       "    }\n",
       "\n",
       "    .dataframe thead th {\n",
       "        text-align: right;\n",
       "    }\n",
       "</style>\n",
       "<table border=\"1\" class=\"dataframe\">\n",
       "  <thead>\n",
       "    <tr style=\"text-align: right;\">\n",
       "      <th></th>\n",
       "      <th>id_assessment</th>\n",
       "      <th>id_student</th>\n",
       "      <th>date_submitted</th>\n",
       "      <th>is_banked</th>\n",
       "      <th>score</th>\n",
       "      <th>code_module</th>\n",
       "      <th>code_presentation</th>\n",
       "      <th>assessment_type</th>\n",
       "      <th>deadline</th>\n",
       "      <th>weight</th>\n",
       "      <th>code_course</th>\n",
       "    </tr>\n",
       "  </thead>\n",
       "  <tbody>\n",
       "    <tr>\n",
       "      <th>0</th>\n",
       "      <td>14997</td>\n",
       "      <td>501208</td>\n",
       "      <td>-1</td>\n",
       "      <td>1</td>\n",
       "      <td>NaN</td>\n",
       "      <td>BBB</td>\n",
       "      <td>2013J</td>\n",
       "      <td>TMA</td>\n",
       "      <td>47.0</td>\n",
       "      <td>18.0</td>\n",
       "      <td>2013J_BBB</td>\n",
       "    </tr>\n",
       "  </tbody>\n",
       "</table>\n",
       "</div>"
      ],
      "text/plain": [
       "   id_assessment  id_student  date_submitted  is_banked  score code_module  \\\n",
       "0          14997      501208              -1          1    NaN         BBB   \n",
       "\n",
       "  code_presentation assessment_type  deadline  weight code_course  \n",
       "0             2013J             TMA      47.0    18.0   2013J_BBB  "
      ]
     },
     "execution_count": 78,
     "metadata": {},
     "output_type": "execute_result"
    }
   ],
   "source": [
    "df_studentAssessment.query('score.isna() & id_student == 501208')\\\n",
    "                    .merge(df_assessments, on='id_assessment', how='left')\n",
    "                   "
   ]
  },
  {
   "cell_type": "markdown",
   "metadata": {},
   "source": [
    "Студент (id 501208) не сдал на проверку тест преподавателю по курсу **2013J_BBB**"
   ]
  },
  {
   "cell_type": "markdown",
   "metadata": {},
   "source": [
    "# Ответы на поставленные вопросы"
   ]
  },
  {
   "cell_type": "markdown",
   "metadata": {},
   "source": [
    "## 1. Сколько студентов успешно сдали только один курс?\n",
    "\n",
    "Для начала определим, что такое **\"успешная сдача\"**. Под ней будем понимать выполнение следующих условий:\n",
    "1. оценка по экзамену не менее 40 (score >= 40)\n",
    "2. количество дней между **сдачей экзамена** и **дедлайном** не менее **0**. \n",
    "\n",
    "Создадим датафрейм **Students_assessments_data**, в который запишем данные объединённых датафреймов **df_studentAssessment** и **df_assessments**."
   ]
  },
  {
   "cell_type": "code",
   "execution_count": 79,
   "metadata": {},
   "outputs": [],
   "source": [
    "Students_assessments_data = df_studentAssessment.merge(df_assessments, on='id_assessment', how='left')"
   ]
  },
  {
   "cell_type": "markdown",
   "metadata": {},
   "source": [
    "Добавим в получившийся датафрейм столбец **days_until_deadline**, в который запишем оставшееся количество дней от сдачи студентом экзамена до дедлайна."
   ]
  },
  {
   "cell_type": "code",
   "execution_count": 80,
   "metadata": {},
   "outputs": [
    {
     "data": {
      "text/html": [
       "<div>\n",
       "<style scoped>\n",
       "    .dataframe tbody tr th:only-of-type {\n",
       "        vertical-align: middle;\n",
       "    }\n",
       "\n",
       "    .dataframe tbody tr th {\n",
       "        vertical-align: top;\n",
       "    }\n",
       "\n",
       "    .dataframe thead th {\n",
       "        text-align: right;\n",
       "    }\n",
       "</style>\n",
       "<table border=\"1\" class=\"dataframe\">\n",
       "  <thead>\n",
       "    <tr style=\"text-align: right;\">\n",
       "      <th></th>\n",
       "      <th>id_assessment</th>\n",
       "      <th>id_student</th>\n",
       "      <th>date_submitted</th>\n",
       "      <th>is_banked</th>\n",
       "      <th>score</th>\n",
       "      <th>code_module</th>\n",
       "      <th>code_presentation</th>\n",
       "      <th>assessment_type</th>\n",
       "      <th>deadline</th>\n",
       "      <th>weight</th>\n",
       "      <th>code_course</th>\n",
       "      <th>days_until_deadline</th>\n",
       "    </tr>\n",
       "  </thead>\n",
       "  <tbody>\n",
       "    <tr>\n",
       "      <th>0</th>\n",
       "      <td>1752</td>\n",
       "      <td>11391</td>\n",
       "      <td>18</td>\n",
       "      <td>0</td>\n",
       "      <td>78.0</td>\n",
       "      <td>AAA</td>\n",
       "      <td>2013J</td>\n",
       "      <td>TMA</td>\n",
       "      <td>19.0</td>\n",
       "      <td>10.0</td>\n",
       "      <td>2013J_AAA</td>\n",
       "      <td>1.0</td>\n",
       "    </tr>\n",
       "    <tr>\n",
       "      <th>1</th>\n",
       "      <td>1752</td>\n",
       "      <td>28400</td>\n",
       "      <td>22</td>\n",
       "      <td>0</td>\n",
       "      <td>70.0</td>\n",
       "      <td>AAA</td>\n",
       "      <td>2013J</td>\n",
       "      <td>TMA</td>\n",
       "      <td>19.0</td>\n",
       "      <td>10.0</td>\n",
       "      <td>2013J_AAA</td>\n",
       "      <td>-3.0</td>\n",
       "    </tr>\n",
       "    <tr>\n",
       "      <th>2</th>\n",
       "      <td>1752</td>\n",
       "      <td>31604</td>\n",
       "      <td>17</td>\n",
       "      <td>0</td>\n",
       "      <td>72.0</td>\n",
       "      <td>AAA</td>\n",
       "      <td>2013J</td>\n",
       "      <td>TMA</td>\n",
       "      <td>19.0</td>\n",
       "      <td>10.0</td>\n",
       "      <td>2013J_AAA</td>\n",
       "      <td>2.0</td>\n",
       "    </tr>\n",
       "    <tr>\n",
       "      <th>3</th>\n",
       "      <td>1752</td>\n",
       "      <td>32885</td>\n",
       "      <td>26</td>\n",
       "      <td>0</td>\n",
       "      <td>69.0</td>\n",
       "      <td>AAA</td>\n",
       "      <td>2013J</td>\n",
       "      <td>TMA</td>\n",
       "      <td>19.0</td>\n",
       "      <td>10.0</td>\n",
       "      <td>2013J_AAA</td>\n",
       "      <td>-7.0</td>\n",
       "    </tr>\n",
       "    <tr>\n",
       "      <th>4</th>\n",
       "      <td>1752</td>\n",
       "      <td>38053</td>\n",
       "      <td>19</td>\n",
       "      <td>0</td>\n",
       "      <td>79.0</td>\n",
       "      <td>AAA</td>\n",
       "      <td>2013J</td>\n",
       "      <td>TMA</td>\n",
       "      <td>19.0</td>\n",
       "      <td>10.0</td>\n",
       "      <td>2013J_AAA</td>\n",
       "      <td>0.0</td>\n",
       "    </tr>\n",
       "  </tbody>\n",
       "</table>\n",
       "</div>"
      ],
      "text/plain": [
       "   id_assessment  id_student  date_submitted  is_banked  score code_module  \\\n",
       "0           1752       11391              18          0   78.0         AAA   \n",
       "1           1752       28400              22          0   70.0         AAA   \n",
       "2           1752       31604              17          0   72.0         AAA   \n",
       "3           1752       32885              26          0   69.0         AAA   \n",
       "4           1752       38053              19          0   79.0         AAA   \n",
       "\n",
       "  code_presentation assessment_type  deadline  weight code_course  \\\n",
       "0             2013J             TMA      19.0    10.0   2013J_AAA   \n",
       "1             2013J             TMA      19.0    10.0   2013J_AAA   \n",
       "2             2013J             TMA      19.0    10.0   2013J_AAA   \n",
       "3             2013J             TMA      19.0    10.0   2013J_AAA   \n",
       "4             2013J             TMA      19.0    10.0   2013J_AAA   \n",
       "\n",
       "   days_until_deadline  \n",
       "0                  1.0  \n",
       "1                 -3.0  \n",
       "2                  2.0  \n",
       "3                 -7.0  \n",
       "4                  0.0  "
      ]
     },
     "execution_count": 80,
     "metadata": {},
     "output_type": "execute_result"
    }
   ],
   "source": [
    "Students_assessments_data['days_until_deadline'] = Students_assessments_data.deadline - Students_assessments_data.date_submitted\n",
    "Students_assessments_data.head()"
   ]
  },
  {
   "cell_type": "markdown",
   "metadata": {},
   "source": [
    "Добавим колонку **is_success**, в которую запишем **1**, если сдача теста удачная (score >= 40 и days_until_deadline >= 0), **0** - неудачная"
   ]
  },
  {
   "cell_type": "code",
   "execution_count": 81,
   "metadata": {},
   "outputs": [],
   "source": [
    "Students_assessments_data['is_success'] = np.where((Students_assessments_data['score'] >= 40)\\\n",
    "                                                   & (Students_assessments_data['days_until_deadline'] >= 0), \n",
    "                                                   1, 0)"
   ]
  },
  {
   "cell_type": "markdown",
   "metadata": {},
   "source": [
    "Изменим порядок столбцов для удобства дальнейшего анализа."
   ]
  },
  {
   "cell_type": "code",
   "execution_count": 82,
   "metadata": {},
   "outputs": [
    {
     "data": {
      "text/html": [
       "<div>\n",
       "<style scoped>\n",
       "    .dataframe tbody tr th:only-of-type {\n",
       "        vertical-align: middle;\n",
       "    }\n",
       "\n",
       "    .dataframe tbody tr th {\n",
       "        vertical-align: top;\n",
       "    }\n",
       "\n",
       "    .dataframe thead th {\n",
       "        text-align: right;\n",
       "    }\n",
       "</style>\n",
       "<table border=\"1\" class=\"dataframe\">\n",
       "  <thead>\n",
       "    <tr style=\"text-align: right;\">\n",
       "      <th></th>\n",
       "      <th>id_student</th>\n",
       "      <th>id_assessment</th>\n",
       "      <th>code_module</th>\n",
       "      <th>code_presentation</th>\n",
       "      <th>code_course</th>\n",
       "      <th>assessment_type</th>\n",
       "      <th>weight</th>\n",
       "      <th>is_banked</th>\n",
       "      <th>score</th>\n",
       "      <th>date_submitted</th>\n",
       "      <th>deadline</th>\n",
       "      <th>days_until_deadline</th>\n",
       "      <th>is_success</th>\n",
       "    </tr>\n",
       "  </thead>\n",
       "  <tbody>\n",
       "    <tr>\n",
       "      <th>0</th>\n",
       "      <td>11391</td>\n",
       "      <td>1752</td>\n",
       "      <td>AAA</td>\n",
       "      <td>2013J</td>\n",
       "      <td>2013J_AAA</td>\n",
       "      <td>TMA</td>\n",
       "      <td>10.0</td>\n",
       "      <td>0</td>\n",
       "      <td>78.0</td>\n",
       "      <td>18</td>\n",
       "      <td>19.0</td>\n",
       "      <td>1.0</td>\n",
       "      <td>1</td>\n",
       "    </tr>\n",
       "    <tr>\n",
       "      <th>1</th>\n",
       "      <td>28400</td>\n",
       "      <td>1752</td>\n",
       "      <td>AAA</td>\n",
       "      <td>2013J</td>\n",
       "      <td>2013J_AAA</td>\n",
       "      <td>TMA</td>\n",
       "      <td>10.0</td>\n",
       "      <td>0</td>\n",
       "      <td>70.0</td>\n",
       "      <td>22</td>\n",
       "      <td>19.0</td>\n",
       "      <td>-3.0</td>\n",
       "      <td>0</td>\n",
       "    </tr>\n",
       "    <tr>\n",
       "      <th>2</th>\n",
       "      <td>31604</td>\n",
       "      <td>1752</td>\n",
       "      <td>AAA</td>\n",
       "      <td>2013J</td>\n",
       "      <td>2013J_AAA</td>\n",
       "      <td>TMA</td>\n",
       "      <td>10.0</td>\n",
       "      <td>0</td>\n",
       "      <td>72.0</td>\n",
       "      <td>17</td>\n",
       "      <td>19.0</td>\n",
       "      <td>2.0</td>\n",
       "      <td>1</td>\n",
       "    </tr>\n",
       "    <tr>\n",
       "      <th>3</th>\n",
       "      <td>32885</td>\n",
       "      <td>1752</td>\n",
       "      <td>AAA</td>\n",
       "      <td>2013J</td>\n",
       "      <td>2013J_AAA</td>\n",
       "      <td>TMA</td>\n",
       "      <td>10.0</td>\n",
       "      <td>0</td>\n",
       "      <td>69.0</td>\n",
       "      <td>26</td>\n",
       "      <td>19.0</td>\n",
       "      <td>-7.0</td>\n",
       "      <td>0</td>\n",
       "    </tr>\n",
       "    <tr>\n",
       "      <th>4</th>\n",
       "      <td>38053</td>\n",
       "      <td>1752</td>\n",
       "      <td>AAA</td>\n",
       "      <td>2013J</td>\n",
       "      <td>2013J_AAA</td>\n",
       "      <td>TMA</td>\n",
       "      <td>10.0</td>\n",
       "      <td>0</td>\n",
       "      <td>79.0</td>\n",
       "      <td>19</td>\n",
       "      <td>19.0</td>\n",
       "      <td>0.0</td>\n",
       "      <td>1</td>\n",
       "    </tr>\n",
       "  </tbody>\n",
       "</table>\n",
       "</div>"
      ],
      "text/plain": [
       "   id_student  id_assessment code_module code_presentation code_course  \\\n",
       "0       11391           1752         AAA             2013J   2013J_AAA   \n",
       "1       28400           1752         AAA             2013J   2013J_AAA   \n",
       "2       31604           1752         AAA             2013J   2013J_AAA   \n",
       "3       32885           1752         AAA             2013J   2013J_AAA   \n",
       "4       38053           1752         AAA             2013J   2013J_AAA   \n",
       "\n",
       "  assessment_type  weight  is_banked  score  date_submitted  deadline  \\\n",
       "0             TMA    10.0          0   78.0              18      19.0   \n",
       "1             TMA    10.0          0   70.0              22      19.0   \n",
       "2             TMA    10.0          0   72.0              17      19.0   \n",
       "3             TMA    10.0          0   69.0              26      19.0   \n",
       "4             TMA    10.0          0   79.0              19      19.0   \n",
       "\n",
       "   days_until_deadline  is_success  \n",
       "0                  1.0           1  \n",
       "1                 -3.0           0  \n",
       "2                  2.0           1  \n",
       "3                 -7.0           0  \n",
       "4                  0.0           1  "
      ]
     },
     "execution_count": 82,
     "metadata": {},
     "output_type": "execute_result"
    }
   ],
   "source": [
    "Students_assessments_data = Students_assessments_data[['id_student', 'id_assessment', 'code_module',\n",
    "                                                       'code_presentation', 'code_course', 'assessment_type',\n",
    "                                                       'weight', 'is_banked', 'score', 'date_submitted', 'deadline',\n",
    "                                                       'days_until_deadline', 'is_success']]\n",
    "Students_assessments_data.head()"
   ]
  },
  {
   "cell_type": "markdown",
   "metadata": {},
   "source": [
    "Создадим датафрейм **Success_Exams**, в который запишем удачные сдачи экзаменов из датафрейма **Students_assessments_data**"
   ]
  },
  {
   "cell_type": "code",
   "execution_count": 83,
   "metadata": {},
   "outputs": [
    {
     "data": {
      "text/html": [
       "<div>\n",
       "<style scoped>\n",
       "    .dataframe tbody tr th:only-of-type {\n",
       "        vertical-align: middle;\n",
       "    }\n",
       "\n",
       "    .dataframe tbody tr th {\n",
       "        vertical-align: top;\n",
       "    }\n",
       "\n",
       "    .dataframe thead th {\n",
       "        text-align: right;\n",
       "    }\n",
       "</style>\n",
       "<table border=\"1\" class=\"dataframe\">\n",
       "  <thead>\n",
       "    <tr style=\"text-align: right;\">\n",
       "      <th></th>\n",
       "      <th>id_student</th>\n",
       "      <th>id_assessment</th>\n",
       "      <th>code_module</th>\n",
       "      <th>code_presentation</th>\n",
       "      <th>code_course</th>\n",
       "      <th>assessment_type</th>\n",
       "      <th>weight</th>\n",
       "      <th>is_banked</th>\n",
       "      <th>score</th>\n",
       "      <th>date_submitted</th>\n",
       "      <th>deadline</th>\n",
       "      <th>days_until_deadline</th>\n",
       "      <th>is_success</th>\n",
       "    </tr>\n",
       "  </thead>\n",
       "  <tbody>\n",
       "    <tr>\n",
       "      <th>52924</th>\n",
       "      <td>559706</td>\n",
       "      <td>24290</td>\n",
       "      <td>CCC</td>\n",
       "      <td>2014B</td>\n",
       "      <td>2014B_CCC</td>\n",
       "      <td>Exam</td>\n",
       "      <td>100.0</td>\n",
       "      <td>0</td>\n",
       "      <td>78.0</td>\n",
       "      <td>234</td>\n",
       "      <td>241.0</td>\n",
       "      <td>7.0</td>\n",
       "      <td>1</td>\n",
       "    </tr>\n",
       "    <tr>\n",
       "      <th>52925</th>\n",
       "      <td>559770</td>\n",
       "      <td>24290</td>\n",
       "      <td>CCC</td>\n",
       "      <td>2014B</td>\n",
       "      <td>2014B_CCC</td>\n",
       "      <td>Exam</td>\n",
       "      <td>100.0</td>\n",
       "      <td>0</td>\n",
       "      <td>54.0</td>\n",
       "      <td>230</td>\n",
       "      <td>241.0</td>\n",
       "      <td>11.0</td>\n",
       "      <td>1</td>\n",
       "    </tr>\n",
       "    <tr>\n",
       "      <th>52926</th>\n",
       "      <td>560114</td>\n",
       "      <td>24290</td>\n",
       "      <td>CCC</td>\n",
       "      <td>2014B</td>\n",
       "      <td>2014B_CCC</td>\n",
       "      <td>Exam</td>\n",
       "      <td>100.0</td>\n",
       "      <td>0</td>\n",
       "      <td>64.0</td>\n",
       "      <td>230</td>\n",
       "      <td>241.0</td>\n",
       "      <td>11.0</td>\n",
       "      <td>1</td>\n",
       "    </tr>\n",
       "    <tr>\n",
       "      <th>52927</th>\n",
       "      <td>560311</td>\n",
       "      <td>24290</td>\n",
       "      <td>CCC</td>\n",
       "      <td>2014B</td>\n",
       "      <td>2014B_CCC</td>\n",
       "      <td>Exam</td>\n",
       "      <td>100.0</td>\n",
       "      <td>0</td>\n",
       "      <td>100.0</td>\n",
       "      <td>234</td>\n",
       "      <td>241.0</td>\n",
       "      <td>7.0</td>\n",
       "      <td>1</td>\n",
       "    </tr>\n",
       "    <tr>\n",
       "      <th>52928</th>\n",
       "      <td>560494</td>\n",
       "      <td>24290</td>\n",
       "      <td>CCC</td>\n",
       "      <td>2014B</td>\n",
       "      <td>2014B_CCC</td>\n",
       "      <td>Exam</td>\n",
       "      <td>100.0</td>\n",
       "      <td>0</td>\n",
       "      <td>92.0</td>\n",
       "      <td>230</td>\n",
       "      <td>241.0</td>\n",
       "      <td>11.0</td>\n",
       "      <td>1</td>\n",
       "    </tr>\n",
       "  </tbody>\n",
       "</table>\n",
       "</div>"
      ],
      "text/plain": [
       "       id_student  id_assessment code_module code_presentation code_course  \\\n",
       "52924      559706          24290         CCC             2014B   2014B_CCC   \n",
       "52925      559770          24290         CCC             2014B   2014B_CCC   \n",
       "52926      560114          24290         CCC             2014B   2014B_CCC   \n",
       "52927      560311          24290         CCC             2014B   2014B_CCC   \n",
       "52928      560494          24290         CCC             2014B   2014B_CCC   \n",
       "\n",
       "      assessment_type  weight  is_banked  score  date_submitted  deadline  \\\n",
       "52924            Exam   100.0          0   78.0             234     241.0   \n",
       "52925            Exam   100.0          0   54.0             230     241.0   \n",
       "52926            Exam   100.0          0   64.0             230     241.0   \n",
       "52927            Exam   100.0          0  100.0             234     241.0   \n",
       "52928            Exam   100.0          0   92.0             230     241.0   \n",
       "\n",
       "       days_until_deadline  is_success  \n",
       "52924                  7.0           1  \n",
       "52925                 11.0           1  \n",
       "52926                 11.0           1  \n",
       "52927                  7.0           1  \n",
       "52928                 11.0           1  "
      ]
     },
     "execution_count": 83,
     "metadata": {},
     "output_type": "execute_result"
    }
   ],
   "source": [
    "Success_exams = Students_assessments_data.query('assessment_type == \"Exam\"\\\n",
    "                                                & is_success == 1')\n",
    "Success_exams.head()"
   ]
  },
  {
   "cell_type": "markdown",
   "metadata": {},
   "source": [
    "Из анализа датафрейма **df_assessments** мы выяснили, что для сдачи курсов **2014B_CCC** и **2014J_CCC** требуется сдать два экзамена, поэтому посчитаем количество сданных экзаменов в разбивке по **id_student** и **code_course**. Выведем студентов с максимальным количеством сданных экзаменов."
   ]
  },
  {
   "cell_type": "code",
   "execution_count": 84,
   "metadata": {},
   "outputs": [
    {
     "data": {
      "text/html": [
       "<div>\n",
       "<style scoped>\n",
       "    .dataframe tbody tr th:only-of-type {\n",
       "        vertical-align: middle;\n",
       "    }\n",
       "\n",
       "    .dataframe tbody tr th {\n",
       "        vertical-align: top;\n",
       "    }\n",
       "\n",
       "    .dataframe thead th {\n",
       "        text-align: right;\n",
       "    }\n",
       "</style>\n",
       "<table border=\"1\" class=\"dataframe\">\n",
       "  <thead>\n",
       "    <tr style=\"text-align: right;\">\n",
       "      <th></th>\n",
       "      <th>id_student</th>\n",
       "      <th>code_course</th>\n",
       "      <th>count_success_exam</th>\n",
       "    </tr>\n",
       "  </thead>\n",
       "  <tbody>\n",
       "    <tr>\n",
       "      <th>0</th>\n",
       "      <td>23698</td>\n",
       "      <td>2014J_CCC</td>\n",
       "      <td>1</td>\n",
       "    </tr>\n",
       "    <tr>\n",
       "      <th>2919</th>\n",
       "      <td>628008</td>\n",
       "      <td>2014B_DDD</td>\n",
       "      <td>1</td>\n",
       "    </tr>\n",
       "    <tr>\n",
       "      <th>2925</th>\n",
       "      <td>628216</td>\n",
       "      <td>2014B_DDD</td>\n",
       "      <td>1</td>\n",
       "    </tr>\n",
       "    <tr>\n",
       "      <th>2924</th>\n",
       "      <td>628157</td>\n",
       "      <td>2014B_CCC</td>\n",
       "      <td>1</td>\n",
       "    </tr>\n",
       "    <tr>\n",
       "      <th>2923</th>\n",
       "      <td>628114</td>\n",
       "      <td>2014J_CCC</td>\n",
       "      <td>1</td>\n",
       "    </tr>\n",
       "  </tbody>\n",
       "</table>\n",
       "</div>"
      ],
      "text/plain": [
       "      id_student code_course  count_success_exam\n",
       "0          23698   2014J_CCC                   1\n",
       "2919      628008   2014B_DDD                   1\n",
       "2925      628216   2014B_DDD                   1\n",
       "2924      628157   2014B_CCC                   1\n",
       "2923      628114   2014J_CCC                   1"
      ]
     },
     "execution_count": 84,
     "metadata": {},
     "output_type": "execute_result"
    }
   ],
   "source": [
    "Exam_success = Success_exams.groupby(['id_student', 'code_course'])\\\n",
    "                            .id_assessment.count()\\\n",
    "                            .reset_index()\\\n",
    "                            .rename(columns={'id_assessment': 'count_success_exam'})\\\n",
    "                            .sort_values('count_success_exam', ascending=False)\n",
    "Exam_success.head()"
   ]
  },
  {
   "cell_type": "markdown",
   "metadata": {},
   "source": [
    "Из датафрейма выше видно, что студенты сдавали по каждому курсу максимум 1 заключительный экзамен, следовательно никто из студентов ещё не сдал успешно курсы **2014B_CCC** и **2014J_CCC** (для них требуется сдать два заключительных экзамена). \n",
    "\n",
    "Выведем количество студентов, сдавших по одному экзамену за курсы **2014B_CCC** и **2014J_CCC**"
   ]
  },
  {
   "cell_type": "code",
   "execution_count": 85,
   "metadata": {},
   "outputs": [
    {
     "data": {
      "text/html": [
       "<div>\n",
       "<style scoped>\n",
       "    .dataframe tbody tr th:only-of-type {\n",
       "        vertical-align: middle;\n",
       "    }\n",
       "\n",
       "    .dataframe tbody tr th {\n",
       "        vertical-align: top;\n",
       "    }\n",
       "\n",
       "    .dataframe thead th {\n",
       "        text-align: right;\n",
       "    }\n",
       "</style>\n",
       "<table border=\"1\" class=\"dataframe\">\n",
       "  <thead>\n",
       "    <tr style=\"text-align: right;\">\n",
       "      <th></th>\n",
       "      <th>code_course</th>\n",
       "      <th>count_success_exam</th>\n",
       "    </tr>\n",
       "  </thead>\n",
       "  <tbody>\n",
       "    <tr>\n",
       "      <th>0</th>\n",
       "      <td>2014B_CCC</td>\n",
       "      <td>662</td>\n",
       "    </tr>\n",
       "    <tr>\n",
       "      <th>1</th>\n",
       "      <td>2014J_CCC</td>\n",
       "      <td>1018</td>\n",
       "    </tr>\n",
       "  </tbody>\n",
       "</table>\n",
       "</div>"
      ],
      "text/plain": [
       "  code_course  count_success_exam\n",
       "0   2014B_CCC                 662\n",
       "1   2014J_CCC                1018"
      ]
     },
     "execution_count": 85,
     "metadata": {},
     "output_type": "execute_result"
    }
   ],
   "source": [
    "Exam_success.query('code_course == \"2014J_CCC\" | code_course == \"2014B_CCC\"').groupby('code_course', as_index=False).count_success_exam.sum()"
   ]
  },
  {
   "cell_type": "markdown",
   "metadata": {},
   "source": [
    "Удалим из датафрейма **Exam_success** строки, содержащие курсы **2014J_CCC** и **2014B_CCC**"
   ]
  },
  {
   "cell_type": "code",
   "execution_count": 86,
   "metadata": {},
   "outputs": [
    {
     "data": {
      "text/plain": [
       "4382"
      ]
     },
     "execution_count": 86,
     "metadata": {},
     "output_type": "execute_result"
    }
   ],
   "source": [
    "Exam_success.shape[0]"
   ]
  },
  {
   "cell_type": "code",
   "execution_count": 87,
   "metadata": {},
   "outputs": [
    {
     "data": {
      "text/plain": [
       "2702"
      ]
     },
     "execution_count": 87,
     "metadata": {},
     "output_type": "execute_result"
    }
   ],
   "source": [
    "Exam_success = Exam_success.query('code_course != \"2014B_CCC\" and code_course != \"2014J_CCC\"')\n",
    "Exam_success.shape[0]"
   ]
  },
  {
   "cell_type": "markdown",
   "metadata": {},
   "source": [
    "Теперь посчитаем количество успешно сданных экзаменов для каждого студента"
   ]
  },
  {
   "cell_type": "code",
   "execution_count": 88,
   "metadata": {},
   "outputs": [
    {
     "data": {
      "text/html": [
       "<div>\n",
       "<style scoped>\n",
       "    .dataframe tbody tr th:only-of-type {\n",
       "        vertical-align: middle;\n",
       "    }\n",
       "\n",
       "    .dataframe tbody tr th {\n",
       "        vertical-align: top;\n",
       "    }\n",
       "\n",
       "    .dataframe thead th {\n",
       "        text-align: right;\n",
       "    }\n",
       "</style>\n",
       "<table border=\"1\" class=\"dataframe\">\n",
       "  <thead>\n",
       "    <tr style=\"text-align: right;\">\n",
       "      <th></th>\n",
       "      <th>id_student</th>\n",
       "      <th>count_success_exam</th>\n",
       "    </tr>\n",
       "  </thead>\n",
       "  <tbody>\n",
       "    <tr>\n",
       "      <th>1494</th>\n",
       "      <td>593903</td>\n",
       "      <td>2</td>\n",
       "    </tr>\n",
       "    <tr>\n",
       "      <th>1652</th>\n",
       "      <td>605118</td>\n",
       "      <td>2</td>\n",
       "    </tr>\n",
       "    <tr>\n",
       "      <th>905</th>\n",
       "      <td>540758</td>\n",
       "      <td>2</td>\n",
       "    </tr>\n",
       "    <tr>\n",
       "      <th>0</th>\n",
       "      <td>24213</td>\n",
       "      <td>1</td>\n",
       "    </tr>\n",
       "    <tr>\n",
       "      <th>1802</th>\n",
       "      <td>621883</td>\n",
       "      <td>1</td>\n",
       "    </tr>\n",
       "  </tbody>\n",
       "</table>\n",
       "</div>"
      ],
      "text/plain": [
       "      id_student  count_success_exam\n",
       "1494      593903                   2\n",
       "1652      605118                   2\n",
       "905       540758                   2\n",
       "0          24213                   1\n",
       "1802      621883                   1"
      ]
     },
     "execution_count": 88,
     "metadata": {},
     "output_type": "execute_result"
    }
   ],
   "source": [
    "res_exam_success = Exam_success.groupby('id_student')\\\n",
    "                               .count_success_exam.sum()\\\n",
    "                               .reset_index()\\\n",
    "                               .sort_values('count_success_exam', ascending=False)\n",
    "res_exam_success.head()"
   ]
  },
  {
   "cell_type": "markdown",
   "metadata": {},
   "source": [
    "Посчитаем количество студентов, успешно сдавших только 1 экзамен"
   ]
  },
  {
   "cell_type": "code",
   "execution_count": 89,
   "metadata": {},
   "outputs": [
    {
     "data": {
      "text/plain": [
       "2696"
      ]
     },
     "execution_count": 89,
     "metadata": {},
     "output_type": "execute_result"
    }
   ],
   "source": [
    "res_exam_success.query('count_success_exam == 1').shape[0]"
   ]
  },
  {
   "cell_type": "markdown",
   "metadata": {},
   "source": [
    "2696 студентов завершили курс, сдав успешно заключительный экзамен.\n",
    "\n",
    "В качестве дополнительного анализа, посмотрим сколько студентов завершили курс **полностью**, сдав все необходимые тесты. \n",
    "\n",
    "Под необходимыми тестами будем понимать тест, вес которого больше **0**.\n",
    "\n",
    "Для этого используем датафрейм **df_assessments**, оставив в нём тесты, вес которых больше нуля"
   ]
  },
  {
   "cell_type": "code",
   "execution_count": 90,
   "metadata": {},
   "outputs": [
    {
     "data": {
      "text/html": [
       "<div>\n",
       "<style scoped>\n",
       "    .dataframe tbody tr th:only-of-type {\n",
       "        vertical-align: middle;\n",
       "    }\n",
       "\n",
       "    .dataframe tbody tr th {\n",
       "        vertical-align: top;\n",
       "    }\n",
       "\n",
       "    .dataframe thead th {\n",
       "        text-align: right;\n",
       "    }\n",
       "</style>\n",
       "<table border=\"1\" class=\"dataframe\">\n",
       "  <thead>\n",
       "    <tr style=\"text-align: right;\">\n",
       "      <th></th>\n",
       "      <th>code_course</th>\n",
       "      <th>assessment_list</th>\n",
       "    </tr>\n",
       "  </thead>\n",
       "  <tbody>\n",
       "    <tr>\n",
       "      <th>0</th>\n",
       "      <td>2013B_BBB</td>\n",
       "      <td>[14984, 14985, 14986, 14987, 14988, 14989, 149...</td>\n",
       "    </tr>\n",
       "    <tr>\n",
       "      <th>1</th>\n",
       "      <td>2013B_DDD</td>\n",
       "      <td>[25334, 25335, 25336, 25337, 25338, 25339, 253...</td>\n",
       "    </tr>\n",
       "    <tr>\n",
       "      <th>2</th>\n",
       "      <td>2013B_FFF</td>\n",
       "      <td>[34860, 34861, 34862, 34863, 34864, 34872]</td>\n",
       "    </tr>\n",
       "    <tr>\n",
       "      <th>3</th>\n",
       "      <td>2013J_AAA</td>\n",
       "      <td>[1752, 1753, 1754, 1755, 1756, 1757]</td>\n",
       "    </tr>\n",
       "    <tr>\n",
       "      <th>4</th>\n",
       "      <td>2013J_BBB</td>\n",
       "      <td>[14996, 14997, 14998, 14999, 15000, 15001, 150...</td>\n",
       "    </tr>\n",
       "  </tbody>\n",
       "</table>\n",
       "</div>"
      ],
      "text/plain": [
       "  code_course                                    assessment_list\n",
       "0   2013B_BBB  [14984, 14985, 14986, 14987, 14988, 14989, 149...\n",
       "1   2013B_DDD  [25334, 25335, 25336, 25337, 25338, 25339, 253...\n",
       "2   2013B_FFF         [34860, 34861, 34862, 34863, 34864, 34872]\n",
       "3   2013J_AAA               [1752, 1753, 1754, 1755, 1756, 1757]\n",
       "4   2013J_BBB  [14996, 14997, 14998, 14999, 15000, 15001, 150..."
      ]
     },
     "execution_count": 90,
     "metadata": {},
     "output_type": "execute_result"
    }
   ],
   "source": [
    "required_assessments_by_course = df_assessments.query('weight > 0')\\\n",
    "                                               .groupby(['code_course'])\\\n",
    "                                               .agg({'id_assessment': lambda x: sorted(x)})\\\n",
    "                                               .reset_index()\\\n",
    "                                               .rename(columns={'id_assessment': 'assessment_list'})\n",
    "required_assessments_by_course.head()"
   ]
  },
  {
   "cell_type": "markdown",
   "metadata": {},
   "source": [
    "Создадим датафрейм **student_required_assessments**, в который запишем данные из **Students_assessments_data**, где вес теста больше 0 и сдача теста удачная."
   ]
  },
  {
   "cell_type": "code",
   "execution_count": 91,
   "metadata": {},
   "outputs": [],
   "source": [
    "student_required_assessments = Students_assessments_data.query('weight > 0 & is_success == 1')"
   ]
  },
  {
   "cell_type": "markdown",
   "metadata": {},
   "source": [
    "Сгруппируем получившийся датафрейм по **id_student** и **code_course**, в качестве значений будет отсортированный (для облегчения дальнейшего анализа) список, успешно сданных студентом тестов."
   ]
  },
  {
   "cell_type": "code",
   "execution_count": 92,
   "metadata": {},
   "outputs": [
    {
     "data": {
      "text/html": [
       "<div>\n",
       "<style scoped>\n",
       "    .dataframe tbody tr th:only-of-type {\n",
       "        vertical-align: middle;\n",
       "    }\n",
       "\n",
       "    .dataframe tbody tr th {\n",
       "        vertical-align: top;\n",
       "    }\n",
       "\n",
       "    .dataframe thead th {\n",
       "        text-align: right;\n",
       "    }\n",
       "</style>\n",
       "<table border=\"1\" class=\"dataframe\">\n",
       "  <thead>\n",
       "    <tr style=\"text-align: right;\">\n",
       "      <th></th>\n",
       "      <th>id_student</th>\n",
       "      <th>code_course</th>\n",
       "      <th>success_assessment_list</th>\n",
       "    </tr>\n",
       "  </thead>\n",
       "  <tbody>\n",
       "    <tr>\n",
       "      <th>0</th>\n",
       "      <td>6516</td>\n",
       "      <td>2014J_AAA</td>\n",
       "      <td>[1758, 1759, 1760, 1761, 1762]</td>\n",
       "    </tr>\n",
       "    <tr>\n",
       "      <th>1</th>\n",
       "      <td>8462</td>\n",
       "      <td>2013J_DDD</td>\n",
       "      <td>[25349, 25350]</td>\n",
       "    </tr>\n",
       "    <tr>\n",
       "      <th>2</th>\n",
       "      <td>8462</td>\n",
       "      <td>2014J_DDD</td>\n",
       "      <td>[25362, 25363, 25364, 25365]</td>\n",
       "    </tr>\n",
       "    <tr>\n",
       "      <th>3</th>\n",
       "      <td>11391</td>\n",
       "      <td>2013J_AAA</td>\n",
       "      <td>[1752, 1753, 1754, 1755, 1756]</td>\n",
       "    </tr>\n",
       "    <tr>\n",
       "      <th>4</th>\n",
       "      <td>23629</td>\n",
       "      <td>2013B_BBB</td>\n",
       "      <td>[14984]</td>\n",
       "    </tr>\n",
       "  </tbody>\n",
       "</table>\n",
       "</div>"
      ],
      "text/plain": [
       "   id_student code_course         success_assessment_list\n",
       "0        6516   2014J_AAA  [1758, 1759, 1760, 1761, 1762]\n",
       "1        8462   2013J_DDD                  [25349, 25350]\n",
       "2        8462   2014J_DDD    [25362, 25363, 25364, 25365]\n",
       "3       11391   2013J_AAA  [1752, 1753, 1754, 1755, 1756]\n",
       "4       23629   2013B_BBB                         [14984]"
      ]
     },
     "execution_count": 92,
     "metadata": {},
     "output_type": "execute_result"
    }
   ],
   "source": [
    "student_success_required = student_required_assessments.groupby(['id_student', 'code_course'])\\\n",
    "                                                       .agg({'id_assessment': lambda x: sorted(x)})\\\n",
    "                                                       .reset_index()\\\n",
    "                                                       .rename(columns={'id_assessment': 'success_assessment_list'})\n",
    "student_success_required.head()"
   ]
  },
  {
   "cell_type": "markdown",
   "metadata": {},
   "source": [
    "Добавим к датафрейму **Student_required_assessments** данные из датафрейма **required_assessments_by_course**"
   ]
  },
  {
   "cell_type": "code",
   "execution_count": 93,
   "metadata": {},
   "outputs": [
    {
     "data": {
      "text/html": [
       "<div>\n",
       "<style scoped>\n",
       "    .dataframe tbody tr th:only-of-type {\n",
       "        vertical-align: middle;\n",
       "    }\n",
       "\n",
       "    .dataframe tbody tr th {\n",
       "        vertical-align: top;\n",
       "    }\n",
       "\n",
       "    .dataframe thead th {\n",
       "        text-align: right;\n",
       "    }\n",
       "</style>\n",
       "<table border=\"1\" class=\"dataframe\">\n",
       "  <thead>\n",
       "    <tr style=\"text-align: right;\">\n",
       "      <th></th>\n",
       "      <th>id_student</th>\n",
       "      <th>code_course</th>\n",
       "      <th>success_assessment_list</th>\n",
       "      <th>assessment_list</th>\n",
       "    </tr>\n",
       "  </thead>\n",
       "  <tbody>\n",
       "    <tr>\n",
       "      <th>0</th>\n",
       "      <td>6516</td>\n",
       "      <td>2014J_AAA</td>\n",
       "      <td>[1758, 1759, 1760, 1761, 1762]</td>\n",
       "      <td>[1758, 1759, 1760, 1761, 1762, 1763]</td>\n",
       "    </tr>\n",
       "    <tr>\n",
       "      <th>1</th>\n",
       "      <td>24734</td>\n",
       "      <td>2014J_AAA</td>\n",
       "      <td>[1762]</td>\n",
       "      <td>[1758, 1759, 1760, 1761, 1762, 1763]</td>\n",
       "    </tr>\n",
       "    <tr>\n",
       "      <th>2</th>\n",
       "      <td>26192</td>\n",
       "      <td>2014J_AAA</td>\n",
       "      <td>[1758, 1759, 1760, 1761, 1762]</td>\n",
       "      <td>[1758, 1759, 1760, 1761, 1762, 1763]</td>\n",
       "    </tr>\n",
       "    <tr>\n",
       "      <th>3</th>\n",
       "      <td>28061</td>\n",
       "      <td>2014J_AAA</td>\n",
       "      <td>[1758, 1760, 1761, 1762]</td>\n",
       "      <td>[1758, 1759, 1760, 1761, 1762, 1763]</td>\n",
       "    </tr>\n",
       "    <tr>\n",
       "      <th>4</th>\n",
       "      <td>31600</td>\n",
       "      <td>2014J_AAA</td>\n",
       "      <td>[1759, 1762]</td>\n",
       "      <td>[1758, 1759, 1760, 1761, 1762, 1763]</td>\n",
       "    </tr>\n",
       "  </tbody>\n",
       "</table>\n",
       "</div>"
      ],
      "text/plain": [
       "   id_student code_course         success_assessment_list  \\\n",
       "0        6516   2014J_AAA  [1758, 1759, 1760, 1761, 1762]   \n",
       "1       24734   2014J_AAA                          [1762]   \n",
       "2       26192   2014J_AAA  [1758, 1759, 1760, 1761, 1762]   \n",
       "3       28061   2014J_AAA        [1758, 1760, 1761, 1762]   \n",
       "4       31600   2014J_AAA                    [1759, 1762]   \n",
       "\n",
       "                        assessment_list  \n",
       "0  [1758, 1759, 1760, 1761, 1762, 1763]  \n",
       "1  [1758, 1759, 1760, 1761, 1762, 1763]  \n",
       "2  [1758, 1759, 1760, 1761, 1762, 1763]  \n",
       "3  [1758, 1759, 1760, 1761, 1762, 1763]  \n",
       "4  [1758, 1759, 1760, 1761, 1762, 1763]  "
      ]
     },
     "execution_count": 93,
     "metadata": {},
     "output_type": "execute_result"
    }
   ],
   "source": [
    "student_success_courses = student_success_required.merge(required_assessments_by_course, on='code_course')                      \n",
    "student_success_courses.head()"
   ]
  },
  {
   "cell_type": "markdown",
   "metadata": {},
   "source": [
    "Проверим, есть ли студенты, которые за один курс успешно сдали больше тестов, чем требуется"
   ]
  },
  {
   "cell_type": "code",
   "execution_count": 94,
   "metadata": {},
   "outputs": [
    {
     "data": {
      "text/plain": [
       "0"
      ]
     },
     "execution_count": 94,
     "metadata": {},
     "output_type": "execute_result"
    }
   ],
   "source": [
    "student_success_courses[student_success_courses['success_assessment_list'].str.len() > student_success_courses['assessment_list'].str.len()].shape[0]"
   ]
  },
  {
   "cell_type": "markdown",
   "metadata": {},
   "source": [
    "Таких студентов нет. \n",
    "\n",
    "Тогда оставим только те данные, где список необходимых для курса тестов **assessment_list** такой же, как список тестов, успешно сданных студентом **success_assessment_list**"
   ]
  },
  {
   "cell_type": "code",
   "execution_count": 95,
   "metadata": {},
   "outputs": [
    {
     "data": {
      "text/html": [
       "<div>\n",
       "<style scoped>\n",
       "    .dataframe tbody tr th:only-of-type {\n",
       "        vertical-align: middle;\n",
       "    }\n",
       "\n",
       "    .dataframe tbody tr th {\n",
       "        vertical-align: top;\n",
       "    }\n",
       "\n",
       "    .dataframe thead th {\n",
       "        text-align: right;\n",
       "    }\n",
       "</style>\n",
       "<table border=\"1\" class=\"dataframe\">\n",
       "  <thead>\n",
       "    <tr style=\"text-align: right;\">\n",
       "      <th></th>\n",
       "      <th>id_student</th>\n",
       "      <th>code_course</th>\n",
       "    </tr>\n",
       "  </thead>\n",
       "  <tbody>\n",
       "    <tr>\n",
       "      <th>331</th>\n",
       "      <td>40184</td>\n",
       "      <td>2013J_DDD</td>\n",
       "    </tr>\n",
       "    <tr>\n",
       "      <th>332</th>\n",
       "      <td>40419</td>\n",
       "      <td>2013J_DDD</td>\n",
       "    </tr>\n",
       "    <tr>\n",
       "      <th>333</th>\n",
       "      <td>40563</td>\n",
       "      <td>2013J_DDD</td>\n",
       "    </tr>\n",
       "    <tr>\n",
       "      <th>337</th>\n",
       "      <td>51163</td>\n",
       "      <td>2013J_DDD</td>\n",
       "    </tr>\n",
       "    <tr>\n",
       "      <th>339</th>\n",
       "      <td>57818</td>\n",
       "      <td>2013J_DDD</td>\n",
       "    </tr>\n",
       "  </tbody>\n",
       "</table>\n",
       "</div>"
      ],
      "text/plain": [
       "     id_student code_course\n",
       "331       40184   2013J_DDD\n",
       "332       40419   2013J_DDD\n",
       "333       40563   2013J_DDD\n",
       "337       51163   2013J_DDD\n",
       "339       57818   2013J_DDD"
      ]
     },
     "execution_count": 95,
     "metadata": {},
     "output_type": "execute_result"
    }
   ],
   "source": [
    "Student_success_courses = student_success_courses.query('assessment_list == success_assessment_list').drop(['success_assessment_list', 'assessment_list'], axis=1)\n",
    "Student_success_courses.head()"
   ]
  },
  {
   "cell_type": "code",
   "execution_count": 96,
   "metadata": {},
   "outputs": [
    {
     "data": {
      "text/plain": [
       "1029"
      ]
     },
     "execution_count": 96,
     "metadata": {},
     "output_type": "execute_result"
    }
   ],
   "source": [
    "Student_success_courses.shape[0]"
   ]
  },
  {
   "cell_type": "markdown",
   "metadata": {},
   "source": [
    "Сгруппируем датафрейм **Student_success_courses** по **id_student** и через функцию **count** посчитаем для каждого студента количество успешно пройденных курсов. Выведем количество тех студентов, которые успешно сдали только 1 курс целиком"
   ]
  },
  {
   "cell_type": "code",
   "execution_count": 97,
   "metadata": {},
   "outputs": [
    {
     "data": {
      "text/plain": [
       "1029"
      ]
     },
     "execution_count": 97,
     "metadata": {},
     "output_type": "execute_result"
    }
   ],
   "source": [
    "res_success = Student_success_courses.groupby('id_student')\\\n",
    "                                       .agg({'code_course': 'count'})\\\n",
    "                                       .rename(columns={'code_course': 'course_count'})\\\n",
    "                                        .sort_values('course_count')\\\n",
    "                                        .query('course_count == 1')\n",
    "res_success.shape[0]"
   ]
  },
  {
   "cell_type": "markdown",
   "metadata": {},
   "source": [
    "Все необходимые для сдачи курса тесты сдали **1029** студентов. Причём все студенты целиком сдавали максимум **один курс**."
   ]
  },
  {
   "cell_type": "markdown",
   "metadata": {},
   "source": [
    "### Ответ: \n",
    "\n",
    "Для ответа на поставленный вопрос, мной было принято решение посчитать количество студентов, сдавших все необходимые тесты за курс и отдельно посчитать количество студентов, сдавших хотя бы заключительный экзамен.\n",
    "* Количество студентов, успешно сдавших 1 курс (т.е. сдавших хотя бы заключительный экзамен) составляет **2626** студентов\n",
    "* Количество студентов, успешно сдавших 1 курс **целиком** (т.е. сдавший все необходимые тесты) - **1029** студентов\n",
    "* Количество студентов, сдавших только один экзамен из двух необходимых по курсу **2014B_CCC** - **662** студента\n",
    "* Количество студентов, сдавших только один экзамен из двух необходимых по курсу **2014J_CCC** - **1018** студентов"
   ]
  },
  {
   "cell_type": "markdown",
   "metadata": {},
   "source": [
    "## 2. Выявим самый сложный и самый простой экзамен. \n",
    "\n",
    "Найдём курсы и экзамены в рамках курса, которые обладают самой низкой и самой высокой **завершаемостью**.\n",
    "\n",
    "Под **завершаемостью экзаменов** будем понимать отношение количества успешных сдач экзаменов к количеству всех попыток сдать экзамены.\n",
    "\n",
    "Под **завершаемостью курсов** будем понимать отношение количества успешных сдач тестов (**CMA**, **TMA** и **Exam**) к количеству всех попыток сдать тесты (в рамках курса).\n",
    "\n",
    "Воспользуемся датафреймом **Students_assessments_data**, сгруппируем его по столбцам **code_presentation**, **code_module** с подсчётом количества успешных попыток сдать тест (через **sum**) и количества всех попыток(через **np.size**), назовём их **success_tests** и **total_tests** соответственно."
   ]
  },
  {
   "cell_type": "code",
   "execution_count": 98,
   "metadata": {},
   "outputs": [
    {
     "data": {
      "text/html": [
       "<div>\n",
       "<style scoped>\n",
       "    .dataframe tbody tr th:only-of-type {\n",
       "        vertical-align: middle;\n",
       "    }\n",
       "\n",
       "    .dataframe tbody tr th {\n",
       "        vertical-align: top;\n",
       "    }\n",
       "\n",
       "    .dataframe thead th {\n",
       "        text-align: right;\n",
       "    }\n",
       "</style>\n",
       "<table border=\"1\" class=\"dataframe\">\n",
       "  <thead>\n",
       "    <tr style=\"text-align: right;\">\n",
       "      <th></th>\n",
       "      <th>code_course</th>\n",
       "      <th>success_tests</th>\n",
       "      <th>total_tests</th>\n",
       "    </tr>\n",
       "  </thead>\n",
       "  <tbody>\n",
       "    <tr>\n",
       "      <th>0</th>\n",
       "      <td>2013B_BBB</td>\n",
       "      <td>4784</td>\n",
       "      <td>11256</td>\n",
       "    </tr>\n",
       "    <tr>\n",
       "      <th>1</th>\n",
       "      <td>2013B_DDD</td>\n",
       "      <td>4032</td>\n",
       "      <td>10373</td>\n",
       "    </tr>\n",
       "    <tr>\n",
       "      <th>2</th>\n",
       "      <td>2013B_FFF</td>\n",
       "      <td>10683</td>\n",
       "      <td>12195</td>\n",
       "    </tr>\n",
       "    <tr>\n",
       "      <th>3</th>\n",
       "      <td>2013J_AAA</td>\n",
       "      <td>1226</td>\n",
       "      <td>1633</td>\n",
       "    </tr>\n",
       "    <tr>\n",
       "      <th>4</th>\n",
       "      <td>2013J_BBB</td>\n",
       "      <td>6575</td>\n",
       "      <td>14375</td>\n",
       "    </tr>\n",
       "  </tbody>\n",
       "</table>\n",
       "</div>"
      ],
      "text/plain": [
       "  code_course  success_tests  total_tests\n",
       "0   2013B_BBB           4784        11256\n",
       "1   2013B_DDD           4032        10373\n",
       "2   2013B_FFF          10683        12195\n",
       "3   2013J_AAA           1226         1633\n",
       "4   2013J_BBB           6575        14375"
      ]
     },
     "execution_count": 98,
     "metadata": {},
     "output_type": "execute_result"
    }
   ],
   "source": [
    "Course_completion = Students_assessments_data.groupby(['code_course'], as_index=False)\\\n",
    "                                             .agg(success_tests=('is_success', np.sum),\n",
    "                                                  total_tests=('is_success', np.size))\n",
    "Course_completion.head()"
   ]
  },
  {
   "cell_type": "markdown",
   "metadata": {},
   "source": [
    "Добавим столбец с завершаемостью **completion**, отсортируем датафрейм по этому столбцу"
   ]
  },
  {
   "cell_type": "code",
   "execution_count": 99,
   "metadata": {},
   "outputs": [],
   "source": [
    "Course_completion['completion'] = round(100 * Course_completion['success_tests'] / Course_completion['total_tests'], 2)\n",
    "Course_completion = Course_completion.sort_values('completion')\n",
    "Course_completion = Course_completion.drop(['success_tests', 'total_tests'], axis=1)"
   ]
  },
  {
   "cell_type": "markdown",
   "metadata": {},
   "source": [
    "### Самый сложный курс"
   ]
  },
  {
   "cell_type": "code",
   "execution_count": 100,
   "metadata": {},
   "outputs": [
    {
     "data": {
      "text/html": [
       "<div>\n",
       "<style scoped>\n",
       "    .dataframe tbody tr th:only-of-type {\n",
       "        vertical-align: middle;\n",
       "    }\n",
       "\n",
       "    .dataframe tbody tr th {\n",
       "        vertical-align: top;\n",
       "    }\n",
       "\n",
       "    .dataframe thead th {\n",
       "        text-align: right;\n",
       "    }\n",
       "</style>\n",
       "<table border=\"1\" class=\"dataframe\">\n",
       "  <thead>\n",
       "    <tr style=\"text-align: right;\">\n",
       "      <th></th>\n",
       "      <th>code_course</th>\n",
       "      <th>completion</th>\n",
       "    </tr>\n",
       "  </thead>\n",
       "  <tbody>\n",
       "    <tr>\n",
       "      <th>10</th>\n",
       "      <td>2014B_CCC</td>\n",
       "      <td>36.39</td>\n",
       "    </tr>\n",
       "  </tbody>\n",
       "</table>\n",
       "</div>"
      ],
      "text/plain": [
       "   code_course  completion\n",
       "10   2014B_CCC       36.39"
      ]
     },
     "execution_count": 100,
     "metadata": {},
     "output_type": "execute_result"
    }
   ],
   "source": [
    "Course_completion.head(1)"
   ]
  },
  {
   "cell_type": "markdown",
   "metadata": {},
   "source": [
    "### Самый простой курс"
   ]
  },
  {
   "cell_type": "code",
   "execution_count": 101,
   "metadata": {},
   "outputs": [
    {
     "data": {
      "text/html": [
       "<div>\n",
       "<style scoped>\n",
       "    .dataframe tbody tr th:only-of-type {\n",
       "        vertical-align: middle;\n",
       "    }\n",
       "\n",
       "    .dataframe tbody tr th {\n",
       "        vertical-align: top;\n",
       "    }\n",
       "\n",
       "    .dataframe thead th {\n",
       "        text-align: right;\n",
       "    }\n",
       "</style>\n",
       "<table border=\"1\" class=\"dataframe\">\n",
       "  <thead>\n",
       "    <tr style=\"text-align: right;\">\n",
       "      <th></th>\n",
       "      <th>code_course</th>\n",
       "      <th>completion</th>\n",
       "    </tr>\n",
       "  </thead>\n",
       "  <tbody>\n",
       "    <tr>\n",
       "      <th>8</th>\n",
       "      <td>2013J_GGG</td>\n",
       "      <td>89.53</td>\n",
       "    </tr>\n",
       "  </tbody>\n",
       "</table>\n",
       "</div>"
      ],
      "text/plain": [
       "  code_course  completion\n",
       "8   2013J_GGG       89.53"
      ]
     },
     "execution_count": 101,
     "metadata": {},
     "output_type": "execute_result"
    }
   ],
   "source": [
    "Course_completion.tail(1)"
   ]
  },
  {
   "cell_type": "markdown",
   "metadata": {},
   "source": [
    "Произведём аналогичный перечень преобразований для нахождения самого лёгкого и самого сложного экзаменов\n",
    "\n",
    "1. Cгруппируем датафрейм **Students_assessments_data** по столбцам **code_presentation**, **code_module**, **assessment_type** и **id_assessment** (*этот столбец необходим, т.к. для курсов 2014B_CCC и 2014J_CCC студент должен сдать два экзамена*) с подсчётом количества успешных попыток сдать экзамен (через **sum**) и количества всех попыток (через **size**), назовём их **success_exams** и **total_exams** соответственно.\n",
    "2. Добавим столбец **completion**, отсортируем датафрейм \n",
    "3. Оставим только необходимые столбцы - **code_course** и **completion**"
   ]
  },
  {
   "cell_type": "code",
   "execution_count": 102,
   "metadata": {},
   "outputs": [],
   "source": [
    "Exam_completion = Students_assessments_data.query('assessment_type == \"Exam\"')\\\n",
    "                                           .groupby(['code_course', 'id_assessment'], as_index=False)\\\n",
    "                                           .agg(success_exams=('is_success', np.sum),\n",
    "                                                total_exams=('is_success', np.size))\n",
    "Exam_completion['completion'] = round(100 * Exam_completion['success_exams'] / Exam_completion['total_exams'], 2)\n",
    "Exam_completion = Exam_completion.sort_values('completion')\n",
    "Exam_completion.drop(['success_exams', 'total_exams', 'id_assessment'], axis=1, inplace=True)"
   ]
  },
  {
   "cell_type": "markdown",
   "metadata": {},
   "source": [
    "### Самый сложный экзамен"
   ]
  },
  {
   "cell_type": "code",
   "execution_count": 103,
   "metadata": {},
   "outputs": [
    {
     "data": {
      "text/html": [
       "<div>\n",
       "<style scoped>\n",
       "    .dataframe tbody tr th:only-of-type {\n",
       "        vertical-align: middle;\n",
       "    }\n",
       "\n",
       "    .dataframe tbody tr th {\n",
       "        vertical-align: top;\n",
       "    }\n",
       "\n",
       "    .dataframe thead th {\n",
       "        text-align: right;\n",
       "    }\n",
       "</style>\n",
       "<table border=\"1\" class=\"dataframe\">\n",
       "  <thead>\n",
       "    <tr style=\"text-align: right;\">\n",
       "      <th></th>\n",
       "      <th>code_course</th>\n",
       "      <th>completion</th>\n",
       "    </tr>\n",
       "  </thead>\n",
       "  <tbody>\n",
       "    <tr>\n",
       "      <th>0</th>\n",
       "      <td>2013B_DDD</td>\n",
       "      <td>83.22</td>\n",
       "    </tr>\n",
       "  </tbody>\n",
       "</table>\n",
       "</div>"
      ],
      "text/plain": [
       "  code_course  completion\n",
       "0   2013B_DDD       83.22"
      ]
     },
     "execution_count": 103,
     "metadata": {},
     "output_type": "execute_result"
    }
   ],
   "source": [
    "Exam_completion.head(1)"
   ]
  },
  {
   "cell_type": "markdown",
   "metadata": {},
   "source": [
    "### Самый простой экзамен"
   ]
  },
  {
   "cell_type": "code",
   "execution_count": 104,
   "metadata": {},
   "outputs": [
    {
     "data": {
      "text/html": [
       "<div>\n",
       "<style scoped>\n",
       "    .dataframe tbody tr th:only-of-type {\n",
       "        vertical-align: middle;\n",
       "    }\n",
       "\n",
       "    .dataframe tbody tr th {\n",
       "        vertical-align: top;\n",
       "    }\n",
       "\n",
       "    .dataframe thead th {\n",
       "        text-align: right;\n",
       "    }\n",
       "</style>\n",
       "<table border=\"1\" class=\"dataframe\">\n",
       "  <thead>\n",
       "    <tr style=\"text-align: right;\">\n",
       "      <th></th>\n",
       "      <th>code_course</th>\n",
       "      <th>completion</th>\n",
       "    </tr>\n",
       "  </thead>\n",
       "  <tbody>\n",
       "    <tr>\n",
       "      <th>3</th>\n",
       "      <td>2014B_DDD</td>\n",
       "      <td>91.98</td>\n",
       "    </tr>\n",
       "  </tbody>\n",
       "</table>\n",
       "</div>"
      ],
      "text/plain": [
       "  code_course  completion\n",
       "3   2014B_DDD       91.98"
      ]
     },
     "execution_count": 104,
     "metadata": {},
     "output_type": "execute_result"
    }
   ],
   "source": [
    "Exam_completion.tail(1)"
   ]
  },
  {
   "cell_type": "markdown",
   "metadata": {},
   "source": [
    "### Ответ:\n",
    "\n",
    "1. Самый сложный курс **2014B_CCC** (Завершаемость - **36.39** %)\n",
    "2. Самый простой курс **2014J_FFF** (Завершаемость -  **89.53** %)\n",
    "3. Самый сложный экзамен - **2013B_DDD** (Завершаемость - **83.22** %)\n",
    "4. Самый простой экзамен - **2014B_DDD**\t(Завершаемость - **91.98** %)\n"
   ]
  },
  {
   "cell_type": "markdown",
   "metadata": {},
   "source": [
    "## 3. По каждому предмету определи средний срок сдачи экзаменов (под сдачей понимаем последнее успешное прохождение экзамена студентом)"
   ]
  },
  {
   "cell_type": "markdown",
   "metadata": {},
   "source": [
    "Для решения данной задачи посчитаем средниие сроки сдачи экзаменов с начала семестра\n",
    "\n",
    "Воспользуемся датафреймом из предыдущего шага **Students_assessments_data**. Посмотрим есть ли в этом датафрейме  студенты, которые несколько раз успешно сдавали один и тот же экзамен. Оставим в датафрейме только успешные экзамены, также исключим перезачёты, т.к. для перезачётов устанавливается время сдачи теста **-1**."
   ]
  },
  {
   "cell_type": "code",
   "execution_count": 105,
   "metadata": {},
   "outputs": [
    {
     "data": {
      "text/plain": [
       "0"
      ]
     },
     "execution_count": 105,
     "metadata": {},
     "output_type": "execute_result"
    }
   ],
   "source": [
    "Student_Exams_success = Students_assessments_data.query('is_success == 1 \\\n",
    "                                                        & assessment_type == \"Exam\"\\\n",
    "                                                        & is_banked == 0')\n",
    "Student_Exams_success[Student_Exams_success.duplicated(subset=['code_course', 'id_student'])].shape[0]"
   ]
  },
  {
   "cell_type": "markdown",
   "metadata": {},
   "source": [
    "Таких студентов не оказалось.\n",
    "\n"
   ]
  },
  {
   "cell_type": "markdown",
   "metadata": {},
   "source": [
    "Посмотрим на значения в столбце **date_submitted**"
   ]
  },
  {
   "cell_type": "code",
   "execution_count": 106,
   "metadata": {},
   "outputs": [
    {
     "data": {
      "text/plain": [
       "count    4382.000000\n",
       "mean      238.467595\n",
       "std         5.606777\n",
       "min       229.000000\n",
       "25%       234.000000\n",
       "50%       241.000000\n",
       "75%       243.000000\n",
       "max       259.000000\n",
       "Name: date_submitted, dtype: float64"
      ]
     },
     "execution_count": 106,
     "metadata": {},
     "output_type": "execute_result"
    }
   ],
   "source": [
    "Student_Exams_success['date_submitted'].describe()"
   ]
  },
  {
   "cell_type": "markdown",
   "metadata": {},
   "source": [
    "Отрицательных значений нет. Сгруппируем датафрейм **Success_exams** по предметам и посчитаем медианное количество дней сдачи экзаменов с момента начала курса."
   ]
  },
  {
   "cell_type": "code",
   "execution_count": 107,
   "metadata": {},
   "outputs": [
    {
     "data": {
      "text/html": [
       "<div>\n",
       "<style scoped>\n",
       "    .dataframe tbody tr th:only-of-type {\n",
       "        vertical-align: middle;\n",
       "    }\n",
       "\n",
       "    .dataframe tbody tr th {\n",
       "        vertical-align: top;\n",
       "    }\n",
       "\n",
       "    .dataframe thead th {\n",
       "        text-align: right;\n",
       "    }\n",
       "</style>\n",
       "<table border=\"1\" class=\"dataframe\">\n",
       "  <thead>\n",
       "    <tr style=\"text-align: right;\">\n",
       "      <th></th>\n",
       "      <th>code_module</th>\n",
       "      <th>days_submitted_median</th>\n",
       "    </tr>\n",
       "  </thead>\n",
       "  <tbody>\n",
       "    <tr>\n",
       "      <th>0</th>\n",
       "      <td>CCC</td>\n",
       "      <td>244</td>\n",
       "    </tr>\n",
       "    <tr>\n",
       "      <th>1</th>\n",
       "      <td>DDD</td>\n",
       "      <td>237</td>\n",
       "    </tr>\n",
       "  </tbody>\n",
       "</table>\n",
       "</div>"
      ],
      "text/plain": [
       "  code_module  days_submitted_median\n",
       "0         CCC                    244\n",
       "1         DDD                    237"
      ]
     },
     "execution_count": 107,
     "metadata": {},
     "output_type": "execute_result"
    }
   ],
   "source": [
    "Student_Exams_success.groupby('code_module', as_index=False)\\\n",
    "               .agg(days_submitted_median=('date_submitted', np.median))"
   ]
  },
  {
   "cell_type": "markdown",
   "metadata": {},
   "source": [
    "### Ответ:\n",
    "\n",
    "* Средний срок сдачи экзамена по предмету **CCC** в среднем составляет **244** дня с момента начала семестра \n",
    "* Средний срок сдачи экзамена по предмету **DDD** - **237** дней с момента начала семестра \n",
    "* Студенты не сдавали экзамены по другим предметам, поэтому расчёт среднего срока сдачи экзамена невозможен"
   ]
  },
  {
   "cell_type": "markdown",
   "metadata": {},
   "source": [
    "## 4. Найти самые популярные предметы (ТОП-3) по количеству регистраций на них. А также предметы с самым большим оттоком (ТОП-3)."
   ]
  },
  {
   "cell_type": "markdown",
   "metadata": {},
   "source": [
    "Посмотрим, есть ли в датафрейме **df_studentRegistration** студенты, которые регистрировались на один и тот же курс больше одного раза, выведем их количество"
   ]
  },
  {
   "cell_type": "code",
   "execution_count": 108,
   "metadata": {},
   "outputs": [
    {
     "data": {
      "text/plain": [
       "0"
      ]
     },
     "execution_count": 108,
     "metadata": {},
     "output_type": "execute_result"
    }
   ],
   "source": [
    "df_studentRegistration[df_studentRegistration.duplicated(['code_course', 'id_student'])].shape[0]"
   ]
  },
  {
   "cell_type": "markdown",
   "metadata": {},
   "source": [
    "Таких студентов нет. В таком случае, сгруппируем датафрейм **df_studentRegistration** по столбцам **code_course** и **code_module**, посчитаем количество регистраций и отменённых регистраций."
   ]
  },
  {
   "cell_type": "code",
   "execution_count": 109,
   "metadata": {},
   "outputs": [
    {
     "data": {
      "text/html": [
       "<div>\n",
       "<style scoped>\n",
       "    .dataframe tbody tr th:only-of-type {\n",
       "        vertical-align: middle;\n",
       "    }\n",
       "\n",
       "    .dataframe tbody tr th {\n",
       "        vertical-align: top;\n",
       "    }\n",
       "\n",
       "    .dataframe thead th {\n",
       "        text-align: right;\n",
       "    }\n",
       "</style>\n",
       "<table border=\"1\" class=\"dataframe\">\n",
       "  <thead>\n",
       "    <tr style=\"text-align: right;\">\n",
       "      <th></th>\n",
       "      <th>code_course</th>\n",
       "      <th>code_module</th>\n",
       "      <th>registration_count</th>\n",
       "      <th>unregistration_count</th>\n",
       "    </tr>\n",
       "  </thead>\n",
       "  <tbody>\n",
       "    <tr>\n",
       "      <th>0</th>\n",
       "      <td>2013B_BBB</td>\n",
       "      <td>BBB</td>\n",
       "      <td>1767</td>\n",
       "      <td>505</td>\n",
       "    </tr>\n",
       "    <tr>\n",
       "      <th>1</th>\n",
       "      <td>2013B_DDD</td>\n",
       "      <td>DDD</td>\n",
       "      <td>1303</td>\n",
       "      <td>431</td>\n",
       "    </tr>\n",
       "    <tr>\n",
       "      <th>2</th>\n",
       "      <td>2013B_FFF</td>\n",
       "      <td>FFF</td>\n",
       "      <td>1614</td>\n",
       "      <td>411</td>\n",
       "    </tr>\n",
       "    <tr>\n",
       "      <th>3</th>\n",
       "      <td>2013J_AAA</td>\n",
       "      <td>AAA</td>\n",
       "      <td>383</td>\n",
       "      <td>60</td>\n",
       "    </tr>\n",
       "    <tr>\n",
       "      <th>4</th>\n",
       "      <td>2013J_BBB</td>\n",
       "      <td>BBB</td>\n",
       "      <td>2237</td>\n",
       "      <td>647</td>\n",
       "    </tr>\n",
       "  </tbody>\n",
       "</table>\n",
       "</div>"
      ],
      "text/plain": [
       "  code_course code_module  registration_count  unregistration_count\n",
       "0   2013B_BBB         BBB                1767                   505\n",
       "1   2013B_DDD         DDD                1303                   431\n",
       "2   2013B_FFF         FFF                1614                   411\n",
       "3   2013J_AAA         AAA                 383                    60\n",
       "4   2013J_BBB         BBB                2237                   647"
      ]
     },
     "execution_count": 109,
     "metadata": {},
     "output_type": "execute_result"
    }
   ],
   "source": [
    "Registration_byCourse = df_studentRegistration.groupby(['code_course', 'code_module'], as_index=False)\\\n",
    "                                              .agg({'date_registration': 'count', 'date_unregistration': 'count'})\\\n",
    "                                              .rename(columns={'date_registration': 'registration_count',\n",
    "                                                              'date_unregistration': 'unregistration_count'})\n",
    "Registration_byCourse.head()"
   ]
  },
  {
   "cell_type": "markdown",
   "metadata": {},
   "source": [
    "Сгруппируем получившийся датафрейм по предмету, просуммировав количество регистраций и отменённых регистраций"
   ]
  },
  {
   "cell_type": "code",
   "execution_count": 110,
   "metadata": {},
   "outputs": [
    {
     "data": {
      "text/html": [
       "<div>\n",
       "<style scoped>\n",
       "    .dataframe tbody tr th:only-of-type {\n",
       "        vertical-align: middle;\n",
       "    }\n",
       "\n",
       "    .dataframe tbody tr th {\n",
       "        vertical-align: top;\n",
       "    }\n",
       "\n",
       "    .dataframe thead th {\n",
       "        text-align: right;\n",
       "    }\n",
       "</style>\n",
       "<table border=\"1\" class=\"dataframe\">\n",
       "  <thead>\n",
       "    <tr style=\"text-align: right;\">\n",
       "      <th></th>\n",
       "      <th>code_module</th>\n",
       "      <th>registration_count</th>\n",
       "      <th>unregistration_count</th>\n",
       "    </tr>\n",
       "  </thead>\n",
       "  <tbody>\n",
       "    <tr>\n",
       "      <th>0</th>\n",
       "      <td>AAA</td>\n",
       "      <td>748</td>\n",
       "      <td>126</td>\n",
       "    </tr>\n",
       "    <tr>\n",
       "      <th>1</th>\n",
       "      <td>BBB</td>\n",
       "      <td>7909</td>\n",
       "      <td>2377</td>\n",
       "    </tr>\n",
       "    <tr>\n",
       "      <th>2</th>\n",
       "      <td>CCC</td>\n",
       "      <td>4434</td>\n",
       "      <td>1947</td>\n",
       "    </tr>\n",
       "    <tr>\n",
       "      <th>3</th>\n",
       "      <td>DDD</td>\n",
       "      <td>6272</td>\n",
       "      <td>2235</td>\n",
       "    </tr>\n",
       "    <tr>\n",
       "      <th>4</th>\n",
       "      <td>EEE</td>\n",
       "      <td>2934</td>\n",
       "      <td>718</td>\n",
       "    </tr>\n",
       "  </tbody>\n",
       "</table>\n",
       "</div>"
      ],
      "text/plain": [
       "  code_module  registration_count  unregistration_count\n",
       "0         AAA                 748                   126\n",
       "1         BBB                7909                  2377\n",
       "2         CCC                4434                  1947\n",
       "3         DDD                6272                  2235\n",
       "4         EEE                2934                   718"
      ]
     },
     "execution_count": 110,
     "metadata": {},
     "output_type": "execute_result"
    }
   ],
   "source": [
    "Registration_byModule = Registration_byCourse.groupby(['code_module'], as_index=False)\\\n",
    "                                             .agg({'registration_count': 'sum', 'unregistration_count': 'sum'})\n",
    "Registration_byModule.head()"
   ]
  },
  {
   "cell_type": "markdown",
   "metadata": {},
   "source": [
    "### ТОП3 самых популярных предмета по регистрации"
   ]
  },
  {
   "cell_type": "code",
   "execution_count": 111,
   "metadata": {},
   "outputs": [
    {
     "data": {
      "text/html": [
       "<div>\n",
       "<style scoped>\n",
       "    .dataframe tbody tr th:only-of-type {\n",
       "        vertical-align: middle;\n",
       "    }\n",
       "\n",
       "    .dataframe tbody tr th {\n",
       "        vertical-align: top;\n",
       "    }\n",
       "\n",
       "    .dataframe thead th {\n",
       "        text-align: right;\n",
       "    }\n",
       "</style>\n",
       "<table border=\"1\" class=\"dataframe\">\n",
       "  <thead>\n",
       "    <tr style=\"text-align: right;\">\n",
       "      <th></th>\n",
       "      <th>code_module</th>\n",
       "      <th>registration_count</th>\n",
       "    </tr>\n",
       "  </thead>\n",
       "  <tbody>\n",
       "    <tr>\n",
       "      <th>1</th>\n",
       "      <td>BBB</td>\n",
       "      <td>7909</td>\n",
       "    </tr>\n",
       "    <tr>\n",
       "      <th>5</th>\n",
       "      <td>FFF</td>\n",
       "      <td>7762</td>\n",
       "    </tr>\n",
       "    <tr>\n",
       "      <th>3</th>\n",
       "      <td>DDD</td>\n",
       "      <td>6272</td>\n",
       "    </tr>\n",
       "  </tbody>\n",
       "</table>\n",
       "</div>"
      ],
      "text/plain": [
       "  code_module  registration_count\n",
       "1         BBB                7909\n",
       "5         FFF                7762\n",
       "3         DDD                6272"
      ]
     },
     "execution_count": 111,
     "metadata": {},
     "output_type": "execute_result"
    }
   ],
   "source": [
    "Registration_byModule[['code_module', 'registration_count']].sort_values('registration_count', ascending=False).head(3)"
   ]
  },
  {
   "cell_type": "markdown",
   "metadata": {},
   "source": [
    "### ТОП3 самых популярных предмета по оттоку (отмене регистрации)"
   ]
  },
  {
   "cell_type": "code",
   "execution_count": 112,
   "metadata": {},
   "outputs": [
    {
     "data": {
      "text/html": [
       "<div>\n",
       "<style scoped>\n",
       "    .dataframe tbody tr th:only-of-type {\n",
       "        vertical-align: middle;\n",
       "    }\n",
       "\n",
       "    .dataframe tbody tr th {\n",
       "        vertical-align: top;\n",
       "    }\n",
       "\n",
       "    .dataframe thead th {\n",
       "        text-align: right;\n",
       "    }\n",
       "</style>\n",
       "<table border=\"1\" class=\"dataframe\">\n",
       "  <thead>\n",
       "    <tr style=\"text-align: right;\">\n",
       "      <th></th>\n",
       "      <th>code_module</th>\n",
       "      <th>unregistration_count</th>\n",
       "    </tr>\n",
       "  </thead>\n",
       "  <tbody>\n",
       "    <tr>\n",
       "      <th>5</th>\n",
       "      <td>FFF</td>\n",
       "      <td>2380</td>\n",
       "    </tr>\n",
       "    <tr>\n",
       "      <th>1</th>\n",
       "      <td>BBB</td>\n",
       "      <td>2377</td>\n",
       "    </tr>\n",
       "    <tr>\n",
       "      <th>3</th>\n",
       "      <td>DDD</td>\n",
       "      <td>2235</td>\n",
       "    </tr>\n",
       "  </tbody>\n",
       "</table>\n",
       "</div>"
      ],
      "text/plain": [
       "  code_module  unregistration_count\n",
       "5         FFF                  2380\n",
       "1         BBB                  2377\n",
       "3         DDD                  2235"
      ]
     },
     "execution_count": 112,
     "metadata": {},
     "output_type": "execute_result"
    }
   ],
   "source": [
    "Registration_byModule[['code_module', 'unregistration_count']].sort_values('unregistration_count', ascending=False).head(3)"
   ]
  },
  {
   "cell_type": "markdown",
   "metadata": {},
   "source": [
    "### ТОП3 самых популярных курса по регистрации"
   ]
  },
  {
   "cell_type": "code",
   "execution_count": 113,
   "metadata": {},
   "outputs": [
    {
     "data": {
      "text/html": [
       "<div>\n",
       "<style scoped>\n",
       "    .dataframe tbody tr th:only-of-type {\n",
       "        vertical-align: middle;\n",
       "    }\n",
       "\n",
       "    .dataframe tbody tr th {\n",
       "        vertical-align: top;\n",
       "    }\n",
       "\n",
       "    .dataframe thead th {\n",
       "        text-align: right;\n",
       "    }\n",
       "</style>\n",
       "<table border=\"1\" class=\"dataframe\">\n",
       "  <thead>\n",
       "    <tr style=\"text-align: right;\">\n",
       "      <th></th>\n",
       "      <th>code_course</th>\n",
       "      <th>registration_count</th>\n",
       "    </tr>\n",
       "  </thead>\n",
       "  <tbody>\n",
       "    <tr>\n",
       "      <th>17</th>\n",
       "      <td>2014J_CCC</td>\n",
       "      <td>2498</td>\n",
       "    </tr>\n",
       "    <tr>\n",
       "      <th>20</th>\n",
       "      <td>2014J_FFF</td>\n",
       "      <td>2365</td>\n",
       "    </tr>\n",
       "    <tr>\n",
       "      <th>16</th>\n",
       "      <td>2014J_BBB</td>\n",
       "      <td>2292</td>\n",
       "    </tr>\n",
       "  </tbody>\n",
       "</table>\n",
       "</div>"
      ],
      "text/plain": [
       "   code_course  registration_count\n",
       "17   2014J_CCC                2498\n",
       "20   2014J_FFF                2365\n",
       "16   2014J_BBB                2292"
      ]
     },
     "execution_count": 113,
     "metadata": {},
     "output_type": "execute_result"
    }
   ],
   "source": [
    "Registration_byCourse[['code_course', 'registration_count']].sort_values('registration_count', ascending=False).head(3)"
   ]
  },
  {
   "cell_type": "markdown",
   "metadata": {},
   "source": [
    "### ТОП3 самых популярных курса по оттоку (отмене регистрации)"
   ]
  },
  {
   "cell_type": "code",
   "execution_count": 114,
   "metadata": {},
   "outputs": [
    {
     "data": {
      "text/html": [
       "<div>\n",
       "<style scoped>\n",
       "    .dataframe tbody tr th:only-of-type {\n",
       "        vertical-align: middle;\n",
       "    }\n",
       "\n",
       "    .dataframe tbody tr th {\n",
       "        vertical-align: top;\n",
       "    }\n",
       "\n",
       "    .dataframe thead th {\n",
       "        text-align: right;\n",
       "    }\n",
       "</style>\n",
       "<table border=\"1\" class=\"dataframe\">\n",
       "  <thead>\n",
       "    <tr style=\"text-align: right;\">\n",
       "      <th></th>\n",
       "      <th>code_course</th>\n",
       "      <th>unregistration_count</th>\n",
       "    </tr>\n",
       "  </thead>\n",
       "  <tbody>\n",
       "    <tr>\n",
       "      <th>17</th>\n",
       "      <td>2014J_CCC</td>\n",
       "      <td>1049</td>\n",
       "    </tr>\n",
       "    <tr>\n",
       "      <th>10</th>\n",
       "      <td>2014B_CCC</td>\n",
       "      <td>898</td>\n",
       "    </tr>\n",
       "    <tr>\n",
       "      <th>20</th>\n",
       "      <td>2014J_FFF</td>\n",
       "      <td>831</td>\n",
       "    </tr>\n",
       "  </tbody>\n",
       "</table>\n",
       "</div>"
      ],
      "text/plain": [
       "   code_course  unregistration_count\n",
       "17   2014J_CCC                  1049\n",
       "10   2014B_CCC                   898\n",
       "20   2014J_FFF                   831"
      ]
     },
     "execution_count": 114,
     "metadata": {},
     "output_type": "execute_result"
    }
   ],
   "source": [
    "Registration_byCourse[['code_course', 'unregistration_count']].sort_values('unregistration_count', ascending=False).head(3)"
   ]
  },
  {
   "cell_type": "markdown",
   "metadata": {},
   "source": [
    "В связи с очевидной положительной корреляцией между количеством регистраций и отмен регистраций. \n",
    "\n",
    "Создадим в датафреймах **Registration_byCourse** и **Registration_byModule** метрику успешности **S**, в которую запишем отношение количества отмен регистраций, к количеству регистраций. Будем считать, чем выше метрика **S**, тем предмет или курс."
   ]
  },
  {
   "cell_type": "code",
   "execution_count": 115,
   "metadata": {},
   "outputs": [],
   "source": [
    "module_unreg_count = Registration_byModule['unregistration_count']\n",
    "module_reg_count = Registration_byModule['registration_count']\n",
    "\n",
    "Registration_byModule['S'] = 100 - round(100 * module_unreg_count / module_reg_count, 2)\n",
    "\n",
    "course_unreg_count = Registration_byCourse['unregistration_count']\n",
    "course_reg_count = Registration_byCourse['registration_count']\n",
    "\n",
    "Registration_byCourse['S'] = 100 - round(100 * course_unreg_count / course_reg_count, 2) "
   ]
  },
  {
   "cell_type": "markdown",
   "metadata": {},
   "source": [
    "### ТОП3 \"успешных\" предмета "
   ]
  },
  {
   "cell_type": "code",
   "execution_count": 116,
   "metadata": {},
   "outputs": [
    {
     "data": {
      "text/html": [
       "<div>\n",
       "<style scoped>\n",
       "    .dataframe tbody tr th:only-of-type {\n",
       "        vertical-align: middle;\n",
       "    }\n",
       "\n",
       "    .dataframe tbody tr th {\n",
       "        vertical-align: top;\n",
       "    }\n",
       "\n",
       "    .dataframe thead th {\n",
       "        text-align: right;\n",
       "    }\n",
       "</style>\n",
       "<table border=\"1\" class=\"dataframe\">\n",
       "  <thead>\n",
       "    <tr style=\"text-align: right;\">\n",
       "      <th></th>\n",
       "      <th>code_module</th>\n",
       "      <th>S</th>\n",
       "    </tr>\n",
       "  </thead>\n",
       "  <tbody>\n",
       "    <tr>\n",
       "      <th>6</th>\n",
       "      <td>GGG</td>\n",
       "      <td>88.60</td>\n",
       "    </tr>\n",
       "    <tr>\n",
       "      <th>0</th>\n",
       "      <td>AAA</td>\n",
       "      <td>83.16</td>\n",
       "    </tr>\n",
       "    <tr>\n",
       "      <th>4</th>\n",
       "      <td>EEE</td>\n",
       "      <td>75.53</td>\n",
       "    </tr>\n",
       "  </tbody>\n",
       "</table>\n",
       "</div>"
      ],
      "text/plain": [
       "  code_module      S\n",
       "6         GGG  88.60\n",
       "0         AAA  83.16\n",
       "4         EEE  75.53"
      ]
     },
     "execution_count": 116,
     "metadata": {},
     "output_type": "execute_result"
    }
   ],
   "source": [
    "Registration_byModule[['code_module', 'S']].sort_values('S', ascending=False).head(3)"
   ]
  },
  {
   "cell_type": "markdown",
   "metadata": {},
   "source": [
    "### ТОП3 \"успешных\" курса"
   ]
  },
  {
   "cell_type": "code",
   "execution_count": 117,
   "metadata": {},
   "outputs": [
    {
     "data": {
      "text/html": [
       "<div>\n",
       "<style scoped>\n",
       "    .dataframe tbody tr th:only-of-type {\n",
       "        vertical-align: middle;\n",
       "    }\n",
       "\n",
       "    .dataframe tbody tr th {\n",
       "        vertical-align: top;\n",
       "    }\n",
       "\n",
       "    .dataframe thead th {\n",
       "        text-align: right;\n",
       "    }\n",
       "</style>\n",
       "<table border=\"1\" class=\"dataframe\">\n",
       "  <thead>\n",
       "    <tr style=\"text-align: right;\">\n",
       "      <th></th>\n",
       "      <th>code_course</th>\n",
       "      <th>S</th>\n",
       "    </tr>\n",
       "  </thead>\n",
       "  <tbody>\n",
       "    <tr>\n",
       "      <th>8</th>\n",
       "      <td>2013J_GGG</td>\n",
       "      <td>93.17</td>\n",
       "    </tr>\n",
       "    <tr>\n",
       "      <th>14</th>\n",
       "      <td>2014B_GGG</td>\n",
       "      <td>88.00</td>\n",
       "    </tr>\n",
       "    <tr>\n",
       "      <th>3</th>\n",
       "      <td>2013J_AAA</td>\n",
       "      <td>84.33</td>\n",
       "    </tr>\n",
       "  </tbody>\n",
       "</table>\n",
       "</div>"
      ],
      "text/plain": [
       "   code_course      S\n",
       "8    2013J_GGG  93.17\n",
       "14   2014B_GGG  88.00\n",
       "3    2013J_AAA  84.33"
      ]
     },
     "execution_count": 117,
     "metadata": {},
     "output_type": "execute_result"
    }
   ],
   "source": [
    "Registration_byCourse[['code_course', 'S']].sort_values('S', ascending=False).head(3)"
   ]
  },
  {
   "cell_type": "markdown",
   "metadata": {},
   "source": [
    "### ТОП3 \"неуспешных\" предмета"
   ]
  },
  {
   "cell_type": "code",
   "execution_count": 118,
   "metadata": {},
   "outputs": [
    {
     "data": {
      "text/html": [
       "<div>\n",
       "<style scoped>\n",
       "    .dataframe tbody tr th:only-of-type {\n",
       "        vertical-align: middle;\n",
       "    }\n",
       "\n",
       "    .dataframe tbody tr th {\n",
       "        vertical-align: top;\n",
       "    }\n",
       "\n",
       "    .dataframe thead th {\n",
       "        text-align: right;\n",
       "    }\n",
       "</style>\n",
       "<table border=\"1\" class=\"dataframe\">\n",
       "  <thead>\n",
       "    <tr style=\"text-align: right;\">\n",
       "      <th></th>\n",
       "      <th>code_module</th>\n",
       "      <th>S</th>\n",
       "    </tr>\n",
       "  </thead>\n",
       "  <tbody>\n",
       "    <tr>\n",
       "      <th>2</th>\n",
       "      <td>CCC</td>\n",
       "      <td>56.09</td>\n",
       "    </tr>\n",
       "    <tr>\n",
       "      <th>3</th>\n",
       "      <td>DDD</td>\n",
       "      <td>64.37</td>\n",
       "    </tr>\n",
       "    <tr>\n",
       "      <th>5</th>\n",
       "      <td>FFF</td>\n",
       "      <td>69.34</td>\n",
       "    </tr>\n",
       "  </tbody>\n",
       "</table>\n",
       "</div>"
      ],
      "text/plain": [
       "  code_module      S\n",
       "2         CCC  56.09\n",
       "3         DDD  64.37\n",
       "5         FFF  69.34"
      ]
     },
     "execution_count": 118,
     "metadata": {},
     "output_type": "execute_result"
    }
   ],
   "source": [
    "Registration_byModule[['code_module', 'S']].sort_values('S').head(3)"
   ]
  },
  {
   "cell_type": "markdown",
   "metadata": {},
   "source": [
    "### ТОП3 \"неуспешных\" курса"
   ]
  },
  {
   "cell_type": "code",
   "execution_count": 119,
   "metadata": {},
   "outputs": [
    {
     "data": {
      "text/html": [
       "<div>\n",
       "<style scoped>\n",
       "    .dataframe tbody tr th:only-of-type {\n",
       "        vertical-align: middle;\n",
       "    }\n",
       "\n",
       "    .dataframe tbody tr th {\n",
       "        vertical-align: top;\n",
       "    }\n",
       "\n",
       "    .dataframe thead th {\n",
       "        text-align: right;\n",
       "    }\n",
       "</style>\n",
       "<table border=\"1\" class=\"dataframe\">\n",
       "  <thead>\n",
       "    <tr style=\"text-align: right;\">\n",
       "      <th></th>\n",
       "      <th>code_course</th>\n",
       "      <th>S</th>\n",
       "    </tr>\n",
       "  </thead>\n",
       "  <tbody>\n",
       "    <tr>\n",
       "      <th>10</th>\n",
       "      <td>2014B_CCC</td>\n",
       "      <td>53.62</td>\n",
       "    </tr>\n",
       "    <tr>\n",
       "      <th>17</th>\n",
       "      <td>2014J_CCC</td>\n",
       "      <td>58.01</td>\n",
       "    </tr>\n",
       "    <tr>\n",
       "      <th>11</th>\n",
       "      <td>2014B_DDD</td>\n",
       "      <td>60.18</td>\n",
       "    </tr>\n",
       "  </tbody>\n",
       "</table>\n",
       "</div>"
      ],
      "text/plain": [
       "   code_course      S\n",
       "10   2014B_CCC  53.62\n",
       "17   2014J_CCC  58.01\n",
       "11   2014B_DDD  60.18"
      ]
     },
     "execution_count": 119,
     "metadata": {},
     "output_type": "execute_result"
    }
   ],
   "source": [
    "Registration_byCourse[['code_course', 'S']].sort_values('S').head(3)"
   ]
  },
  {
   "cell_type": "markdown",
   "metadata": {},
   "source": [
    "## Ответ: \n",
    "- Топ 3 предмета:\n",
    "    - по количеству регистраций: BBB, FFF, DDD;\n",
    "    - по оттоку: FFF, BBB, DDD;\n",
    "    - по успешности: GGG, AAA, EEE;\n",
    "    - по неуспешности: CCC, DDD, FFF;\n",
    "    \n",
    "- Топ 3 курса:\n",
    "    - по количеству регистраций: 2014J_CCC, 2014J_FFF, 2014J_BBB;\t\n",
    "    - по оттоку: 2014J_CCC, 2014B_CCC, 2014J_FFF;\t   \n",
    "    - по успешности: 2013J_GGG, 2014B_GGG, 2013J_AAA;\n",
    "    - по неуспешности: 2014B_CCC, 2014J_CCC, 2014B_DDD."
   ]
  },
  {
   "cell_type": "markdown",
   "metadata": {},
   "source": [
    "## 5. В период с начала 2013 по конец 2014 выявить семестр с самой низкой завершаемостью курсов и самыми долгими средними сроками сдачи курсов.\n",
    "\n",
    "Исходя из названий семестров, предположим, что все данные, которые у нас есть, находятся в необходимом диапазоне (с начала 2013 по конец 2014). \n",
    "\n",
    "Воспользуемся датафреймом **Students_assessments_data**, оставив в датафрейме только экзамены, посчитаем количество удачных попыток сдать экзамен и количество всех попыток сдать экзамен."
   ]
  },
  {
   "cell_type": "code",
   "execution_count": 120,
   "metadata": {},
   "outputs": [
    {
     "data": {
      "text/html": [
       "<div>\n",
       "<style scoped>\n",
       "    .dataframe tbody tr th:only-of-type {\n",
       "        vertical-align: middle;\n",
       "    }\n",
       "\n",
       "    .dataframe tbody tr th {\n",
       "        vertical-align: top;\n",
       "    }\n",
       "\n",
       "    .dataframe thead th {\n",
       "        text-align: right;\n",
       "    }\n",
       "</style>\n",
       "<table border=\"1\" class=\"dataframe\">\n",
       "  <thead>\n",
       "    <tr style=\"text-align: right;\">\n",
       "      <th></th>\n",
       "      <th>code_presentation</th>\n",
       "      <th>success_tests</th>\n",
       "      <th>total_tests</th>\n",
       "    </tr>\n",
       "  </thead>\n",
       "  <tbody>\n",
       "    <tr>\n",
       "      <th>0</th>\n",
       "      <td>2013B</td>\n",
       "      <td>501</td>\n",
       "      <td>602</td>\n",
       "    </tr>\n",
       "    <tr>\n",
       "      <th>1</th>\n",
       "      <td>2013J</td>\n",
       "      <td>878</td>\n",
       "      <td>968</td>\n",
       "    </tr>\n",
       "    <tr>\n",
       "      <th>2</th>\n",
       "      <td>2014B</td>\n",
       "      <td>1144</td>\n",
       "      <td>1271</td>\n",
       "    </tr>\n",
       "    <tr>\n",
       "      <th>3</th>\n",
       "      <td>2014J</td>\n",
       "      <td>1859</td>\n",
       "      <td>2118</td>\n",
       "    </tr>\n",
       "  </tbody>\n",
       "</table>\n",
       "</div>"
      ],
      "text/plain": [
       "  code_presentation  success_tests  total_tests\n",
       "0             2013B            501          602\n",
       "1             2013J            878          968\n",
       "2             2014B           1144         1271\n",
       "3             2014J           1859         2118"
      ]
     },
     "execution_count": 120,
     "metadata": {},
     "output_type": "execute_result"
    }
   ],
   "source": [
    "Presentation_completion =  Students_assessments_data.query('assessment_type == \"Exam\"').groupby(['code_presentation'], as_index=False)\\\n",
    "                                .agg(success_tests=('is_success', np.sum),\n",
    "                                     total_tests=('is_success', np.size))\n",
    "Presentation_completion.head()"
   ]
  },
  {
   "cell_type": "markdown",
   "metadata": {},
   "source": [
    "Посчитаем завершаемость, как отношение удачных попыток сдать экзамен ко всем попыткам сдать экзамен"
   ]
  },
  {
   "cell_type": "code",
   "execution_count": 121,
   "metadata": {},
   "outputs": [
    {
     "data": {
      "text/html": [
       "<div>\n",
       "<style scoped>\n",
       "    .dataframe tbody tr th:only-of-type {\n",
       "        vertical-align: middle;\n",
       "    }\n",
       "\n",
       "    .dataframe tbody tr th {\n",
       "        vertical-align: top;\n",
       "    }\n",
       "\n",
       "    .dataframe thead th {\n",
       "        text-align: right;\n",
       "    }\n",
       "</style>\n",
       "<table border=\"1\" class=\"dataframe\">\n",
       "  <thead>\n",
       "    <tr style=\"text-align: right;\">\n",
       "      <th></th>\n",
       "      <th>code_presentation</th>\n",
       "      <th>completion</th>\n",
       "    </tr>\n",
       "  </thead>\n",
       "  <tbody>\n",
       "    <tr>\n",
       "      <th>0</th>\n",
       "      <td>2013B</td>\n",
       "      <td>83.22</td>\n",
       "    </tr>\n",
       "    <tr>\n",
       "      <th>1</th>\n",
       "      <td>2013J</td>\n",
       "      <td>90.70</td>\n",
       "    </tr>\n",
       "    <tr>\n",
       "      <th>2</th>\n",
       "      <td>2014B</td>\n",
       "      <td>90.01</td>\n",
       "    </tr>\n",
       "    <tr>\n",
       "      <th>3</th>\n",
       "      <td>2014J</td>\n",
       "      <td>87.77</td>\n",
       "    </tr>\n",
       "  </tbody>\n",
       "</table>\n",
       "</div>"
      ],
      "text/plain": [
       "  code_presentation  completion\n",
       "0             2013B       83.22\n",
       "1             2013J       90.70\n",
       "2             2014B       90.01\n",
       "3             2014J       87.77"
      ]
     },
     "execution_count": 121,
     "metadata": {},
     "output_type": "execute_result"
    }
   ],
   "source": [
    "Presentation_completion['completion'] = round(100 * Presentation_completion['success_tests'] / Presentation_completion['total_tests'], 2)\n",
    "Presentation_completion = Presentation_completion.drop(['success_tests', 'total_tests'], axis=1)\n",
    "Presentation_completion.head()"
   ]
  },
  {
   "cell_type": "markdown",
   "metadata": {},
   "source": [
    "Посчитаем среднее время для сдачи экзаменов. В расчёт не будем брать перезачёты."
   ]
  },
  {
   "cell_type": "code",
   "execution_count": 122,
   "metadata": {},
   "outputs": [],
   "source": [
    "Avarage_time = Students_assessments_data.query('assessment_type == \"Exam\" & is_success == 1 & is_banked == 0')\\\n",
    "                                 .groupby('code_presentation', as_index=False)\\\n",
    "                                 .agg(mean_time=('date_submitted', np.median))"
   ]
  },
  {
   "cell_type": "markdown",
   "metadata": {},
   "source": [
    "Объединим два датафрейма"
   ]
  },
  {
   "cell_type": "code",
   "execution_count": 123,
   "metadata": {},
   "outputs": [
    {
     "data": {
      "text/html": [
       "<div>\n",
       "<style scoped>\n",
       "    .dataframe tbody tr th:only-of-type {\n",
       "        vertical-align: middle;\n",
       "    }\n",
       "\n",
       "    .dataframe tbody tr th {\n",
       "        vertical-align: top;\n",
       "    }\n",
       "\n",
       "    .dataframe thead th {\n",
       "        text-align: right;\n",
       "    }\n",
       "</style>\n",
       "<table border=\"1\" class=\"dataframe\">\n",
       "  <thead>\n",
       "    <tr style=\"text-align: right;\">\n",
       "      <th></th>\n",
       "      <th>code_presentation</th>\n",
       "      <th>completion</th>\n",
       "      <th>mean_time</th>\n",
       "    </tr>\n",
       "  </thead>\n",
       "  <tbody>\n",
       "    <tr>\n",
       "      <th>0</th>\n",
       "      <td>2013B</td>\n",
       "      <td>83.22</td>\n",
       "      <td>230</td>\n",
       "    </tr>\n",
       "    <tr>\n",
       "      <th>3</th>\n",
       "      <td>2014J</td>\n",
       "      <td>87.77</td>\n",
       "      <td>244</td>\n",
       "    </tr>\n",
       "    <tr>\n",
       "      <th>2</th>\n",
       "      <td>2014B</td>\n",
       "      <td>90.01</td>\n",
       "      <td>234</td>\n",
       "    </tr>\n",
       "    <tr>\n",
       "      <th>1</th>\n",
       "      <td>2013J</td>\n",
       "      <td>90.70</td>\n",
       "      <td>241</td>\n",
       "    </tr>\n",
       "  </tbody>\n",
       "</table>\n",
       "</div>"
      ],
      "text/plain": [
       "  code_presentation  completion  mean_time\n",
       "0             2013B       83.22        230\n",
       "3             2014J       87.77        244\n",
       "2             2014B       90.01        234\n",
       "1             2013J       90.70        241"
      ]
     },
     "execution_count": 123,
     "metadata": {},
     "output_type": "execute_result"
    }
   ],
   "source": [
    "Presentation_completion.merge(Avarage_time).sort_values('completion')"
   ]
  },
  {
   "cell_type": "markdown",
   "metadata": {},
   "source": [
    "## Ответ:\n",
    "\n",
    "Семестр с самой низкой завершаемостью курсов: **2013B**, завершаемость - **83.22** %\n",
    "\n",
    "Семестр с самыми долгими средними сроками сдачи курсов: **2014J**, средний срок сдачи - **244** дня"
   ]
  },
  {
   "cell_type": "markdown",
   "metadata": {},
   "source": [
    "## 6. Построение адаптированных  RFM-кластеров студентов для качественной оценки аудитории"
   ]
  },
  {
   "cell_type": "markdown",
   "metadata": {},
   "source": [
    "Для выполнения данного задания построим адаптированные RFM-кластеры для студентов, которые до сих пор обучаются, т.е. не отменили регистрацию на курс.\n",
    "\n",
    "В адаптированной кластеризации выберем следующие метрики: \n",
    "\n",
    "- **recency** - среднее количество дней от сдачи теста до дедлайна,\n",
    "- **frequency** - завершаемость, т.е. отношение количества успешных сдач тестов к общему количеству сдаваемых тестов,\n",
    "- **monetary** - среднее количество баллов, получаемых за тесты\n",
    "\n",
    "Воспользуемся датафреймом **Students_assessments_data**, добавим к нему данные датафрейма **df_studentRegistration**. Объединение будем проводить по столбцам **id_student** и **code_course**, т.к. мы знаем, что никто из студентов не регистрировался на один и тот же курс несколько раз. Оставим в получившемся датафрейме только те строки, в которых отсутствует дата отмены регистрации **date_unregistration**"
   ]
  },
  {
   "cell_type": "code",
   "execution_count": 124,
   "metadata": {},
   "outputs": [
    {
     "data": {
      "text/html": [
       "<div>\n",
       "<style scoped>\n",
       "    .dataframe tbody tr th:only-of-type {\n",
       "        vertical-align: middle;\n",
       "    }\n",
       "\n",
       "    .dataframe tbody tr th {\n",
       "        vertical-align: top;\n",
       "    }\n",
       "\n",
       "    .dataframe thead th {\n",
       "        text-align: right;\n",
       "    }\n",
       "</style>\n",
       "<table border=\"1\" class=\"dataframe\">\n",
       "  <thead>\n",
       "    <tr style=\"text-align: right;\">\n",
       "      <th></th>\n",
       "      <th>id_student</th>\n",
       "      <th>id_assessment</th>\n",
       "      <th>code_module_x</th>\n",
       "      <th>code_presentation_x</th>\n",
       "      <th>code_course</th>\n",
       "      <th>assessment_type</th>\n",
       "      <th>weight</th>\n",
       "      <th>is_banked</th>\n",
       "      <th>score</th>\n",
       "      <th>date_submitted</th>\n",
       "      <th>deadline</th>\n",
       "      <th>days_until_deadline</th>\n",
       "      <th>is_success</th>\n",
       "      <th>code_module_y</th>\n",
       "      <th>code_presentation_y</th>\n",
       "      <th>date_registration</th>\n",
       "      <th>date_unregistration</th>\n",
       "    </tr>\n",
       "  </thead>\n",
       "  <tbody>\n",
       "    <tr>\n",
       "      <th>0</th>\n",
       "      <td>11391</td>\n",
       "      <td>1752</td>\n",
       "      <td>AAA</td>\n",
       "      <td>2013J</td>\n",
       "      <td>2013J_AAA</td>\n",
       "      <td>TMA</td>\n",
       "      <td>10.0</td>\n",
       "      <td>0</td>\n",
       "      <td>78.0</td>\n",
       "      <td>18</td>\n",
       "      <td>19.0</td>\n",
       "      <td>1.0</td>\n",
       "      <td>1</td>\n",
       "      <td>AAA</td>\n",
       "      <td>2013J</td>\n",
       "      <td>-159.0</td>\n",
       "      <td>NaN</td>\n",
       "    </tr>\n",
       "    <tr>\n",
       "      <th>1</th>\n",
       "      <td>11391</td>\n",
       "      <td>1753</td>\n",
       "      <td>AAA</td>\n",
       "      <td>2013J</td>\n",
       "      <td>2013J_AAA</td>\n",
       "      <td>TMA</td>\n",
       "      <td>20.0</td>\n",
       "      <td>0</td>\n",
       "      <td>85.0</td>\n",
       "      <td>53</td>\n",
       "      <td>54.0</td>\n",
       "      <td>1.0</td>\n",
       "      <td>1</td>\n",
       "      <td>AAA</td>\n",
       "      <td>2013J</td>\n",
       "      <td>-159.0</td>\n",
       "      <td>NaN</td>\n",
       "    </tr>\n",
       "    <tr>\n",
       "      <th>2</th>\n",
       "      <td>11391</td>\n",
       "      <td>1754</td>\n",
       "      <td>AAA</td>\n",
       "      <td>2013J</td>\n",
       "      <td>2013J_AAA</td>\n",
       "      <td>TMA</td>\n",
       "      <td>20.0</td>\n",
       "      <td>0</td>\n",
       "      <td>80.0</td>\n",
       "      <td>115</td>\n",
       "      <td>117.0</td>\n",
       "      <td>2.0</td>\n",
       "      <td>1</td>\n",
       "      <td>AAA</td>\n",
       "      <td>2013J</td>\n",
       "      <td>-159.0</td>\n",
       "      <td>NaN</td>\n",
       "    </tr>\n",
       "    <tr>\n",
       "      <th>3</th>\n",
       "      <td>11391</td>\n",
       "      <td>1755</td>\n",
       "      <td>AAA</td>\n",
       "      <td>2013J</td>\n",
       "      <td>2013J_AAA</td>\n",
       "      <td>TMA</td>\n",
       "      <td>20.0</td>\n",
       "      <td>0</td>\n",
       "      <td>85.0</td>\n",
       "      <td>164</td>\n",
       "      <td>166.0</td>\n",
       "      <td>2.0</td>\n",
       "      <td>1</td>\n",
       "      <td>AAA</td>\n",
       "      <td>2013J</td>\n",
       "      <td>-159.0</td>\n",
       "      <td>NaN</td>\n",
       "    </tr>\n",
       "    <tr>\n",
       "      <th>4</th>\n",
       "      <td>11391</td>\n",
       "      <td>1756</td>\n",
       "      <td>AAA</td>\n",
       "      <td>2013J</td>\n",
       "      <td>2013J_AAA</td>\n",
       "      <td>TMA</td>\n",
       "      <td>30.0</td>\n",
       "      <td>0</td>\n",
       "      <td>82.0</td>\n",
       "      <td>212</td>\n",
       "      <td>215.0</td>\n",
       "      <td>3.0</td>\n",
       "      <td>1</td>\n",
       "      <td>AAA</td>\n",
       "      <td>2013J</td>\n",
       "      <td>-159.0</td>\n",
       "      <td>NaN</td>\n",
       "    </tr>\n",
       "  </tbody>\n",
       "</table>\n",
       "</div>"
      ],
      "text/plain": [
       "   id_student  id_assessment code_module_x code_presentation_x code_course  \\\n",
       "0       11391           1752           AAA               2013J   2013J_AAA   \n",
       "1       11391           1753           AAA               2013J   2013J_AAA   \n",
       "2       11391           1754           AAA               2013J   2013J_AAA   \n",
       "3       11391           1755           AAA               2013J   2013J_AAA   \n",
       "4       11391           1756           AAA               2013J   2013J_AAA   \n",
       "\n",
       "  assessment_type  weight  is_banked  score  date_submitted  deadline  \\\n",
       "0             TMA    10.0          0   78.0              18      19.0   \n",
       "1             TMA    20.0          0   85.0              53      54.0   \n",
       "2             TMA    20.0          0   80.0             115     117.0   \n",
       "3             TMA    20.0          0   85.0             164     166.0   \n",
       "4             TMA    30.0          0   82.0             212     215.0   \n",
       "\n",
       "   days_until_deadline  is_success code_module_y code_presentation_y  \\\n",
       "0                  1.0           1           AAA               2013J   \n",
       "1                  1.0           1           AAA               2013J   \n",
       "2                  2.0           1           AAA               2013J   \n",
       "3                  2.0           1           AAA               2013J   \n",
       "4                  3.0           1           AAA               2013J   \n",
       "\n",
       "   date_registration  date_unregistration  \n",
       "0             -159.0                  NaN  \n",
       "1             -159.0                  NaN  \n",
       "2             -159.0                  NaN  \n",
       "3             -159.0                  NaN  \n",
       "4             -159.0                  NaN  "
      ]
     },
     "execution_count": 124,
     "metadata": {},
     "output_type": "execute_result"
    }
   ],
   "source": [
    "Complete_student_data = Students_assessments_data.merge(df_studentRegistration, on=['id_student', 'code_course'])\\\n",
    "                                                .query('date_unregistration.isna()')\n",
    "Complete_student_data.head()"
   ]
  },
  {
   "cell_type": "markdown",
   "metadata": {},
   "source": [
    "В датафрейме **Students_assessments_data** были пропущенные значения в столбце **score**, посмотрим есть ли они в датафреме **Complete_student_data**"
   ]
  },
  {
   "cell_type": "code",
   "execution_count": 125,
   "metadata": {},
   "outputs": [
    {
     "data": {
      "text/plain": [
       "101"
      ]
     },
     "execution_count": 125,
     "metadata": {},
     "output_type": "execute_result"
    }
   ],
   "source": [
    "Complete_student_data['score'].isna().sum()"
   ]
  },
  {
   "cell_type": "markdown",
   "metadata": {},
   "source": [
    "В датафрейме **Complete_student_data** оказалась 101 пропущенная оценка, нам необходимо удалить данные строки из датафрейма для последующего подсчёта метрики **monetary**"
   ]
  },
  {
   "cell_type": "code",
   "execution_count": 126,
   "metadata": {},
   "outputs": [],
   "source": [
    "Complete_student_data = Complete_student_data.dropna(subset=['score'])"
   ]
  },
  {
   "cell_type": "markdown",
   "metadata": {},
   "source": [
    "Создадим датафрейм **RFM**, в который запишем сгруппированный по **id_student** датафрейм **Complete_student_data** с подсчётом метрик **frequency** и **monetary**"
   ]
  },
  {
   "cell_type": "code",
   "execution_count": 127,
   "metadata": {},
   "outputs": [
    {
     "data": {
      "text/html": [
       "<div>\n",
       "<style scoped>\n",
       "    .dataframe tbody tr th:only-of-type {\n",
       "        vertical-align: middle;\n",
       "    }\n",
       "\n",
       "    .dataframe tbody tr th {\n",
       "        vertical-align: top;\n",
       "    }\n",
       "\n",
       "    .dataframe thead th {\n",
       "        text-align: right;\n",
       "    }\n",
       "</style>\n",
       "<table border=\"1\" class=\"dataframe\">\n",
       "  <thead>\n",
       "    <tr style=\"text-align: right;\">\n",
       "      <th></th>\n",
       "      <th>id_student</th>\n",
       "      <th>frequency</th>\n",
       "      <th>monetary</th>\n",
       "    </tr>\n",
       "  </thead>\n",
       "  <tbody>\n",
       "    <tr>\n",
       "      <th>0</th>\n",
       "      <td>6516</td>\n",
       "      <td>100.000000</td>\n",
       "      <td>61.800000</td>\n",
       "    </tr>\n",
       "    <tr>\n",
       "      <th>1</th>\n",
       "      <td>11391</td>\n",
       "      <td>100.000000</td>\n",
       "      <td>82.000000</td>\n",
       "    </tr>\n",
       "    <tr>\n",
       "      <th>2</th>\n",
       "      <td>23629</td>\n",
       "      <td>25.000000</td>\n",
       "      <td>82.500000</td>\n",
       "    </tr>\n",
       "    <tr>\n",
       "      <th>3</th>\n",
       "      <td>23698</td>\n",
       "      <td>55.555556</td>\n",
       "      <td>74.444444</td>\n",
       "    </tr>\n",
       "    <tr>\n",
       "      <th>4</th>\n",
       "      <td>23798</td>\n",
       "      <td>54.545455</td>\n",
       "      <td>93.909091</td>\n",
       "    </tr>\n",
       "  </tbody>\n",
       "</table>\n",
       "</div>"
      ],
      "text/plain": [
       "   id_student   frequency   monetary\n",
       "0        6516  100.000000  61.800000\n",
       "1       11391  100.000000  82.000000\n",
       "2       23629   25.000000  82.500000\n",
       "3       23698   55.555556  74.444444\n",
       "4       23798   54.545455  93.909091"
      ]
     },
     "execution_count": 127,
     "metadata": {},
     "output_type": "execute_result"
    }
   ],
   "source": [
    "RFM = Complete_student_data.groupby('id_student', as_index=False)\\\n",
    "            .agg(frequency=('is_success', lambda x: 100 * sum(x) / np.size(x)),\\\n",
    "                 monetary=('score', np.mean))\n",
    "RFM.head()"
   ]
  },
  {
   "cell_type": "markdown",
   "metadata": {},
   "source": [
    "Отдельно посчитаем для каждого студента метрику **recency**, оставим в датафрейме **Complete_student_data** только НЕ перезачёты, т.к. дата сдачи для них устанавливается, как -1"
   ]
  },
  {
   "cell_type": "code",
   "execution_count": 128,
   "metadata": {},
   "outputs": [
    {
     "data": {
      "text/html": [
       "<div>\n",
       "<style scoped>\n",
       "    .dataframe tbody tr th:only-of-type {\n",
       "        vertical-align: middle;\n",
       "    }\n",
       "\n",
       "    .dataframe tbody tr th {\n",
       "        vertical-align: top;\n",
       "    }\n",
       "\n",
       "    .dataframe thead th {\n",
       "        text-align: right;\n",
       "    }\n",
       "</style>\n",
       "<table border=\"1\" class=\"dataframe\">\n",
       "  <thead>\n",
       "    <tr style=\"text-align: right;\">\n",
       "      <th></th>\n",
       "      <th>id_student</th>\n",
       "      <th>frequency</th>\n",
       "      <th>monetary</th>\n",
       "      <th>recency</th>\n",
       "    </tr>\n",
       "  </thead>\n",
       "  <tbody>\n",
       "    <tr>\n",
       "      <th>0</th>\n",
       "      <td>6516</td>\n",
       "      <td>100.000000</td>\n",
       "      <td>61.800000</td>\n",
       "      <td>2.600000</td>\n",
       "    </tr>\n",
       "    <tr>\n",
       "      <th>1</th>\n",
       "      <td>11391</td>\n",
       "      <td>100.000000</td>\n",
       "      <td>82.000000</td>\n",
       "      <td>1.800000</td>\n",
       "    </tr>\n",
       "    <tr>\n",
       "      <th>2</th>\n",
       "      <td>23629</td>\n",
       "      <td>25.000000</td>\n",
       "      <td>82.500000</td>\n",
       "      <td>-3.500000</td>\n",
       "    </tr>\n",
       "    <tr>\n",
       "      <th>3</th>\n",
       "      <td>23698</td>\n",
       "      <td>55.555556</td>\n",
       "      <td>74.444444</td>\n",
       "      <td>1.888889</td>\n",
       "    </tr>\n",
       "    <tr>\n",
       "      <th>4</th>\n",
       "      <td>23798</td>\n",
       "      <td>54.545455</td>\n",
       "      <td>93.909091</td>\n",
       "      <td>-0.272727</td>\n",
       "    </tr>\n",
       "  </tbody>\n",
       "</table>\n",
       "</div>"
      ],
      "text/plain": [
       "   id_student   frequency   monetary   recency\n",
       "0        6516  100.000000  61.800000  2.600000\n",
       "1       11391  100.000000  82.000000  1.800000\n",
       "2       23629   25.000000  82.500000 -3.500000\n",
       "3       23698   55.555556  74.444444  1.888889\n",
       "4       23798   54.545455  93.909091 -0.272727"
      ]
     },
     "execution_count": 128,
     "metadata": {},
     "output_type": "execute_result"
    }
   ],
   "source": [
    "RFM['recency'] = Complete_student_data.query('is_banked == 0')\\\n",
    "                        .groupby('id_student', as_index=False)\\\n",
    "                        .agg(recency=('days_until_deadline', np.mean))['recency']\n",
    "RFM.head()"
   ]
  },
  {
   "cell_type": "markdown",
   "metadata": {},
   "source": [
    "### Recency\n",
    "\n",
    "Для создания кластеров метрики **recency** посмотрим на её описательную статистику"
   ]
  },
  {
   "cell_type": "code",
   "execution_count": 129,
   "metadata": {},
   "outputs": [
    {
     "data": {
      "text/plain": [
       "count    19800.000000\n",
       "mean        12.737831\n",
       "std         23.734437\n",
       "min        -69.000000\n",
       "25%         -0.750000\n",
       "50%          1.500000\n",
       "75%         18.250000\n",
       "max        236.000000\n",
       "Name: recency, dtype: float64"
      ]
     },
     "execution_count": 129,
     "metadata": {},
     "output_type": "execute_result"
    }
   ],
   "source": [
    "RFM['recency'].describe()"
   ]
  },
  {
   "cell_type": "code",
   "execution_count": 130,
   "metadata": {},
   "outputs": [
    {
     "data": {
      "image/png": "[encoded data removed]",
      "text/plain": [
       "<Figure size 1080x720 with 2 Axes>"
      ]
     },
     "metadata": {
      "needs_background": "light"
     },
     "output_type": "display_data"
    }
   ],
   "source": [
    "r_color = 'SeaGreen'\n",
    "\n",
    "fig, axs = plt.subplots(2, 1, figsize=(15, 10))\n",
    "\n",
    "sns.boxplot(data=RFM, x='recency', color=r_color, ax=axs[0])\n",
    "axs[0].set_title(\"Распределение метрики R\", fontsize=15)\n",
    "axs[0].set_xlabel('Среднее количество дней от сдачи теста до дедлайна', fontsize=13)\n",
    "\n",
    "sns.histplot(data=RFM, x='recency', color=r_color, bins=40,ax=axs[1])\n",
    "plt.ylabel(\"Количество студентов\")\n",
    "axs[1].set_xlabel('Среднее количество дней от сдачи теста до дедлайна', fontsize=13)\n",
    "\n",
    "plt.show()"
   ]
  },
  {
   "cell_type": "markdown",
   "metadata": {},
   "source": [
    "Исходя из описательной статистики, разобъём метрику на диапазоны:\n",
    "- [-69 до 0) - в этот диапазон входят студенты, которые в среднем сдают тесты позднее дедлайна, назовём их \"**Сдающие позднее дедлайна**\"\n",
    "- [0 до 1) - в этот диапазон входят студенты, которые в среднем сдают тесты в последний момент, назовём их \"**Сдающие в последний момент**\"\n",
    "- [1 до 13) - в этот диапазон входят студенты, которые сдают в рамках дедлайнов, назовём их \"**Сдающие в рамках дедлайна**\"\n",
    "- [13 до 237) - в этот диапазон входят студенты, которые в среднем сдают тесты задолго до дедлайна, назовём их \"**Сдающие задолго до дедлайна**\"\n",
    "\n",
    "Запишем получившиеся значения в столбец **R**"
   ]
  },
  {
   "cell_type": "code",
   "execution_count": 131,
   "metadata": {},
   "outputs": [],
   "source": [
    "R_bins = [-69, 0, 1, 13, 237]\n",
    "R_labels = ['Сдающие позднее дедлайна', 'Сдающие в последний момент', 'Сдающие в рамках дедлайна', 'Сдающие задолго до дедлайна']\n",
    "RFM['R'] = pd.cut(RFM['recency'], R_bins, right=False, labels= R_labels)"
   ]
  },
  {
   "cell_type": "markdown",
   "metadata": {},
   "source": [
    "Посмотрим на распределение метрики **R**"
   ]
  },
  {
   "cell_type": "code",
   "execution_count": 132,
   "metadata": {},
   "outputs": [
    {
     "data": {
      "image/png": "[encoded data removed]",
      "text/plain": [
       "<Figure size 1080x360 with 1 Axes>"
      ]
     },
     "metadata": {
      "needs_background": "light"
     },
     "output_type": "display_data"
    }
   ],
   "source": [
    "plt.figure(figsize=(15, 5))\n",
    "RFM['R'].hist(color=r_color)\n",
    "plt.title(\"Распределение метрики R\")\n",
    "plt.xlabel(\"Время сдачи тестов студентами\")\n",
    "plt.ylabel(\"Количество студентов\")\n",
    "plt.show()"
   ]
  },
  {
   "cell_type": "markdown",
   "metadata": {},
   "source": [
    "### Frequency\n",
    "\n",
    "Для создания кластеров метрики **frequency** посмотрим на её описательную статистику"
   ]
  },
  {
   "cell_type": "code",
   "execution_count": 133,
   "metadata": {},
   "outputs": [
    {
     "data": {
      "text/plain": [
       "count    19949.000000\n",
       "mean        70.022747\n",
       "std         29.424851\n",
       "min          0.000000\n",
       "25%         50.000000\n",
       "50%         75.000000\n",
       "75%        100.000000\n",
       "max        100.000000\n",
       "Name: frequency, dtype: float64"
      ]
     },
     "execution_count": 133,
     "metadata": {},
     "output_type": "execute_result"
    }
   ],
   "source": [
    "RFM['frequency'].describe()"
   ]
  },
  {
   "cell_type": "code",
   "execution_count": 134,
   "metadata": {},
   "outputs": [
    {
     "data": {
      "image/png": "[encoded data removed]",
      "text/plain": [
       "<Figure size 1080x720 with 2 Axes>"
      ]
     },
     "metadata": {
      "needs_background": "light"
     },
     "output_type": "display_data"
    }
   ],
   "source": [
    "f_color = 'DarkOrange'\n",
    "\n",
    "fig, axs = plt.subplots(2, 1, figsize=(15, 10))\n",
    "\n",
    "sns.boxplot(data=RFM, x='frequency', color=f_color, ax=axs[0])\n",
    "axs[0].set_title(\"Распределение метрики F\", fontsize=15)\n",
    "axs[0].set_xlabel('Завершаемость', fontsize=13)\n",
    "\n",
    "sns.histplot(data=RFM, x='frequency', color=f_color, bins=40,ax=axs[1])\n",
    "plt.ylabel(\"Количество студентов\")\n",
    "axs[1].set_xlabel('Завершаемость', fontsize=13)\n",
    "\n",
    "plt.show()"
   ]
  },
  {
   "cell_type": "markdown",
   "metadata": {},
   "source": [
    "Исходя из описательной статистики и здравого смысла, разобъём метрику на диапазоны:\n",
    "\n",
    "- (0-25] %,\n",
    "- (25-50] %, \n",
    "- (50-75] %,\n",
    "- (75-100] %."
   ]
  },
  {
   "cell_type": "code",
   "execution_count": 135,
   "metadata": {},
   "outputs": [],
   "source": [
    "F_labels = ['0-25 %', '25-50 %', '50-75 %', '75-100 %'] \n",
    "RFM['F'] = pd.cut(RFM['frequency'], 4, right=False, labels= F_labels)"
   ]
  },
  {
   "cell_type": "markdown",
   "metadata": {},
   "source": [
    "Посмотрим на распределение метрики **F**"
   ]
  },
  {
   "cell_type": "code",
   "execution_count": 136,
   "metadata": {},
   "outputs": [
    {
     "data": {
      "image/png": "[encoded data removed]",
      "text/plain": [
       "<Figure size 1080x360 with 1 Axes>"
      ]
     },
     "metadata": {
      "needs_background": "light"
     },
     "output_type": "display_data"
    }
   ],
   "source": [
    "plt.figure(figsize=(15, 5))\n",
    "RFM['F'].hist(color=f_color)\n",
    "plt.title(\"Распределение метрики F\")\n",
    "plt.xlabel(\"Завершаемость тестов студентами\")\n",
    "plt.ylabel(\"Количество студентов\")\n",
    "plt.show()"
   ]
  },
  {
   "cell_type": "markdown",
   "metadata": {},
   "source": [
    "### Monetary\n",
    "\n",
    "Для создания кластеров метрики **monetary** посмотрим на её описательную статистику"
   ]
  },
  {
   "cell_type": "code",
   "execution_count": 137,
   "metadata": {},
   "outputs": [
    {
     "data": {
      "text/plain": [
       "count    19949.000000\n",
       "mean        74.622092\n",
       "std         14.093980\n",
       "min          0.000000\n",
       "25%         66.875000\n",
       "50%         77.181818\n",
       "75%         85.000000\n",
       "max        100.000000\n",
       "Name: monetary, dtype: float64"
      ]
     },
     "execution_count": 137,
     "metadata": {},
     "output_type": "execute_result"
    }
   ],
   "source": [
    "RFM['monetary'].describe()"
   ]
  },
  {
   "cell_type": "code",
   "execution_count": 138,
   "metadata": {},
   "outputs": [
    {
     "data": {
      "image/png": "[encoded data removed]",
      "text/plain": [
       "<Figure size 1080x720 with 2 Axes>"
      ]
     },
     "metadata": {
      "needs_background": "light"
     },
     "output_type": "display_data"
    }
   ],
   "source": [
    "m_color = 'gold'\n",
    "\n",
    "fig, axs = plt.subplots(2, 1, figsize=(15, 10))\n",
    "\n",
    "sns.boxplot(data=RFM, x='monetary', color=m_color, ax=axs[0])\n",
    "axs[0].set_title(\"Распределение метрики M\", fontsize=15)\n",
    "axs[0].set_xlabel('Средняя оценка студента за тесты', fontsize=13)\n",
    "\n",
    "sns.histplot(data=RFM, x='monetary', color=m_color, bins=30,ax=axs[1])\n",
    "axs[1].set_xlabel('Средняя оценка студента за тесты', fontsize=13)\n",
    "plt.ylabel(\"Количество студентов\")\n",
    "\n",
    "plt.show()"
   ]
  },
  {
   "cell_type": "markdown",
   "metadata": {},
   "source": [
    "Исходя из условий задания, нам известно, что оценки ниже **40** являются неуспешными. Соответственно, разобьём метрику на диапазоны:\n",
    "\n",
    "- [0-40) баллов - Неуд. (Неудовлетворительно)\n",
    "- [40-60) баллов - Уд. (Удовлетворительно)\n",
    "- [60-80) баллов - Хорошо\n",
    "- [80-101) баллов - Отлично"
   ]
  },
  {
   "cell_type": "code",
   "execution_count": 139,
   "metadata": {},
   "outputs": [],
   "source": [
    "M_bins = [0, 40, 60, 80, 101]\n",
    "M_labels = ['Неуд.', 'Удовл.', 'Хорошо', 'Отлично']\n",
    "RFM['M'] = pd.cut(RFM['monetary'], M_bins, right=False, labels= M_labels)"
   ]
  },
  {
   "cell_type": "markdown",
   "metadata": {},
   "source": [
    "Посмотрим на распределение метрики **M**"
   ]
  },
  {
   "cell_type": "code",
   "execution_count": 140,
   "metadata": {},
   "outputs": [
    {
     "data": {
      "image/png": "[encoded data removed]",
      "text/plain": [
       "<Figure size 1080x360 with 1 Axes>"
      ]
     },
     "metadata": {
      "needs_background": "light"
     },
     "output_type": "display_data"
    }
   ],
   "source": [
    "plt.figure(figsize=(15, 5))\n",
    "RFM['M'].hist(color=m_color)\n",
    "plt.title(\"Распределение метрики M\", fontsize=15)\n",
    "plt.xlabel(\"Средняя оценка за тесты\")\n",
    "plt.ylabel(\"Количество студентов\")\n",
    "plt.show()"
   ]
  },
  {
   "cell_type": "markdown",
   "metadata": {},
   "source": [
    "### Визуализция сегментов студентов"
   ]
  },
  {
   "cell_type": "markdown",
   "metadata": {},
   "source": [
    "Визуализируем данные, чтобы посмотреть на распределение метрик **RFM** и получить лучшее представление о студентах."
   ]
  },
  {
   "cell_type": "code",
   "execution_count": 141,
   "metadata": {},
   "outputs": [
    {
     "data": {
      "image/png": "[encoded data removed]",
      "text/plain": [
       "<Figure size 1080x1080 with 16 Axes>"
      ]
     },
     "metadata": {
      "needs_background": "light"
     },
     "output_type": "display_data"
    }
   ],
   "source": [
    "fig, axes = plt.subplots(nrows=4, ncols=4,\n",
    "                         sharex=False, sharey=True,\n",
    "                         figsize=(15, 15))\n",
    "\n",
    "r_range = R_labels\n",
    "f_range = F_labels\n",
    "for r in range(len(r_range)):\n",
    "    for f in range(len(f_range)):\n",
    "        y = RFM[(RFM['R'] == R_labels[r]) & (RFM['F'] == F_labels[f])]['M'].value_counts().sort_index()\n",
    "        x = y.index\n",
    "        ax = axes[r, f]\n",
    "        bars = ax.bar(x, y, color='PapayaWhip')\n",
    "        if r == 3:\n",
    "            ax.set_xlabel('Завершаемость {}\\n'.format(f_range[f]), va='top')  \n",
    "        if f == 0:\n",
    "            ax.set_ylabel(r_range[r])\n",
    "        ax.set_frame_on(False)\n",
    "        ax.tick_params(left=False, labelleft=False, bottom=False)\n",
    "        ax.set_xticks(x)\n",
    "        ax.set_xticklabels(x, fontsize=8)\n",
    "\n",
    "        for bar in bars:\n",
    "            value = bar.get_height()\n",
    "            if value == y.max():\n",
    "                bar.set_color(m_color)\n",
    "            ax.text(bar.get_x() + bar.get_width() / 2,\n",
    "                    value,\n",
    "                    int(value),\n",
    "                    ha='center',\n",
    "                    va='bottom',\n",
    "                    color='black')\n",
    "fig.suptitle('Распределение M для каждой F и R',\n",
    "             fontsize=20)\n",
    "plt.tight_layout()\n",
    "plt.show()"
   ]
  },
  {
   "cell_type": "markdown",
   "metadata": {},
   "source": [
    "Исходя из данной визуализации видно: чем больше завершаемость курсов у студентов, тем выше оценки они получают. Срок сдачи тестов не сильно влияет на оценки, поэтому для построения RFM-кластеров будем акцентировать внимание на метриках **F** и **M**\n",
    "\n",
    "Добавим в датафрейм **RFM** столбец с оценкой RFM-кластеров **RFM_score**.\n",
    "\n",
    "Для каждой метрики создадим словари, в которых в качестве ключа будут названия кластеров, а в качестве значений соответствующая оценка от 2 до 5."
   ]
  },
  {
   "cell_type": "code",
   "execution_count": 142,
   "metadata": {},
   "outputs": [],
   "source": [
    "f_dict = {label: str(score) for score, label in enumerate(F_labels, start=2)}\n",
    "m_dict = {label: str(score) for score, label in enumerate(M_labels, start=2)}"
   ]
  },
  {
   "cell_type": "markdown",
   "metadata": {},
   "source": [
    "Создадим столбец **score**, в который запишем оценки каждого кластера, посмотрим на уникальные значения этого столбца"
   ]
  },
  {
   "cell_type": "code",
   "execution_count": 143,
   "metadata": {},
   "outputs": [
    {
     "data": {
      "text/plain": [
       "array(['54', '55', '35', '44', '45', '34', '23', '53', '43', '22', '25',\n",
       "       '24', '33', '42', '32', '52'], dtype=object)"
      ]
     },
     "execution_count": 143,
     "metadata": {},
     "output_type": "execute_result"
    }
   ],
   "source": [
    "RFM['RFM_score'] = RFM['F'].apply(lambda x: f_dict[x]).astype(str)\\\n",
    "                   + RFM['M'].apply(lambda x: m_dict[x]).astype(str)\n",
    "RFM['RFM_score'].unique()"
   ]
  },
  {
   "cell_type": "markdown",
   "metadata": {},
   "source": [
    "Создадим кластеры студентов:"
   ]
  },
  {
   "cell_type": "code",
   "execution_count": 144,
   "metadata": {},
   "outputs": [],
   "source": [
    "segt_map = {\n",
    "    r'55': 'Лучшие студенты',\n",
    "    r'54': 'Твёрдые хорошисты',\n",
    "    r'4[45]': 'Хорошисты и отличники, сдающие 50-75% тестов',\n",
    "    r'3[45]': 'Хорошисты и отличники, сдающие 25-50% тестов',\n",
    "    r'2[45]': 'Хорошисты и отличники, сдающие менее 25% тестов',\n",
    "    r'[45]3': 'Троечники, сдающие 50-100% тестов',\n",
    "    r'[23]3': 'Возможно отменят регистрацию',\n",
    "    r'[2-5]2': 'Под угрозой отчисления'\n",
    "}\n",
    "\n",
    "RFM['Segment'] = RFM['RFM_score'].replace(segt_map, regex=True)"
   ]
  },
  {
   "cell_type": "markdown",
   "metadata": {},
   "source": [
    "Посмотрим на распределение сегментов."
   ]
  },
  {
   "cell_type": "code",
   "execution_count": 145,
   "metadata": {},
   "outputs": [
    {
     "data": {
      "image/png": "[encoded data removed]",
      "text/plain": [
       "<Figure size 1080x360 with 1 Axes>"
      ]
     },
     "metadata": {
      "needs_background": "light"
     },
     "output_type": "display_data"
    }
   ],
   "source": [
    "segments_counts = RFM['Segment'].value_counts().sort_values(ascending=True)\n",
    "\n",
    "fig, ax = plt.subplots(figsize=(15, 5))\n",
    "\n",
    "bars = ax.barh(range(len(segments_counts)),\n",
    "              segments_counts,\n",
    "              color='DodgerBlue')\n",
    "ax.set_frame_on(False)\n",
    "ax.tick_params(bottom=False,\n",
    "               labelbottom=False)\n",
    "ax.set_yticks(range(len(segments_counts)))\n",
    "ax.set_yticklabels(segments_counts.index)\n",
    "for i, bar in enumerate(bars):\n",
    "        value = bar.get_width()\n",
    "        ax.text(value,\n",
    "                bar.get_y() + bar.get_height()/2,\n",
    "                '{:,} ({:}%)'.format(int(value),\n",
    "                                   int(value*100/segments_counts.sum())),\n",
    "                va='center',\n",
    "                ha='left')\n",
    "plt.show()"
   ]
  },
  {
   "cell_type": "markdown",
   "metadata": {},
   "source": [
    "### Вывод:\n",
    "\n",
    "- 67% студентов сдают большую часть тестов на оценки хорошо и отлично\n",
    "- Всего 5% студентов не успевают/не усваивают материал\n",
    "- Всего 1% студентов под угрозой отчисления"
   ]
  },
  {
   "cell_type": "markdown",
   "metadata": {},
   "source": [
    "## Выводы по проекту:\n",
    "\n",
    "- **Ответы на поставленные вопросы**:\n",
    "    1. Количество студентов успешно сдавших только один курс: \n",
    "        * 2626 студентов сдали как минимум заключительный экзамен\n",
    "        * 1029 студентов успешно сдали все необходимые тесты в рамках курса\n",
    "    2.  Самые сложные и самые простые экзамены и курсы:\n",
    "        * Самый сложный курс 2014B_CCC\n",
    "        * Самый простой курс 2014J_FFF\n",
    "        * Самый сложный экзамен - 2013B_DDD\n",
    "        * Самый простой экзамен - 2014B_DDD\n",
    "    3. Средние сроки сдачи экзаменов: \n",
    "        * CCC - 244 дня с начала семестра\n",
    "        * DDD - 237 дней с начала семестра \n",
    "    4.  Самые популярные предметы (ТОП-3)\n",
    "        * Топ 3 предмета:\n",
    "            - по количеству регистраций: BBB, FFF, DDD;\n",
    "            - по оттоку: FFF, BBB, DDD;\n",
    "            - по успешности: GGG, AAA, EEE;\n",
    "            - по неуспешности: CCC, DDD, FFF;\n",
    "        * Топ 3 курса:\n",
    "            - по количеству регистраций: 2014J_CCC, 2014J_FFF, 2014J_BBB;\t\n",
    "            - по оттоку: 2014J_CCC, 2014B_CCC, 2014J_FFF;\t   \n",
    "            - по успешности: 2013J_GGG, 2014B_GGG, 2013J_AAA;\n",
    "            - по неуспешности: 2014B_CCC, 2014J_CCC, 2014B_DDD.\n",
    "    5. Семестр с самой низкой завершаемостью курсов - 2013B. Семестр с самыми долгими средними сроками сдачи курсов -  2014J\n",
    "    6. 67% студентов сдают большую часть тестов на оценки хорошо и отлично. Всего 5% студентов не успевают/не усваивают материал. Всего 1% студентов под угрозой отчисления\n",
    "\n",
    "- **Для улучшения учебного процесса возможно следует выяснить**:\n",
    "\n",
    "    - По какой причине студенты не сдают экзамены по следующему списку курсов: 2013J_AAA, 2014J_AAA, 2013B_BBB, 2013J_BBB, 2014B_BBB, 2014J_BBB, 2014B_CCC, 2014J_CCC, 2013J_EEE, 2014B_EEE, 2014J_EEE, 2013B_FFF, 2013J_FFF, 2014B_FFF, 2014J_FFF, 2013J_GGG, 2014B_GGG, 2014J_GGG?\n",
    "    - Почему по курсам 2014B_ССС и 2014J_ССС студенты сдают только один экзамен, при положенных двух?\n",
    "    - По какой причине для 11 курсов не установлены дедлайны сдачи экзаменов?\n",
    "    - Почему студенты не сдают тесты на проверку преподавателям?\n",
    "    - По какой причине студенту (id 501208) перезачли несданный тест TMA по курсу 2013J_BBB?\n",
    "    - Почему в датах сдачи тестов присутствуют даты меньше -1, которые не являются перезачётами?\n",
    "    - По какой причине в данных остутствуют 45 дат регистрации студентов?\n",
    "\n",
    "- Возможно требуется усовершенствовать курс 2014B_CCC, в связи с очень низкой завершаемостью и курсы 2014B_CCC, 2014J_CCC, 2014B_DDD в связи с очень большим количеством отмен регистрации по отношению к количеству регистраций"
   ]
  }
 ],
 "metadata": {
  "kernelspec": {
   "display_name": "Python 3 (ipykernel)",
   "language": "python",
   "name": "python3"
  },
  "language_info": {
   "codemirror_mode": {
    "name": "ipython",
    "version": 3
   },
   "file_extension": ".py",
   "mimetype": "text/x-python",
   "name": "python",
   "nbconvert_exporter": "python",
   "pygments_lexer": "ipython3",
   "version": "3.9.13"
  }
 },
 "nbformat": 4,
 "nbformat_minor": 4
}
