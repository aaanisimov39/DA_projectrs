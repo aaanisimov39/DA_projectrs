{
 "cells": [
  {
   "cell_type": "code",
   "execution_count": 1,
   "metadata": {},
   "outputs": [
    {
     "ename": "NameError",
     "evalue": "name 'datetime' is not defined",
     "output_type": "error",
     "traceback": [
      "\u001b[0;31m---------------------------------------------------------------------------\u001b[0m",
      "\u001b[0;31mNameError\u001b[0m                                 Traceback (most recent call last)",
      "\u001b[0;32m<ipython-input-1-bfa78df5d0db>\u001b[0m in \u001b[0;36m<module>\u001b[0;34m\u001b[0m\n\u001b[1;32m      1\u001b[0m def get_retention_rate(start_time: str, \n\u001b[0;32m----> 2\u001b[0;31m                        \u001b[0mfinish_time\u001b[0m\u001b[0;34m=\u001b[0m\u001b[0mdatetime\u001b[0m\u001b[0;34m.\u001b[0m\u001b[0mnow\u001b[0m\u001b[0;34m(\u001b[0m\u001b[0;34m)\u001b[0m\u001b[0;34m.\u001b[0m\u001b[0mstrftime\u001b[0m\u001b[0;34m(\u001b[0m\u001b[0;34m'%Y-%m-%d'\u001b[0m\u001b[0;34m)\u001b[0m\u001b[0;34m,\u001b[0m\u001b[0;34m\u001b[0m\u001b[0;34m\u001b[0m\u001b[0m\n\u001b[0m\u001b[1;32m      3\u001b[0m                        \u001b[0mlimit_days\u001b[0m\u001b[0;34m=\u001b[0m\u001b[0;32mNone\u001b[0m\u001b[0;34m,\u001b[0m\u001b[0;34m\u001b[0m\u001b[0;34m\u001b[0m\u001b[0m\n\u001b[1;32m      4\u001b[0m                        \u001b[0mreg_file_path\u001b[0m\u001b[0;34m=\u001b[0m\u001b[0;34m'~/shared/problem1-reg_data.csv'\u001b[0m\u001b[0;34m,\u001b[0m\u001b[0;34m\u001b[0m\u001b[0;34m\u001b[0m\u001b[0m\n\u001b[1;32m      5\u001b[0m                        auth_file_path='~/shared/problem1-auth_data.csv'):\n",
      "\u001b[0;31mNameError\u001b[0m: name 'datetime' is not defined"
     ]
    }
   ],
   "source": [
    "def get_retention_rate(start_time: str, \n",
    "                       finish_time=datetime.now().strftime('%Y-%m-%d'), \n",
    "                       limit_days=None,\n",
    "                       reg_file_path='~/shared/problem1-reg_data.csv', \n",
    "                       auth_file_path='~/shared/problem1-auth_data.csv'):\n",
    "    '''Функция принимает на вход начальную дату отслеживания retantion - start_time, \n",
    "    конечную дату отслеживания retantion - finish_time,\n",
    "    необходимое количество исследуемых дней с момента регистрации пользователем limit_days,\n",
    "    путь к файлу с регистрациями пользователей - reg_file_path, \n",
    "    путь к файлу с авторизациями пользователей - auth_file_path.\n",
    "    Функция возвращает тепловую карту с retantion.\n",
    "    '''\n",
    "    #  Считываем оба датафрейма\n",
    "    df_reg = pd.read_csv(reg_file_path, sep=';')\n",
    "    df_auth = pd.read_csv(auth_file_path, sep=';')\n",
    "    \n",
    "    #  На всякий случай удаляем из датафреймов пропущенные строки\n",
    "    df_reg.dropna(inplace=True)\n",
    "    df_auth.dropna(inplace=True)\n",
    "   \n",
    "    #  Объединяем два датафрейма в один\n",
    "    full_users_data = df_auth.merge(df_reg, on='uid', how='left').sort_values(['uid', 'auth_ts'])\n",
    "    \n",
    "    #  Добавим колонки с датами регистрации и авторизации пользователем\n",
    "    lambda_func = lambda x: dt.date.fromtimestamp(x)\n",
    "    full_users_data['reg_date'] = pd.to_datetime(full_users_data['reg_ts'].apply(lambda_func))\n",
    "    full_users_data['auth_date'] = pd.to_datetime(full_users_data['auth_ts'].apply(lambda_func))\n",
    "    \n",
    "    #  Оставим в датафрейме только необходимые данные\n",
    "    full_users_data = full_users_data.query('reg_date >= @start_time & auth_date <= @finish_time')\n",
    "        \n",
    "    #  Добавим колонку с количеством дней от регистрации до авторизации\n",
    "    full_users_data['DBRA'] = (full_users_data['auth_date'] - full_users_data['reg_date']).dt.days\n",
    "    \n",
    "    #  Убираем из датафрейма строки, где количество дней от момента регистрации за пределами исследуемой области\n",
    "    if limit_days:\n",
    "        full_users_data = full_users_data.query('DBRA <= @limit_days')\n",
    "    \n",
    "    #  Для каждого дня из выбранного диапазона определим количество зарегистрировавшихся пользователей\n",
    "    #  Определим количество пользователей, которые зарегистрировались в одну дату \n",
    "    #  и зашли в игру через определённое количество дней                                          \n",
    "    df_return_count = full_users_data.groupby(['reg_date','DBRA'], as_index=False).agg(users_return_count=('uid', 'nunique'))\n",
    "        \n",
    "    #  Изменим тип столбца reg_date                                           \n",
    "    df_return_count['reg_date'] = df_return_count['reg_date'].astype(str)\n",
    "    \n",
    "    #  Создадим сводную таблицу\n",
    "    df_retantion = df_return_count.pivot(index='reg_date', columns='DBRA', values='users_return_count')\n",
    "    \n",
    "    #  Рассчитаем Retantion \n",
    "    df_retantion = df_retantion.divide(df_retantion[0], axis=0).apply(lambda x: round(100 * x, 2))\n",
    "    \n",
    "    #  Найдём максимальное значение Retantion не считая 100%\n",
    "    max_value = df_retantion.drop(0, axis=1).max().max()       \n",
    "    \n",
    "    # Строим тепловую карту\n",
    "    plt.figure(figsize=(31, 10))\n",
    "    sns.set(style='ticks', font_scale=1.2)\n",
    "    ax = sns.heatmap(df_retantion, annot=True, vmin=0.0, vmax=max_value, fmt='', linewidths = 1.5, cmap=\"Oranges\")\n",
    "    if limit_days:\n",
    "        plt.title(f\"Тепловая карта retention (период {start_time} - {finish_time}, ограничение по количеству дней - {limit_days})\", fontsize=15)\n",
    "    else:\n",
    "        plt.title(f\"Тепловая карта retention (период {start_time} - {finish_time}\", fontsize=15)\n",
    "    plt.title(f\"Тепловая карта retention (период {start_time} - {finish_time})\", fontsize=15)\n",
    "    ax.set_xlabel('Количество дней между регистрацией и авторизацией', fontsize=13)\n",
    "    ax.set_ylabel('Дата регистрации', fontsize=13)\n",
    "    plt.show()\n",
    "    pass"
   ]
  }
 ],
 "metadata": {
  "kernelspec": {
   "display_name": "Python 3",
   "language": "python",
   "name": "python3"
  },
  "language_info": {
   "codemirror_mode": {
    "name": "ipython",
    "version": 3
   },
   "file_extension": ".py",
   "mimetype": "text/x-python",
   "name": "python",
   "nbconvert_exporter": "python",
   "pygments_lexer": "ipython3",
   "version": "3.7.3"
  }
 },
 "nbformat": 4,
 "nbformat_minor": 4
}
