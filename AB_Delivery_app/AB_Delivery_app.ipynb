{
 "cells": [
  {
   "cell_type": "markdown",
   "metadata": {},
   "source": [
    "## Общее описание:\n",
    "\n",
    "Команда внедрила в приложение по доставке продуктов умную систему рекомендации товаров – предполагается, что такая система поможет пользователям эффективнее работать с приложением и лучше находить необходимые товары.\n",
    "\n",
    "Чтобы проверить эффективность системы рекомендаций, был проведен A/B-тест. В группе 1 оказались пользователи с новой системой рекомендаций, в группе 0 пользователи со старой версией приложения, где нет рекомендации товаров.\n",
    "\n",
    "Задача – оценить, смогла ли новая система рекомендаций принести пользу бизнесу и пользователям приложения.\n",
    "\n",
    "## Описание данных\n",
    "\n",
    "Для анализа A/B-теста будем использовать следующие данные:\n",
    "\n",
    "* **ab_users_data** – история заказов пользователей, в этой таблице есть информация о том, какие заказы создавали и отменяли пользователи\n",
    "    \n",
    "* **ab_orders** -  подробная информация о составе заказа, для каждого заказа есть список id тех продуктов, которые были включены в заказ\n",
    "   \n",
    "* **ab_products** – подробная информация о продуктах, их название и стоимость\n",
    "\n",
    "## План\n",
    "\n",
    "1. **Сначала сделаем небольшой препроцессинг:**\n",
    "    - Посмотрим на данные\n",
    "    - Сделаем необходимые преобразования\n",
    "2. **Проводим анализ:**\n",
    "    - Выбираем метрики\n",
    "    - Формулируем гипотезы\n",
    "    - Строим графики\n",
    "    - Выбираем подходящий тест\n",
    "    - Тестируем\n",
    "3. **Подводим итоги:**\n",
    "    - Сформулируем выводы\n",
    "    - Как можно будет позже провести A/B тестирование?"
   ]
  },
  {
   "cell_type": "code",
   "execution_count": 1,
   "metadata": {},
   "outputs": [],
   "source": [
    "import pandas as pd\n",
    "import numpy as np\n",
    "import seaborn as sns\n",
    "import matplotlib.pyplot as plt\n",
    "from scipy.stats import mannwhitneyu, shapiro, ttest_ind, bootstrap\n",
    "sns.set(rc={'figure.figsize':(15, 5)}, style=\"whitegrid\")"
   ]
  },
  {
   "cell_type": "markdown",
   "metadata": {},
   "source": [
    "## Считывание и анализ данных"
   ]
  },
  {
   "cell_type": "code",
   "execution_count": 2,
   "metadata": {},
   "outputs": [],
   "source": [
    "df_users = pd.read_csv('ab_users_data.csv')\n",
    "df_products = pd.read_csv('ab_products.csv')\n",
    "df_orders = pd.read_csv('ab_orders.csv')"
   ]
  },
  {
   "cell_type": "markdown",
   "metadata": {},
   "source": [
    "### Датафрейм df_users"
   ]
  },
  {
   "cell_type": "code",
   "execution_count": 3,
   "metadata": {},
   "outputs": [
    {
     "data": {
      "text/html": [
       "<div>\n",
       "<style scoped>\n",
       "    .dataframe tbody tr th:only-of-type {\n",
       "        vertical-align: middle;\n",
       "    }\n",
       "\n",
       "    .dataframe tbody tr th {\n",
       "        vertical-align: top;\n",
       "    }\n",
       "\n",
       "    .dataframe thead th {\n",
       "        text-align: right;\n",
       "    }\n",
       "</style>\n",
       "<table border=\"1\" class=\"dataframe\">\n",
       "  <thead>\n",
       "    <tr style=\"text-align: right;\">\n",
       "      <th></th>\n",
       "      <th>user_id</th>\n",
       "      <th>order_id</th>\n",
       "      <th>action</th>\n",
       "      <th>time</th>\n",
       "      <th>date</th>\n",
       "      <th>group</th>\n",
       "    </tr>\n",
       "  </thead>\n",
       "  <tbody>\n",
       "    <tr>\n",
       "      <th>0</th>\n",
       "      <td>964</td>\n",
       "      <td>1255</td>\n",
       "      <td>create_order</td>\n",
       "      <td>2022-08-26 00:00:19.000000</td>\n",
       "      <td>2022-08-26</td>\n",
       "      <td>0</td>\n",
       "    </tr>\n",
       "    <tr>\n",
       "      <th>1</th>\n",
       "      <td>965</td>\n",
       "      <td>1256</td>\n",
       "      <td>create_order</td>\n",
       "      <td>2022-08-26 00:02:21.000000</td>\n",
       "      <td>2022-08-26</td>\n",
       "      <td>1</td>\n",
       "    </tr>\n",
       "    <tr>\n",
       "      <th>2</th>\n",
       "      <td>964</td>\n",
       "      <td>1257</td>\n",
       "      <td>create_order</td>\n",
       "      <td>2022-08-26 00:02:27.000000</td>\n",
       "      <td>2022-08-26</td>\n",
       "      <td>0</td>\n",
       "    </tr>\n",
       "    <tr>\n",
       "      <th>3</th>\n",
       "      <td>966</td>\n",
       "      <td>1258</td>\n",
       "      <td>create_order</td>\n",
       "      <td>2022-08-26 00:02:56.000000</td>\n",
       "      <td>2022-08-26</td>\n",
       "      <td>0</td>\n",
       "    </tr>\n",
       "    <tr>\n",
       "      <th>4</th>\n",
       "      <td>967</td>\n",
       "      <td>1259</td>\n",
       "      <td>create_order</td>\n",
       "      <td>2022-08-26 00:03:37.000000</td>\n",
       "      <td>2022-08-26</td>\n",
       "      <td>1</td>\n",
       "    </tr>\n",
       "  </tbody>\n",
       "</table>\n",
       "</div>"
      ],
      "text/plain": [
       "   user_id  order_id        action                        time        date  \\\n",
       "0      964      1255  create_order  2022-08-26 00:00:19.000000  2022-08-26   \n",
       "1      965      1256  create_order  2022-08-26 00:02:21.000000  2022-08-26   \n",
       "2      964      1257  create_order  2022-08-26 00:02:27.000000  2022-08-26   \n",
       "3      966      1258  create_order  2022-08-26 00:02:56.000000  2022-08-26   \n",
       "4      967      1259  create_order  2022-08-26 00:03:37.000000  2022-08-26   \n",
       "\n",
       "   group  \n",
       "0      0  \n",
       "1      1  \n",
       "2      0  \n",
       "3      0  \n",
       "4      1  "
      ]
     },
     "execution_count": 3,
     "metadata": {},
     "output_type": "execute_result"
    }
   ],
   "source": [
    "df_users.head()"
   ]
  },
  {
   "cell_type": "code",
   "execution_count": 4,
   "metadata": {},
   "outputs": [
    {
     "data": {
      "text/plain": [
       "(4337, 6)"
      ]
     },
     "execution_count": 4,
     "metadata": {},
     "output_type": "execute_result"
    }
   ],
   "source": [
    "df_users.shape"
   ]
  },
  {
   "cell_type": "code",
   "execution_count": 5,
   "metadata": {},
   "outputs": [
    {
     "data": {
      "text/plain": [
       "user_id     0\n",
       "order_id    0\n",
       "action      0\n",
       "time        0\n",
       "date        0\n",
       "group       0\n",
       "dtype: int64"
      ]
     },
     "execution_count": 5,
     "metadata": {},
     "output_type": "execute_result"
    }
   ],
   "source": [
    "df_users.isna().sum()"
   ]
  },
  {
   "cell_type": "code",
   "execution_count": 6,
   "metadata": {},
   "outputs": [
    {
     "data": {
      "text/plain": [
       "user_id      int64\n",
       "order_id     int64\n",
       "action      object\n",
       "time        object\n",
       "date        object\n",
       "group        int64\n",
       "dtype: object"
      ]
     },
     "execution_count": 6,
     "metadata": {},
     "output_type": "execute_result"
    }
   ],
   "source": [
    "df_users.dtypes"
   ]
  },
  {
   "cell_type": "markdown",
   "metadata": {},
   "source": [
    "Преобразуем типы данных столбцов **time** и **date** к типу данных datetime"
   ]
  },
  {
   "cell_type": "code",
   "execution_count": 7,
   "metadata": {},
   "outputs": [],
   "source": [
    "df_users['time'] = df_users.time.astype('datetime64')\n",
    "df_users['date'] = df_users.date.astype('datetime64')"
   ]
  },
  {
   "cell_type": "markdown",
   "metadata": {},
   "source": [
    "Посмотрим есть ли в столбце **date** даты, которые были позднее, чем даты в столбце **time**"
   ]
  },
  {
   "cell_type": "code",
   "execution_count": 8,
   "metadata": {},
   "outputs": [
    {
     "data": {
      "text/plain": [
       "0"
      ]
     },
     "execution_count": 8,
     "metadata": {},
     "output_type": "execute_result"
    }
   ],
   "source": [
    "df_users.query('date > time').shape[0]"
   ]
  },
  {
   "cell_type": "markdown",
   "metadata": {},
   "source": [
    "Получается, что столбец **date** дублирует столбец **time**, оставляя дату без времени"
   ]
  },
  {
   "cell_type": "code",
   "execution_count": 9,
   "metadata": {},
   "outputs": [
    {
     "data": {
      "text/plain": [
       "user_id     1017\n",
       "order_id    4123\n",
       "action         2\n",
       "time        4312\n",
       "date          14\n",
       "group          2\n",
       "dtype: int64"
      ]
     },
     "execution_count": 9,
     "metadata": {},
     "output_type": "execute_result"
    }
   ],
   "source": [
    "df_users.nunique()"
   ]
  },
  {
   "cell_type": "markdown",
   "metadata": {},
   "source": [
    "Посмотрим на уникальные значения столбца **action**"
   ]
  },
  {
   "cell_type": "code",
   "execution_count": 10,
   "metadata": {},
   "outputs": [
    {
     "data": {
      "text/plain": [
       "array(['create_order', 'cancel_order'], dtype=object)"
      ]
     },
     "execution_count": 10,
     "metadata": {},
     "output_type": "execute_result"
    }
   ],
   "source": [
    "df_users.action.unique()"
   ]
  },
  {
   "cell_type": "markdown",
   "metadata": {},
   "source": [
    "В столбце **action** наблюдается два значения: создание заказа и отмена заказа\n",
    "\n",
    "Посмотрим на количество уникальных пользователей, количество заказов и количество отменённых заказов в разбивке по группе A/B-теста"
   ]
  },
  {
   "cell_type": "code",
   "execution_count": 11,
   "metadata": {},
   "outputs": [
    {
     "data": {
      "text/html": [
       "<div>\n",
       "<style scoped>\n",
       "    .dataframe tbody tr th:only-of-type {\n",
       "        vertical-align: middle;\n",
       "    }\n",
       "\n",
       "    .dataframe tbody tr th {\n",
       "        vertical-align: top;\n",
       "    }\n",
       "\n",
       "    .dataframe thead th {\n",
       "        text-align: right;\n",
       "    }\n",
       "</style>\n",
       "<table border=\"1\" class=\"dataframe\">\n",
       "  <thead>\n",
       "    <tr style=\"text-align: right;\">\n",
       "      <th></th>\n",
       "      <th>group</th>\n",
       "      <th>unique_users_count</th>\n",
       "      <th>orders_count</th>\n",
       "      <th>cancel_order_count</th>\n",
       "    </tr>\n",
       "  </thead>\n",
       "  <tbody>\n",
       "    <tr>\n",
       "      <th>0</th>\n",
       "      <td>0</td>\n",
       "      <td>515</td>\n",
       "      <td>1691</td>\n",
       "      <td>82</td>\n",
       "    </tr>\n",
       "    <tr>\n",
       "      <th>1</th>\n",
       "      <td>1</td>\n",
       "      <td>502</td>\n",
       "      <td>2646</td>\n",
       "      <td>132</td>\n",
       "    </tr>\n",
       "  </tbody>\n",
       "</table>\n",
       "</div>"
      ],
      "text/plain": [
       "   group  unique_users_count  orders_count  cancel_order_count\n",
       "0      0                 515          1691                  82\n",
       "1      1                 502          2646                 132"
      ]
     },
     "execution_count": 11,
     "metadata": {},
     "output_type": "execute_result"
    }
   ],
   "source": [
    "df_users.groupby(['group'], as_index=False)\\\n",
    "         .agg(unique_users_count=('user_id', lambda x: len(x.unique())),\n",
    "             orders_count=('order_id', 'count'),\n",
    "             cancel_order_count=('action', lambda x: (x == 'cancel_order').sum()))     "
   ]
  },
  {
   "cell_type": "markdown",
   "metadata": {},
   "source": [
    "### Датафрейм  df_orders"
   ]
  },
  {
   "cell_type": "code",
   "execution_count": 12,
   "metadata": {},
   "outputs": [
    {
     "data": {
      "text/html": [
       "<div>\n",
       "<style scoped>\n",
       "    .dataframe tbody tr th:only-of-type {\n",
       "        vertical-align: middle;\n",
       "    }\n",
       "\n",
       "    .dataframe tbody tr th {\n",
       "        vertical-align: top;\n",
       "    }\n",
       "\n",
       "    .dataframe thead th {\n",
       "        text-align: right;\n",
       "    }\n",
       "</style>\n",
       "<table border=\"1\" class=\"dataframe\">\n",
       "  <thead>\n",
       "    <tr style=\"text-align: right;\">\n",
       "      <th></th>\n",
       "      <th>order_id</th>\n",
       "      <th>creation_time</th>\n",
       "      <th>product_ids</th>\n",
       "    </tr>\n",
       "  </thead>\n",
       "  <tbody>\n",
       "    <tr>\n",
       "      <th>0</th>\n",
       "      <td>1255</td>\n",
       "      <td>2022-08-26 00:00:19.000000</td>\n",
       "      <td>{75, 22, 53, 84}</td>\n",
       "    </tr>\n",
       "    <tr>\n",
       "      <th>1</th>\n",
       "      <td>1256</td>\n",
       "      <td>2022-08-26 00:02:21.000000</td>\n",
       "      <td>{56, 76, 39}</td>\n",
       "    </tr>\n",
       "    <tr>\n",
       "      <th>2</th>\n",
       "      <td>1257</td>\n",
       "      <td>2022-08-26 00:02:27.000000</td>\n",
       "      <td>{76, 34, 41, 38}</td>\n",
       "    </tr>\n",
       "    <tr>\n",
       "      <th>3</th>\n",
       "      <td>1258</td>\n",
       "      <td>2022-08-26 00:02:56.000000</td>\n",
       "      <td>{74, 6}</td>\n",
       "    </tr>\n",
       "    <tr>\n",
       "      <th>4</th>\n",
       "      <td>1259</td>\n",
       "      <td>2022-08-26 00:03:37.000000</td>\n",
       "      <td>{20, 45, 67, 26}</td>\n",
       "    </tr>\n",
       "  </tbody>\n",
       "</table>\n",
       "</div>"
      ],
      "text/plain": [
       "   order_id               creation_time       product_ids\n",
       "0      1255  2022-08-26 00:00:19.000000  {75, 22, 53, 84}\n",
       "1      1256  2022-08-26 00:02:21.000000      {56, 76, 39}\n",
       "2      1257  2022-08-26 00:02:27.000000  {76, 34, 41, 38}\n",
       "3      1258  2022-08-26 00:02:56.000000           {74, 6}\n",
       "4      1259  2022-08-26 00:03:37.000000  {20, 45, 67, 26}"
      ]
     },
     "execution_count": 12,
     "metadata": {},
     "output_type": "execute_result"
    }
   ],
   "source": [
    "df_orders.head()"
   ]
  },
  {
   "cell_type": "code",
   "execution_count": 13,
   "metadata": {},
   "outputs": [
    {
     "data": {
      "text/plain": [
       "(4123, 3)"
      ]
     },
     "execution_count": 13,
     "metadata": {},
     "output_type": "execute_result"
    }
   ],
   "source": [
    "df_orders.shape"
   ]
  },
  {
   "cell_type": "code",
   "execution_count": 14,
   "metadata": {},
   "outputs": [
    {
     "data": {
      "text/plain": [
       "order_id         0\n",
       "creation_time    0\n",
       "product_ids      0\n",
       "dtype: int64"
      ]
     },
     "execution_count": 14,
     "metadata": {},
     "output_type": "execute_result"
    }
   ],
   "source": [
    "df_orders.isna().sum()"
   ]
  },
  {
   "cell_type": "code",
   "execution_count": 15,
   "metadata": {},
   "outputs": [
    {
     "data": {
      "text/plain": [
       "order_id         4123\n",
       "creation_time    4098\n",
       "product_ids      3877\n",
       "dtype: int64"
      ]
     },
     "execution_count": 15,
     "metadata": {},
     "output_type": "execute_result"
    }
   ],
   "source": [
    "df_orders.nunique()"
   ]
  },
  {
   "cell_type": "code",
   "execution_count": 16,
   "metadata": {},
   "outputs": [
    {
     "data": {
      "text/plain": [
       "order_id          int64\n",
       "creation_time    object\n",
       "product_ids      object\n",
       "dtype: object"
      ]
     },
     "execution_count": 16,
     "metadata": {},
     "output_type": "execute_result"
    }
   ],
   "source": [
    "df_orders.dtypes"
   ]
  },
  {
   "cell_type": "markdown",
   "metadata": {},
   "source": [
    "Преобразуем тип данных столбца **creation_time** к типу данных **datetime**"
   ]
  },
  {
   "cell_type": "code",
   "execution_count": 17,
   "metadata": {},
   "outputs": [],
   "source": [
    "df_orders['creation_time'] = df_orders.creation_time.astype('datetime64')"
   ]
  },
  {
   "cell_type": "markdown",
   "metadata": {},
   "source": [
    "В столбце **product_ids** записаны данные похожие на множество (тип данных **set**), но чтобы не проверять это, преобразуем тип данного столбца к отсортированному списку **list**"
   ]
  },
  {
   "cell_type": "code",
   "execution_count": 18,
   "metadata": {},
   "outputs": [],
   "source": [
    "df_orders['product_ids'] = df_orders.product_ids\\\n",
    "                                    .apply(lambda x: sorted(x[1:-1].split(', ')))"
   ]
  },
  {
   "cell_type": "markdown",
   "metadata": {},
   "source": [
    "### Датафрейм df_products"
   ]
  },
  {
   "cell_type": "code",
   "execution_count": 19,
   "metadata": {},
   "outputs": [
    {
     "data": {
      "text/html": [
       "<div>\n",
       "<style scoped>\n",
       "    .dataframe tbody tr th:only-of-type {\n",
       "        vertical-align: middle;\n",
       "    }\n",
       "\n",
       "    .dataframe tbody tr th {\n",
       "        vertical-align: top;\n",
       "    }\n",
       "\n",
       "    .dataframe thead th {\n",
       "        text-align: right;\n",
       "    }\n",
       "</style>\n",
       "<table border=\"1\" class=\"dataframe\">\n",
       "  <thead>\n",
       "    <tr style=\"text-align: right;\">\n",
       "      <th></th>\n",
       "      <th>product_id</th>\n",
       "      <th>name</th>\n",
       "      <th>price</th>\n",
       "    </tr>\n",
       "  </thead>\n",
       "  <tbody>\n",
       "    <tr>\n",
       "      <th>0</th>\n",
       "      <td>1</td>\n",
       "      <td>сахар</td>\n",
       "      <td>150.0</td>\n",
       "    </tr>\n",
       "    <tr>\n",
       "      <th>1</th>\n",
       "      <td>2</td>\n",
       "      <td>чай зеленый в пакетиках</td>\n",
       "      <td>50.0</td>\n",
       "    </tr>\n",
       "    <tr>\n",
       "      <th>2</th>\n",
       "      <td>3</td>\n",
       "      <td>вода негазированная</td>\n",
       "      <td>80.4</td>\n",
       "    </tr>\n",
       "    <tr>\n",
       "      <th>3</th>\n",
       "      <td>4</td>\n",
       "      <td>леденцы</td>\n",
       "      <td>45.5</td>\n",
       "    </tr>\n",
       "    <tr>\n",
       "      <th>4</th>\n",
       "      <td>5</td>\n",
       "      <td>кофе 3 в 1</td>\n",
       "      <td>15.0</td>\n",
       "    </tr>\n",
       "  </tbody>\n",
       "</table>\n",
       "</div>"
      ],
      "text/plain": [
       "   product_id                     name  price\n",
       "0           1                    сахар  150.0\n",
       "1           2  чай зеленый в пакетиках   50.0\n",
       "2           3      вода негазированная   80.4\n",
       "3           4                  леденцы   45.5\n",
       "4           5               кофе 3 в 1   15.0"
      ]
     },
     "execution_count": 19,
     "metadata": {},
     "output_type": "execute_result"
    }
   ],
   "source": [
    "df_products.head()"
   ]
  },
  {
   "cell_type": "code",
   "execution_count": 20,
   "metadata": {},
   "outputs": [
    {
     "data": {
      "text/plain": [
       "(87, 3)"
      ]
     },
     "execution_count": 20,
     "metadata": {},
     "output_type": "execute_result"
    }
   ],
   "source": [
    "df_products.shape"
   ]
  },
  {
   "cell_type": "code",
   "execution_count": 21,
   "metadata": {},
   "outputs": [
    {
     "data": {
      "text/plain": [
       "product_id    0\n",
       "name          0\n",
       "price         0\n",
       "dtype: int64"
      ]
     },
     "execution_count": 21,
     "metadata": {},
     "output_type": "execute_result"
    }
   ],
   "source": [
    "df_products.isna().sum()"
   ]
  },
  {
   "cell_type": "code",
   "execution_count": 22,
   "metadata": {},
   "outputs": [
    {
     "data": {
      "text/plain": [
       "product_id      int64\n",
       "name           object\n",
       "price         float64\n",
       "dtype: object"
      ]
     },
     "execution_count": 22,
     "metadata": {},
     "output_type": "execute_result"
    }
   ],
   "source": [
    "df_products.dtypes"
   ]
  },
  {
   "cell_type": "code",
   "execution_count": 23,
   "metadata": {},
   "outputs": [
    {
     "data": {
      "text/plain": [
       "product_id    87\n",
       "name          87\n",
       "price         63\n",
       "dtype: int64"
      ]
     },
     "execution_count": 23,
     "metadata": {},
     "output_type": "execute_result"
    }
   ],
   "source": [
    "df_products.nunique()"
   ]
  },
  {
   "cell_type": "markdown",
   "metadata": {},
   "source": [
    "### Вывод по анализу:\n",
    "\n",
    "1. Для анализа A/B-теста есть следующие датафреймы: \n",
    "\n",
    "    - **df_users** - история заказов пользователей:\n",
    "        * user_id - идентификационный номер пользователя\n",
    "        * order_id - идентификационный номер заказа\n",
    "        * action - действие с заказом\n",
    "            - create_order - заказ создан\n",
    "            - cancel_order - заказ отменён\n",
    "        * time - дата и время взаимодействия пользователя с приложением\n",
    "        * date - дата взаимодействия пользователя с приложением\n",
    "        * group - группа A/B-теста\n",
    "            - 0 - контрольная группа (A)\n",
    "            - 1 - тестовая группа (B)\n",
    "\n",
    "    - **df_orders** - подробная информация о составе заказа:\n",
    "        * order_id - идентификационный номер заказа\n",
    "        * creation_time - дата и время создания заказа\n",
    "        * product_ids - список идентификационных номеров товаров\n",
    "\n",
    "    **df_products** - подробная информация о товарах:\n",
    "        * product_id - идентификационный номер товара\n",
    "        * name - наименование товара\n",
    "        * price - цена товара\n",
    "- В контрольной группе наблюдается 515 уникальных пользователей, в тестовой - 502       \n",
    "- В контрольной группе наблюдается 1691 созднаный заказ, в тестовой - 2646\n",
    "- В контрольной группе наблюдается 82 отмены заказа, в тестовой - 132"
   ]
  },
  {
   "cell_type": "markdown",
   "metadata": {},
   "source": [
    "## Гипотезы и тесты"
   ]
  },
  {
   "cell_type": "markdown",
   "metadata": {},
   "source": [
    "Введём метрику количества заказов на одного пользователя Orders Count per User (**OCU**)\n",
    "\n",
    "**H0** - нет статистически значимых различий в распределениях количества заказов на одного пользователя между тестовой и контрольной группами.\n",
    "\n",
    "**H1** -  существуют статистически значимые различия в распределениях количества заказов на одного пользователя между тестовой и контрольной группами."
   ]
  },
  {
   "cell_type": "code",
   "execution_count": 24,
   "metadata": {},
   "outputs": [],
   "source": [
    "df_metrics = df_users.query('action == \"create_order\"')\\\n",
    "                .groupby(['group', 'user_id'], as_index=False)\\\n",
    "                .agg(OCU=('order_id', 'count'))"
   ]
  },
  {
   "cell_type": "markdown",
   "metadata": {},
   "source": [
    "Построим графики распредления **OCU**. \n",
    "\n",
    "*учитывая, что нам понадобится визуализировать распределения других метрик, создадим фунцию построения необходимых графиков*"
   ]
  },
  {
   "cell_type": "code",
   "execution_count": 25,
   "metadata": {},
   "outputs": [],
   "source": [
    "def show_plots(df, metric):\n",
    "    '''Строит гистограмму и боксплоты распределения заданной метрики'''\n",
    "    sns.set(style=\"ticks\", font_scale=0.8)\n",
    "    fig, axs = plt.subplots(1, 2)\n",
    "    plt.subplots_adjust(hspace=0.7)\n",
    "    sns.histplot(data=df, x=metric, hue='group', kde=False, palette='YlOrBr', ax=axs[0])\n",
    "    axs[0].set_title(f'Распределение {metric} в тестовой и контрольной группах')\n",
    "    axs[0].set_xlabel(f'{metric}')\n",
    "    axs[0].set_ylabel('Количество')\n",
    "    axs[0].tick_params(axis='both', which='both', labelsize=8)\n",
    "    sns.boxplot(data=df, x ='group', y=metric, palette='YlOrBr', ax=axs[1])\n",
    "    axs[1].set_title(f'Распределение {metric} в тестовой и контрольной группах')\n",
    "    axs[1].set_xlabel('Группа')\n",
    "    axs[1].set_ylabel(f'{metric}')\n",
    "    axs[1].tick_params(axis='both', which='both', labelsize=8)\n",
    "    plt.show()"
   ]
  },
  {
   "cell_type": "code",
   "execution_count": 26,
   "metadata": {},
   "outputs": [
    {
     "data": {
      "image/png": "[encoded data removed]",
      "text/plain": [
       "<Figure size 1080x360 with 2 Axes>"
      ]
     },
     "metadata": {},
     "output_type": "display_data"
    }
   ],
   "source": [
    "show_plots(df_metrics, 'OCU')"
   ]
  },
  {
   "cell_type": "markdown",
   "metadata": {},
   "source": [
    "Для проверки на наличие статистически значимых различий в выборках, проверим распределения на нормальность с помощью критерия Шапиро-Уилка\n",
    "\n",
    "*Учитывая, что нам и далее понадобится определять нормальность распределений, создадим фунции*"
   ]
  },
  {
   "cell_type": "code",
   "execution_count": 27,
   "metadata": {},
   "outputs": [],
   "source": [
    "def make_groups(df, metric):\n",
    "    control_group = df.query('group == 0')[metric]\n",
    "    test_group = df.query('group == 1')[metric]\n",
    "    return control_group, test_group"
   ]
  },
  {
   "cell_type": "code",
   "execution_count": 28,
   "metadata": {},
   "outputs": [],
   "source": [
    "def shapiro_test(test_group, control_group):\n",
    "    print('Критейрий Шапиро-Уилка')\n",
    "    print('p-value контрольной группы =', shapiro(test_group).pvalue)\n",
    "    print('p-value тестовой группы =', shapiro(control_group).pvalue)\n",
    "    print()\n",
    "    print('Критейрий Шапиро-Уилка прологарифмированных выборок (без учёта нулевых значений)')\n",
    "    print('p-value контрольной группы =', shapiro(np.log(test_group[test_group > 0])).pvalue)\n",
    "    print('p-value тестовой группы =', shapiro(np.log(control_group[control_group > 0])).pvalue)"
   ]
  },
  {
   "cell_type": "code",
   "execution_count": 29,
   "metadata": {},
   "outputs": [
    {
     "name": "stdout",
     "output_type": "stream",
     "text": [
      "Критейрий Шапиро-Уилка\n",
      "p-value контрольной группы = 1.0818117861129074e-22\n",
      "p-value тестовой группы = 1.7252431427916548e-10\n",
      "\n",
      "Критейрий Шапиро-Уилка прологарифмированных выборок (без учёта нулевых значений)\n",
      "p-value контрольной группы = 1.4064806753337575e-14\n",
      "p-value тестовой группы = 4.335773886995714e-18\n"
     ]
    }
   ],
   "source": [
    "a, b = make_groups(df_metrics, 'OCU')\n",
    "shapiro_test(a, b)"
   ]
  },
  {
   "cell_type": "markdown",
   "metadata": {},
   "source": [
    "Уровень значимости критерия Шапиро-Уилка ниже заранее заданного уровня значимости **α** (0.05), что позволяет нам отвергнуть нулевую гипотезу H0 о нормальности распределения выборок. Для определения наличия статистически значимых различий между группами, будем использовать критерий Манна-Уитни."
   ]
  },
  {
   "cell_type": "code",
   "execution_count": 30,
   "metadata": {},
   "outputs": [
    {
     "data": {
      "text/plain": [
       "MannwhitneyuResult(statistic=61172.5, pvalue=6.987139829766148e-49)"
      ]
     },
     "execution_count": 30,
     "metadata": {},
     "output_type": "execute_result"
    }
   ],
   "source": [
    "mannwhitneyu(a, b)"
   ]
  },
  {
   "cell_type": "markdown",
   "metadata": {},
   "source": [
    "Уровень значимости критерия Манна-Уитни ниже уровня значимости α (0.05), что позволяет нам отвергнуть нулевую гипотезу H0. \n",
    "Посмотрим, на сколько изменилось количество заказов на одного пользователя между тестовой и контрольной группами."
   ]
  },
  {
   "cell_type": "code",
   "execution_count": 31,
   "metadata": {},
   "outputs": [],
   "source": [
    "def metric_difference(df, metric):\n",
    "    median_control = df.query('group == 0')[metric].median()\n",
    "    median_test = df.query('group == 1')[metric].median()\n",
    "    difference = median_test - median_control\n",
    "    percent_difference = round(((difference) / median_control) * 100, 2)\n",
    "    print(f'{difference}, {percent_difference} %')"
   ]
  },
  {
   "cell_type": "code",
   "execution_count": 32,
   "metadata": {},
   "outputs": [
    {
     "name": "stdout",
     "output_type": "stream",
     "text": [
      "2.0, 66.67 %\n"
     ]
    }
   ],
   "source": [
    "metric_difference(df_metrics, 'OCU')"
   ]
  },
  {
   "cell_type": "markdown",
   "metadata": {},
   "source": [
    "### Вывод:\n",
    "\n",
    "Имеются статистически значимые различия в количестве заказов на одного пользователя между тестовой и контрольной группами. Наблюдается увеличение на 2 заказа (66.67 %) на одного пользователя в тестовой группе по сравнению с контрольной.\n",
    "\n",
    "### Метрика MPCO\n",
    "\n",
    "Введём метрику среднего количества товаров в заказе на одного пользователя Mean Products Count per Order (**MPCO**)\n",
    "\n",
    "**H0** - нет статистически значимых различий в распределениях среднего количества товаров в заказе на одного пользователя между тестовой и контрольной группами.\n",
    "\n",
    "**H1** -  существуют статистически значимые различия в распределениях среднего количества товаров в заказе на одного пользователя между тестовой и контрольной группами.\n",
    "\n",
    "Уровень значимости **α** = 0.05"
   ]
  },
  {
   "cell_type": "code",
   "execution_count": 33,
   "metadata": {},
   "outputs": [],
   "source": [
    "df_users_orders = df_users.merge(df_orders, on='order_id', how='outer')\\\n",
    "                          .sort_values('product_ids', key= lambda x: x.str.len())\n",
    "\n",
    "df_MPCO = df_users_orders.query('action == \"create_order\"')\\\n",
    "                        .groupby(['group', 'user_id'], as_index=False)\\\n",
    "                        .agg(MPCO=('product_ids', lambda x: np.mean(x.str.len())))\n",
    "df_metrics = df_metrics.merge(df_MPCO, on=['group', 'user_id'])"
   ]
  },
  {
   "cell_type": "code",
   "execution_count": 34,
   "metadata": {},
   "outputs": [
    {
     "data": {
      "image/png": "[encoded data removed]",
      "text/plain": [
       "<Figure size 1080x360 with 2 Axes>"
      ]
     },
     "metadata": {},
     "output_type": "display_data"
    }
   ],
   "source": [
    "show_plots(df_metrics, 'MPCO')"
   ]
  },
  {
   "cell_type": "code",
   "execution_count": 35,
   "metadata": {},
   "outputs": [
    {
     "name": "stdout",
     "output_type": "stream",
     "text": [
      "Критейрий Шапиро-Уилка\n",
      "p-value контрольной группы = 2.9056350658862584e-09\n",
      "p-value тестовой группы = 1.15523279831109e-09\n",
      "\n",
      "Критейрий Шапиро-Уилка прологарифмированных выборок (без учёта нулевых значений)\n",
      "p-value контрольной группы = 7.476215606745098e-16\n",
      "p-value тестовой группы = 3.6085865406931816e-09\n"
     ]
    }
   ],
   "source": [
    "a, b = make_groups(df_metrics, 'MPCO')\n",
    "shapiro_test(a, b)"
   ]
  },
  {
   "cell_type": "markdown",
   "metadata": {},
   "source": [
    "Уровень значимости критерия Шапиро-Уилка ниже заранее заданного уровня значимости α (0.05), что позволяет нам отвергнуть нулевую гипотезу H0. Для определения наличия статистически значимых различий между группами, мы будем использовать критерий Манна-Уитни."
   ]
  },
  {
   "cell_type": "code",
   "execution_count": 36,
   "metadata": {},
   "outputs": [
    {
     "data": {
      "text/plain": [
       "MannwhitneyuResult(statistic=125211.0, pvalue=0.38508959507477036)"
      ]
     },
     "execution_count": 36,
     "metadata": {},
     "output_type": "execute_result"
    }
   ],
   "source": [
    "mannwhitneyu(a, b)"
   ]
  },
  {
   "cell_type": "markdown",
   "metadata": {},
   "source": [
    "\n",
    "### Вывод:\n",
    "Уровень значимости, полученный с помощью критерия Манна-Уитни, равен 0.385, что выше выбранного уровня значимости α (0.05), не позволяет нам отклонить нулевую гипотезу H0. В выборках нет статистически значимых различий в среднем количестве товаров в заказе на одного пользователя между тестовой и контрольной группами.\n",
    "\n",
    "\n",
    "### Метрика TMU\n",
    "\n",
    "Введём метрику количества прибыли от каждого пользователя Total Money per User (**TMU**)\n",
    "\n",
    "**H0** - нет статистически значимых различий в количестве прибыли от одного пользователя между тестовой и контрольной группами.\n",
    "\n",
    "**H1** -  существуют статистически значимые различия  в количестве прибыли от одного пользователя между тестовой и контрольной группами.\n",
    "\n",
    "Уровень значимости **α** = 0.05\n",
    "\n",
    "Разобьём список в столбце **product_ids** датафрейма **df_users_orders** с помощью метода **explode**"
   ]
  },
  {
   "cell_type": "code",
   "execution_count": 37,
   "metadata": {},
   "outputs": [],
   "source": [
    "users_orders = df_users_orders.explode('product_ids')\\\n",
    "                              .reset_index(drop=True)\\\n",
    "                              .rename(columns={'product_ids': 'product_id'})"
   ]
  },
  {
   "cell_type": "markdown",
   "metadata": {},
   "source": [
    "Создадим список отменённых заказов"
   ]
  },
  {
   "cell_type": "code",
   "execution_count": 38,
   "metadata": {},
   "outputs": [],
   "source": [
    "cancel_orders = df_users_orders.query('action == \"cancel_order\"').order_id.unique()"
   ]
  },
  {
   "cell_type": "markdown",
   "metadata": {},
   "source": [
    "Оставим в датафрейме только неотменённые заказы"
   ]
  },
  {
   "cell_type": "code",
   "execution_count": 39,
   "metadata": {},
   "outputs": [],
   "source": [
    "not_cancel_users_orders = users_orders[~ users_orders['order_id'].isin(cancel_orders)]"
   ]
  },
  {
   "cell_type": "markdown",
   "metadata": {},
   "source": [
    "Преобразуем тип столбца **product_id** к типу int"
   ]
  },
  {
   "cell_type": "code",
   "execution_count": 40,
   "metadata": {},
   "outputs": [],
   "source": [
    "not_cancel_users_orders = not_cancel_users_orders.copy()\n",
    "not_cancel_users_orders.loc[:, 'product_id'] = not_cancel_users_orders.loc[:, 'product_id'].astype('int64')"
   ]
  },
  {
   "cell_type": "markdown",
   "metadata": {},
   "source": [
    "Объединим датафреймы **not_cancel_users_orders** и **df_products**"
   ]
  },
  {
   "cell_type": "code",
   "execution_count": 41,
   "metadata": {},
   "outputs": [],
   "source": [
    "users_success_orders = not_cancel_users_orders.merge(df_products, on='product_id')"
   ]
  },
  {
   "cell_type": "code",
   "execution_count": 42,
   "metadata": {},
   "outputs": [],
   "source": [
    "df_metrics = df_metrics.merge(users_success_orders.groupby(['group', 'user_id'], as_index=False)\\\n",
    "                                                  .agg(TMU=('price', sum)),\n",
    "                              on=['group', 'user_id'])"
   ]
  },
  {
   "cell_type": "code",
   "execution_count": 43,
   "metadata": {},
   "outputs": [
    {
     "data": {
      "image/png": "[encoded data removed]",
      "text/plain": [
       "<Figure size 1080x360 with 2 Axes>"
      ]
     },
     "metadata": {},
     "output_type": "display_data"
    }
   ],
   "source": [
    "show_plots(df_metrics, 'TMU')"
   ]
  },
  {
   "cell_type": "code",
   "execution_count": 44,
   "metadata": {},
   "outputs": [
    {
     "name": "stdout",
     "output_type": "stream",
     "text": [
      "Критейрий Шапиро-Уилка\n",
      "p-value контрольной группы = 8.713836969217895e-19\n",
      "p-value тестовой группы = 1.408598961916141e-07\n",
      "\n",
      "Критейрий Шапиро-Уилка прологарифмированных выборок (без учёта нулевых значений)\n",
      "p-value контрольной группы = 7.013428171553926e-10\n",
      "p-value тестовой группы = 2.724891650548165e-15\n"
     ]
    }
   ],
   "source": [
    "a, b = make_groups(df_metrics, 'TMU')\n",
    "shapiro_test(a, b)"
   ]
  },
  {
   "cell_type": "markdown",
   "metadata": {},
   "source": [
    "Уровень значимости критерия Шапиро-Уилка ниже заранее заданного уровня значимости **α** (0.05), что позволяет нам отвергнуть нулевую гипотезу H0 о нормальности распределения метрики **TMU**. Для определения наличия статистически значимых различий между группами, мы будем использовать критерий Манна-Уитни."
   ]
  },
  {
   "cell_type": "code",
   "execution_count": 45,
   "metadata": {},
   "outputs": [
    {
     "data": {
      "text/plain": [
       "MannwhitneyuResult(statistic=75129.5, pvalue=3.683319309039453e-30)"
      ]
     },
     "execution_count": 45,
     "metadata": {},
     "output_type": "execute_result"
    }
   ],
   "source": [
    "mannwhitneyu(a, b)"
   ]
  },
  {
   "cell_type": "markdown",
   "metadata": {},
   "source": [
    "Уровень значимости, полученный с помощью критерия Манна-Уитни меньше выбранного уровня значимости α (0.05), что позволяет нам отклонить нулевую гипотезу H0. "
   ]
  },
  {
   "cell_type": "code",
   "execution_count": 46,
   "metadata": {},
   "outputs": [
    {
     "name": "stdout",
     "output_type": "stream",
     "text": [
      "674.4000000000002, 70.57 %\n"
     ]
    }
   ],
   "source": [
    "metric_difference(df_metrics, 'TMU')"
   ]
  },
  {
   "cell_type": "markdown",
   "metadata": {},
   "source": [
    "Также посчитает, сколько прибыли нам принесли пользователи из тестовой и контрольной групп"
   ]
  },
  {
   "cell_type": "code",
   "execution_count": 47,
   "metadata": {},
   "outputs": [
    {
     "data": {
      "text/plain": [
       "group\n",
       "0    583455.9\n",
       "1    878628.4\n",
       "Name: TMU, dtype: float64"
      ]
     },
     "execution_count": 47,
     "metadata": {},
     "output_type": "execute_result"
    }
   ],
   "source": [
    "df_metrics.groupby('group').TMU.sum()"
   ]
  },
  {
   "cell_type": "markdown",
   "metadata": {},
   "source": [
    "### Вывод:\n",
    "Уровень значимости, полученный с помощью критерия Манна-Уитни меньше выбранного уровня значимости α (0.05), что позволяет нам отклонить нулевую гипотезу H0. Таким образом, между тестовой и контрольной группами есть статистически значимые различия. \n",
    "\n",
    "Среднее количество прибыли от одного пользователя увеличилось на 674.4 пункта (**70.57 %**)"
   ]
  },
  {
   "cell_type": "markdown",
   "metadata": {},
   "source": [
    "### Метрика DUOC\n",
    "\n",
    "Введём метрику количества уникальных пользователей, создающих заказ в день Daily Unique Order Creators (**DUOC**)\n",
    "\n",
    "**H0** - нет статистически значимых различий в количестве уникальных пользователей, создающих заказ в день между тестовой и контрольной группами.\n",
    "\n",
    "**H1** -  существуют статистически значимые различия в количестве уникальных пользователей, создающих заказ в день между тестовой и контрольной группами.\n",
    "\n",
    "Уровень значимости **α** = 0.05"
   ]
  },
  {
   "cell_type": "code",
   "execution_count": 48,
   "metadata": {},
   "outputs": [],
   "source": [
    "df_DUOC = df_users.query('action == \"create_order\"')\\\n",
    "                  .groupby(['group', 'date'], as_index=False)\\\n",
    "                  .agg(DUOC=('user_id', lambda x: np.size(x.unique())))\n",
    "df_DUOC.index = df_DUOC['date']\n",
    "df_DUOC.drop('date', inplace=True, axis=1)\n",
    "df_DUOC_group_0 = df_DUOC.query('group == 0').resample('D').sum()\n",
    "df_DUOC_group_0['group'] = 0\n",
    "df_DUOC_group_1 = df_DUOC.query('group == 1').resample('D').sum()\n",
    "df_DUOC_group_1['group'] = 1\n",
    "df_DUOC = pd.concat([df_DUOC_group_0.reset_index(), df_DUOC_group_1.reset_index()])"
   ]
  },
  {
   "cell_type": "code",
   "execution_count": 49,
   "metadata": {},
   "outputs": [
    {
     "data": {
      "image/png": "[encoded data removed]",
      "text/plain": [
       "<Figure size 1080x360 with 2 Axes>"
      ]
     },
     "metadata": {},
     "output_type": "display_data"
    }
   ],
   "source": [
    "show_plots(df_DUOC, 'DUOC')"
   ]
  },
  {
   "cell_type": "code",
   "execution_count": 50,
   "metadata": {},
   "outputs": [
    {
     "data": {
      "image/png": "[encoded data removed]",
      "text/plain": [
       "<Figure size 1080x360 with 1 Axes>"
      ]
     },
     "metadata": {},
     "output_type": "display_data"
    }
   ],
   "source": [
    "ax = sns.lineplot(data=df_DUOC, x='date', y='DUOC', hue='group')\n",
    "ax.set_title(f'Распределение DUOC в тестовой и контрольной группах')\n",
    "ax.set_xlabel('День')\n",
    "ax.set_ylabel('DUOC')\n",
    "plt.show()"
   ]
  },
  {
   "cell_type": "code",
   "execution_count": 51,
   "metadata": {},
   "outputs": [
    {
     "name": "stdout",
     "output_type": "stream",
     "text": [
      "Критейрий Шапиро-Уилка\n",
      "p-value контрольной группы = 1.6206705595323e-06\n",
      "p-value тестовой группы = 9.366684935230296e-06\n",
      "\n",
      "Критейрий Шапиро-Уилка прологарифмированных выборок (без учёта нулевых значений)\n",
      "p-value контрольной группы = 0.0008287479286082089\n",
      "p-value тестовой группы = 0.007878375239670277\n"
     ]
    }
   ],
   "source": [
    "a, b = make_groups(df_DUOC, 'DUOC')\n",
    "shapiro_test(a, b)"
   ]
  },
  {
   "cell_type": "markdown",
   "metadata": {},
   "source": [
    "Уровень значимости критерия Шапиро-Уилка ниже заранее заданного уровня значимости α (0.05), что позволяет нам отвергнуть нулевую гипотезу H0. Однако, отличия от нормальности не велики, поэтому для определения наличия статистически значимых различий между группами, будем использовать t-тест прологарифмированных значений метрики DUOC"
   ]
  },
  {
   "cell_type": "code",
   "execution_count": 52,
   "metadata": {},
   "outputs": [
    {
     "data": {
      "text/plain": [
       "0.09497126441088212"
      ]
     },
     "execution_count": 52,
     "metadata": {},
     "output_type": "execute_result"
    }
   ],
   "source": [
    "ttest_ind(np.log(a), np.log(b)).pvalue"
   ]
  },
  {
   "cell_type": "markdown",
   "metadata": {},
   "source": [
    "### Вывод:\n",
    "Уровни значимости, полученные с помощью критерия t-Стьюдента больше выбранного уровня значимости α (0.05), что не позволяет нам отклонить нулевую гипотезу H0. Таким образом, между тестовой и контрольной группами нет статистически значимых различий в количестве уникальных пользователей, создающих заказ в день."
   ]
  },
  {
   "cell_type": "markdown",
   "metadata": {},
   "source": [
    "### Метрика RCC\n",
    "\n",
    "Введём метрику отношения количества отменённых заказов к количеству созданных заказов  Ratio canceled orders to created orders (**RCC**)"
   ]
  },
  {
   "cell_type": "code",
   "execution_count": 53,
   "metadata": {},
   "outputs": [],
   "source": [
    "df_RCC = df_users.groupby(['group', 'user_id'], as_index=False)\\\n",
    "                .agg(RCC = ('action', \n",
    "                            lambda x: np.count_nonzero(x == 'cancel_order') / np.count_nonzero(x == 'create_order')))\n",
    "df_metrics = df_metrics.merge(df_RCC, on=['group', 'user_id'])"
   ]
  },
  {
   "cell_type": "code",
   "execution_count": 54,
   "metadata": {},
   "outputs": [
    {
     "data": {
      "image/png": "[encoded data removed]",
      "text/plain": [
       "<Figure size 1080x360 with 2 Axes>"
      ]
     },
     "metadata": {},
     "output_type": "display_data"
    }
   ],
   "source": [
    "show_plots(df_metrics, 'RCC')"
   ]
  },
  {
   "cell_type": "code",
   "execution_count": 55,
   "metadata": {},
   "outputs": [],
   "source": [
    "a, b = make_groups(df_metrics, 'RCC')"
   ]
  },
  {
   "cell_type": "code",
   "execution_count": 56,
   "metadata": {},
   "outputs": [
    {
     "name": "stdout",
     "output_type": "stream",
     "text": [
      "Критейрий Шапиро-Уилка\n",
      "p-value контрольной группы = 1.9520757989230035e-37\n",
      "p-value тестовой группы = 6.681989730541308e-34\n",
      "\n",
      "Критейрий Шапиро-Уилка прологарифмированных выборок (без учёта нулевых значений)\n",
      "p-value контрольной группы = 0.00012313973275013268\n",
      "p-value тестовой группы = 0.00035334614221937954\n"
     ]
    }
   ],
   "source": [
    "shapiro_test(a, b)"
   ]
  },
  {
   "cell_type": "markdown",
   "metadata": {},
   "source": [
    "Уровни значимости критерия Шапиро-Уилка ниже заранее заданного уровня значимости α (0.05), что позволяет нам отвергнуть нулевую гипотезу H0 о нормальности распределений. Для определения наличия статистически значимых различий между группами, будем использовать критерий Манна-Уитни"
   ]
  },
  {
   "cell_type": "code",
   "execution_count": 57,
   "metadata": {},
   "outputs": [
    {
     "data": {
      "text/plain": [
       "MannwhitneyuResult(statistic=119663.5, pvalue=0.006151142573166951)"
      ]
     },
     "execution_count": 57,
     "metadata": {},
     "output_type": "execute_result"
    }
   ],
   "source": [
    "mannwhitneyu(a, b)"
   ]
  },
  {
   "cell_type": "markdown",
   "metadata": {},
   "source": [
    "### Вывод:\n",
    "Уровень значимости, полученные с помощью критерия Манна-Уитни больше выбранного уровня значимости α (0.05), что позволяет не отклонять нулевую гипотезу H0. Таким образом, между тестовой и контрольной группами нет статистически значимых различий отношений количества отменённых заказов к количеству созданных заказов. "
   ]
  },
  {
   "cell_type": "markdown",
   "metadata": {},
   "source": [
    "## Выводы по проекту:\n",
    "    \n",
    "1. Имеются статистически значимые различия в количестве заказов на одного пользователя между тестовой и контрольной группами. Наблюдается увеличение на 2 заказа (66.67 %) на одного пользователя в тестовой группе по сравнению с контрольной. В контрольной группе был создан 1691 заказ, в тестовой - 2646.\n",
    "2. Среднее количество прибыли от одного пользователя увеличилось на 674.4 пункта (70.57 %) в тестовой группе по сравнению с контрольной. Пользователи в контрольной группи создали заказы и не отменили на 583455.9, в тестовой - 878628.4\n",
    "3. Среднее количество товаров, покупаемых пользователями не изменилось.\n",
    "4. Между тестовой и контрольной группами нет статистически значимых различий в количестве уникальных пользователей, создающих заказ в день.\n",
    "5. Между тестовой и контрольной группами нет статистически значимых различий отношений количества отменённых заказов к количеству созданных заказов.\n",
    "6. Исходя из проведённого анализа в случае, если выборки являются репрезентативными, то новая система рекомендаций смогла принести пользу бизнесу и пользователям приложения."
   ]
  }
 ],
 "metadata": {
  "kernelspec": {
   "display_name": "Python 3 (ipykernel)",
   "language": "python",
   "name": "python3"
  },
  "language_info": {
   "codemirror_mode": {
    "name": "ipython",
    "version": 3
   },
   "file_extension": ".py",
   "mimetype": "text/x-python",
   "name": "python",
   "nbconvert_exporter": "python",
   "pygments_lexer": "ipython3",
   "version": "3.9.13"
  }
 },
 "nbformat": 4,
 "nbformat_minor": 4
}
