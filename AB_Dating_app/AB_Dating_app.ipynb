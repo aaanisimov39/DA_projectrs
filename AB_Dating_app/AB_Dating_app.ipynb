{
 "cells": [
  {
   "cell_type": "markdown",
   "metadata": {},
   "source": [
    "## Общее описание:\n",
    "\n",
    "Задача – оценить, правда ли, что новый алгоритм улучшил качество сервиса приложения для онлайн-знакомств. \n",
    "\n",
    "Механика приложения следующая: пользователи видят в приложении анкеты друг друга и могут ставить друг другу лайки или дизлайки. Если пользователи поставили друг другу лайк – это называется 'мэтч', и у пользователей появляется возможность познакомиться.\n",
    "\n",
    "Команда приложения разработала новый алгоритм для поиска наиболее подходящих анкет. Для проверки работы алгоритма был проведен A/B-тест. Все пользователи были разделены на две группы.\n",
    "\n",
    "### Описание данных\n",
    "\n",
    "В данных находится выгрузка логов взаимодействия пользователей друг с другом. Для каждой пары пользователей указано, из какой они группы A/B-теста и случился ли у них мэтч.\n",
    "\n",
    "Результат работы – аналитическое заключение с ответом на вопрос, стоит ли включать новую систему поиска анкет на всех пользователей.\n",
    "\n",
    "- **user_id_1** – идентификационный номер пользователя 1\n",
    "- **user_id_2** – идентификационный номер пользователя 2\n",
    "- **group** - группа пользователя:\n",
    "    - 0 - пользователь пользовался приложением со старым алгоритмом (контрольная группа)\n",
    "    - 1 - пользователь пользовался приложением с новым алгоритмом (тестовая группа)\n",
    "- **is_match** - случился ли мэтч:\n",
    "    - 0 - не случился\n",
    "    - 1 - случился\n",
    "\n",
    "## План\n",
    "\n",
    "1. **Сначала сделаем небольшой препроцессинг:**\n",
    "    - Посмотрим на данные\n",
    "2. **Проводим анализ:**\n",
    "    - Выбираем метрики\n",
    "    - Формулируем гипотезы\n",
    "    - Строим графики\n",
    "    - Выбираем подходящий тест\n",
    "    - Тестируем\n",
    "4. **Подводим итоги:**\n",
    "    - Сформулируем выводы\n",
    "    - Как можно будет позже провести A/B-тестирование?"
   ]
  },
  {
   "cell_type": "code",
   "execution_count": 1,
   "metadata": {},
   "outputs": [],
   "source": [
    "import pandas as pd\n",
    "import numpy as np\n",
    "import seaborn as sns\n",
    "import matplotlib.pyplot as plt\n",
    "from scipy.stats import mannwhitneyu, shapiro, kruskal, ttest_ind\n",
    "\n",
    "sns.set(rc={'figure.figsize':(15, 5)}, style=\"whitegrid\")"
   ]
  },
  {
   "cell_type": "markdown",
   "metadata": {},
   "source": [
    "## Считывание и анализ данных"
   ]
  },
  {
   "cell_type": "code",
   "execution_count": 2,
   "metadata": {},
   "outputs": [],
   "source": [
    "df = pd.read_csv('dating_data.csv')"
   ]
  },
  {
   "cell_type": "code",
   "execution_count": 3,
   "metadata": {},
   "outputs": [
    {
     "data": {
      "text/html": [
       "<div>\n",
       "<style scoped>\n",
       "    .dataframe tbody tr th:only-of-type {\n",
       "        vertical-align: middle;\n",
       "    }\n",
       "\n",
       "    .dataframe tbody tr th {\n",
       "        vertical-align: top;\n",
       "    }\n",
       "\n",
       "    .dataframe thead th {\n",
       "        text-align: right;\n",
       "    }\n",
       "</style>\n",
       "<table border=\"1\" class=\"dataframe\">\n",
       "  <thead>\n",
       "    <tr style=\"text-align: right;\">\n",
       "      <th></th>\n",
       "      <th>user_id_1</th>\n",
       "      <th>user_id_2</th>\n",
       "      <th>group</th>\n",
       "      <th>is_match</th>\n",
       "    </tr>\n",
       "  </thead>\n",
       "  <tbody>\n",
       "    <tr>\n",
       "      <th>0</th>\n",
       "      <td>79</td>\n",
       "      <td>91</td>\n",
       "      <td>1</td>\n",
       "      <td>1</td>\n",
       "    </tr>\n",
       "    <tr>\n",
       "      <th>1</th>\n",
       "      <td>716</td>\n",
       "      <td>353</td>\n",
       "      <td>1</td>\n",
       "      <td>1</td>\n",
       "    </tr>\n",
       "    <tr>\n",
       "      <th>2</th>\n",
       "      <td>423</td>\n",
       "      <td>677</td>\n",
       "      <td>0</td>\n",
       "      <td>0</td>\n",
       "    </tr>\n",
       "    <tr>\n",
       "      <th>3</th>\n",
       "      <td>658</td>\n",
       "      <td>165</td>\n",
       "      <td>1</td>\n",
       "      <td>1</td>\n",
       "    </tr>\n",
       "    <tr>\n",
       "      <th>4</th>\n",
       "      <td>969</td>\n",
       "      <td>155</td>\n",
       "      <td>0</td>\n",
       "      <td>1</td>\n",
       "    </tr>\n",
       "  </tbody>\n",
       "</table>\n",
       "</div>"
      ],
      "text/plain": [
       "   user_id_1  user_id_2  group  is_match\n",
       "0         79         91      1         1\n",
       "1        716        353      1         1\n",
       "2        423        677      0         0\n",
       "3        658        165      1         1\n",
       "4        969        155      0         1"
      ]
     },
     "execution_count": 3,
     "metadata": {},
     "output_type": "execute_result"
    }
   ],
   "source": [
    "df.head()"
   ]
  },
  {
   "cell_type": "code",
   "execution_count": 4,
   "metadata": {},
   "outputs": [
    {
     "data": {
      "text/plain": [
       "(14514, 4)"
      ]
     },
     "execution_count": 4,
     "metadata": {},
     "output_type": "execute_result"
    }
   ],
   "source": [
    "df.shape"
   ]
  },
  {
   "cell_type": "code",
   "execution_count": 5,
   "metadata": {},
   "outputs": [
    {
     "data": {
      "text/plain": [
       "user_id_1    int64\n",
       "user_id_2    int64\n",
       "group        int64\n",
       "is_match     int64\n",
       "dtype: object"
      ]
     },
     "execution_count": 5,
     "metadata": {},
     "output_type": "execute_result"
    }
   ],
   "source": [
    "df.dtypes"
   ]
  },
  {
   "cell_type": "code",
   "execution_count": 6,
   "metadata": {},
   "outputs": [
    {
     "data": {
      "text/plain": [
       "user_id_1    1000\n",
       "user_id_2    1000\n",
       "group           2\n",
       "is_match        2\n",
       "dtype: int64"
      ]
     },
     "execution_count": 6,
     "metadata": {},
     "output_type": "execute_result"
    }
   ],
   "source": [
    "df.nunique()"
   ]
  },
  {
   "cell_type": "code",
   "execution_count": 7,
   "metadata": {},
   "outputs": [
    {
     "data": {
      "text/plain": [
       "user_id_1    0\n",
       "user_id_2    0\n",
       "group        0\n",
       "is_match     0\n",
       "dtype: int64"
      ]
     },
     "execution_count": 7,
     "metadata": {},
     "output_type": "execute_result"
    }
   ],
   "source": [
    "df.isna().sum()"
   ]
  },
  {
   "cell_type": "markdown",
   "metadata": {},
   "source": [
    "Посмотрим совпадают ли списки уникальных пользователей user_1 и user_2"
   ]
  },
  {
   "cell_type": "code",
   "execution_count": 8,
   "metadata": {},
   "outputs": [
    {
     "data": {
      "text/plain": [
       "True"
      ]
     },
     "execution_count": 8,
     "metadata": {},
     "output_type": "execute_result"
    }
   ],
   "source": [
    "sorted(df.user_id_2.unique()) == sorted(df.user_id_1.unique())"
   ]
  },
  {
   "cell_type": "markdown",
   "metadata": {},
   "source": [
    "Списки пользователей user_1 и user_2 совпадают. Предположим, что в user_1 записаны пользователи, которые первыми поставили лайк или дизлайк, а в user_2 пользователи, которые принимали решение позже.\n",
    "\n",
    "На всякий случай проверим есть ли пользователи, которые попали и в тестовую, и контрольную группы"
   ]
  },
  {
   "cell_type": "code",
   "execution_count": 9,
   "metadata": {},
   "outputs": [
    {
     "data": {
      "text/plain": [
       "False"
      ]
     },
     "execution_count": 9,
     "metadata": {},
     "output_type": "execute_result"
    }
   ],
   "source": [
    "any(np.in1d(df.query('group == 0').user_id_1.unique(), \n",
    "            df.query('group == 1').user_id_1.unique())) or any(np.in1d(df.query('group == 0').user_id_2.unique(),\n",
    "                                                                       df.query('group == 1').user_id_2.unique()))"
   ]
  },
  {
   "cell_type": "markdown",
   "metadata": {},
   "source": [
    "Посмотрим на количество уникальных пользователей в группах 0 и 1"
   ]
  },
  {
   "cell_type": "code",
   "execution_count": 10,
   "metadata": {},
   "outputs": [
    {
     "data": {
      "text/html": [
       "<div>\n",
       "<style scoped>\n",
       "    .dataframe tbody tr th:only-of-type {\n",
       "        vertical-align: middle;\n",
       "    }\n",
       "\n",
       "    .dataframe tbody tr th {\n",
       "        vertical-align: top;\n",
       "    }\n",
       "\n",
       "    .dataframe thead th {\n",
       "        text-align: right;\n",
       "    }\n",
       "</style>\n",
       "<table border=\"1\" class=\"dataframe\">\n",
       "  <thead>\n",
       "    <tr style=\"text-align: right;\">\n",
       "      <th></th>\n",
       "      <th>count_unique_users</th>\n",
       "    </tr>\n",
       "    <tr>\n",
       "      <th>group</th>\n",
       "      <th></th>\n",
       "    </tr>\n",
       "  </thead>\n",
       "  <tbody>\n",
       "    <tr>\n",
       "      <th>0</th>\n",
       "      <td>501</td>\n",
       "    </tr>\n",
       "    <tr>\n",
       "      <th>1</th>\n",
       "      <td>499</td>\n",
       "    </tr>\n",
       "  </tbody>\n",
       "</table>\n",
       "</div>"
      ],
      "text/plain": [
       "       count_unique_users\n",
       "group                    \n",
       "0                     501\n",
       "1                     499"
      ]
     },
     "execution_count": 10,
     "metadata": {},
     "output_type": "execute_result"
    }
   ],
   "source": [
    "df.groupby(['group'], as_index='group').agg(count_unique_users=('user_id_1', lambda x: np.size(x.unique())))"
   ]
  },
  {
   "cell_type": "markdown",
   "metadata": {},
   "source": [
    "Посмотрим на количество взаимодействий (лайков и дизлайков) в каждой группе"
   ]
  },
  {
   "cell_type": "code",
   "execution_count": 11,
   "metadata": {},
   "outputs": [
    {
     "data": {
      "text/html": [
       "<div>\n",
       "<style scoped>\n",
       "    .dataframe tbody tr th:only-of-type {\n",
       "        vertical-align: middle;\n",
       "    }\n",
       "\n",
       "    .dataframe tbody tr th {\n",
       "        vertical-align: top;\n",
       "    }\n",
       "\n",
       "    .dataframe thead th {\n",
       "        text-align: right;\n",
       "    }\n",
       "</style>\n",
       "<table border=\"1\" class=\"dataframe\">\n",
       "  <thead>\n",
       "    <tr style=\"text-align: right;\">\n",
       "      <th></th>\n",
       "      <th>interaction_count</th>\n",
       "    </tr>\n",
       "    <tr>\n",
       "      <th>group</th>\n",
       "      <th></th>\n",
       "    </tr>\n",
       "  </thead>\n",
       "  <tbody>\n",
       "    <tr>\n",
       "      <th>0</th>\n",
       "      <td>4792</td>\n",
       "    </tr>\n",
       "    <tr>\n",
       "      <th>1</th>\n",
       "      <td>9722</td>\n",
       "    </tr>\n",
       "  </tbody>\n",
       "</table>\n",
       "</div>"
      ],
      "text/plain": [
       "       interaction_count\n",
       "group                   \n",
       "0                   4792\n",
       "1                   9722"
      ]
     },
     "execution_count": 11,
     "metadata": {},
     "output_type": "execute_result"
    }
   ],
   "source": [
    "df.groupby('group', as_index='group')\\\n",
    "  .agg(interaction_count=('user_id_1', np.size))"
   ]
  },
  {
   "cell_type": "markdown",
   "metadata": {},
   "source": [
    "Количество лайков и дизлайков в тестовой группе больше на 4930 (**103%**), чем в контрольной\n",
    "\n",
    "Посмотрим на количество мэтчей в каждой группе"
   ]
  },
  {
   "cell_type": "code",
   "execution_count": 12,
   "metadata": {},
   "outputs": [
    {
     "data": {
      "text/html": [
       "<div>\n",
       "<style scoped>\n",
       "    .dataframe tbody tr th:only-of-type {\n",
       "        vertical-align: middle;\n",
       "    }\n",
       "\n",
       "    .dataframe tbody tr th {\n",
       "        vertical-align: top;\n",
       "    }\n",
       "\n",
       "    .dataframe thead th {\n",
       "        text-align: right;\n",
       "    }\n",
       "</style>\n",
       "<table border=\"1\" class=\"dataframe\">\n",
       "  <thead>\n",
       "    <tr style=\"text-align: right;\">\n",
       "      <th></th>\n",
       "      <th>match_count</th>\n",
       "    </tr>\n",
       "    <tr>\n",
       "      <th>group</th>\n",
       "      <th></th>\n",
       "    </tr>\n",
       "  </thead>\n",
       "  <tbody>\n",
       "    <tr>\n",
       "      <th>0</th>\n",
       "      <td>934</td>\n",
       "    </tr>\n",
       "    <tr>\n",
       "      <th>1</th>\n",
       "      <td>3909</td>\n",
       "    </tr>\n",
       "  </tbody>\n",
       "</table>\n",
       "</div>"
      ],
      "text/plain": [
       "       match_count\n",
       "group             \n",
       "0              934\n",
       "1             3909"
      ]
     },
     "execution_count": 12,
     "metadata": {},
     "output_type": "execute_result"
    }
   ],
   "source": [
    "df.groupby(['group'], as_index='group')\\\n",
    "  .agg(match_count=('is_match', sum))"
   ]
  },
  {
   "cell_type": "markdown",
   "metadata": {},
   "source": [
    "Количество мэтчей в тестовой группе больше на 2975 (**318.5%**), чем в контрольной\n",
    "\n",
    "Посмотрим, есть ли пользователи в данной выборке, у которых на данный момент не случилось ни одного мэтча"
   ]
  },
  {
   "cell_type": "code",
   "execution_count": 13,
   "metadata": {},
   "outputs": [
    {
     "data": {
      "text/html": [
       "<div>\n",
       "<style scoped>\n",
       "    .dataframe tbody tr th:only-of-type {\n",
       "        vertical-align: middle;\n",
       "    }\n",
       "\n",
       "    .dataframe tbody tr th {\n",
       "        vertical-align: top;\n",
       "    }\n",
       "\n",
       "    .dataframe thead th {\n",
       "        text-align: right;\n",
       "    }\n",
       "</style>\n",
       "<table border=\"1\" class=\"dataframe\">\n",
       "  <thead>\n",
       "    <tr style=\"text-align: right;\">\n",
       "      <th></th>\n",
       "      <th>count_users_not_match</th>\n",
       "    </tr>\n",
       "    <tr>\n",
       "      <th>group</th>\n",
       "      <th></th>\n",
       "    </tr>\n",
       "  </thead>\n",
       "  <tbody>\n",
       "    <tr>\n",
       "      <th>0</th>\n",
       "      <td>79</td>\n",
       "    </tr>\n",
       "    <tr>\n",
       "      <th>1</th>\n",
       "      <td>1</td>\n",
       "    </tr>\n",
       "  </tbody>\n",
       "</table>\n",
       "</div>"
      ],
      "text/plain": [
       "       count_users_not_match\n",
       "group                       \n",
       "0                         79\n",
       "1                          1"
      ]
     },
     "execution_count": 13,
     "metadata": {},
     "output_type": "execute_result"
    }
   ],
   "source": [
    "df.groupby(['group', 'user_id_1'], as_index=False)\\\n",
    "  .agg(count_match=('is_match', sum))\\\n",
    "  .query('count_match == 0')\\\n",
    "  .groupby('group', as_index='group')\\\n",
    "  .agg(count_users_not_match=('user_id_1', np.size))"
   ]
  },
  {
   "cell_type": "markdown",
   "metadata": {},
   "source": [
    "В тестовой группе количество пользователей, у которых не случился мэтч составляет 1, в контрольной группе - 79.\n",
    "\n",
    "## Выводы по анализу\n",
    "\n",
    "- Списки пользователей user_1 и user_2 совпадают\n",
    "- В тестовой группе 501 пользователь, в контрольной - 499\n",
    "- Количество лайков и дизлайков в тестовой группе больше на 4930 (**103%**), чем в контрольной\n",
    "- Количество мэтчей в тестовой группе больше на 2975 (**318.5%**), чем в контрольной\n",
    "- В тестовой группе количество пользователей, у которых не случился мэтч составляет 1, в контрольной группе - 79.\n",
    "- Делать выводы о том, улучшил ли качество новый алгоритм сервиса приложения для онлайн-знакомств еще рано, нужно выполнить статистический анализ."
   ]
  },
  {
   "cell_type": "markdown",
   "metadata": {},
   "source": [
    "## 2: Гипотезы и тесты"
   ]
  },
  {
   "cell_type": "markdown",
   "metadata": {},
   "source": [
    "### Метрика LDC\n",
    "\n",
    "Введём метрику количества взаимойдействий (*лайков/дизлайков*) на одного пользователя Likes/Dislikes Count (**LDC**)\n",
    "\n",
    "Обозначим гипотезы:\n",
    "\n",
    "- **H0** - Между выборками по метрике LDC нет статистически значимых различий\n",
    "- **H1** - Между выборками по метрике LDC есть статистически значимые различия\n",
    "\n",
    "В качестве уровня значимости **α** для всех тестов выберем значение **0.05**\n",
    "\n",
    "Учитывая, что мы не знаем специфику приложения, а точнее в чем заключается различие между пользователями user_id_1 и user_id_2 будем проводить анализ для обеих групп пользователей. \n",
    "\n",
    "Посчитаем для каждого пользователя (и user_1, и user_2) в разбивке по группам общее количество взаимодействий."
   ]
  },
  {
   "cell_type": "code",
   "execution_count": 14,
   "metadata": {},
   "outputs": [],
   "source": [
    "df_metrics = df.groupby(['group', 'user_id_1'], as_index=False)\\\n",
    "               .agg(LDC_user_1=('is_match', 'count'))\\\n",
    "               .rename(columns={'user_id_1': 'user_id'})\n",
    "\n",
    "df_LDC_user_2 = df.groupby(['group', 'user_id_2'], as_index=False).agg(LDC_user_2=('is_match', 'count'))\n",
    "\n",
    "df_metrics = df_metrics.merge(df_LDC_user_2, \n",
    "                              left_on=['user_id', 'group'], \n",
    "                              right_on=['user_id_2', 'group'], \n",
    "                              how='inner', \n",
    "                              copy=False)\\\n",
    "                        .drop('user_id_2', axis=1)"
   ]
  },
  {
   "cell_type": "markdown",
   "metadata": {},
   "source": [
    "Построим графики распредления **LDC**. \n",
    "\n",
    "*Учитывая, что нам понадобится визуализировать распределения других метрик, создадим фунцию построения необходимых графиков*"
   ]
  },
  {
   "cell_type": "code",
   "execution_count": 15,
   "metadata": {},
   "outputs": [],
   "source": [
    "def show_plots(metric):\n",
    "    '''Строит гистограмму и боксплоты распределения заданной метрики'''\n",
    "    global df_metrics\n",
    "    sns.set(style=\"ticks\", font_scale=0.8)\n",
    "    fig, axs = plt.subplots(2, 2)\n",
    "    plt.subplots_adjust(hspace=0.7)\n",
    "    for i in range(2):\n",
    "        sns.histplot(data=df_metrics, x=f'{metric}_user_{i+1}', hue='group', kde=False, palette='YlOrBr', ax=axs[i, 0])\n",
    "        axs[i, 0].set_title(f'Распределение {metric} для user_{i+1} в тестовой и контрольной группах')\n",
    "        axs[i, 0].set_xlabel(f'{metric} для user_{i+1}')\n",
    "        axs[i, 0].set_ylabel('Количество пользователей')\n",
    "        axs[i, 0].tick_params(axis='both', which='both', labelsize=8)\n",
    "        sns.boxplot(data=df_metrics, x ='group', y=f'{metric}_user_{i+1}', palette='YlOrBr', ax=axs[i, 1])\n",
    "        axs[i, 1].set_title(f'Распределение {metric} для user_{i+1} в тестовой и контрольной группах')\n",
    "        axs[i, 1].set_xlabel('Группа')\n",
    "        axs[i, 1].set_ylabel(f'{metric} для user_{i+1}')\n",
    "        axs[i, 1].tick_params(axis='both', which='both', labelsize=8)\n",
    "    plt.show()"
   ]
  },
  {
   "cell_type": "code",
   "execution_count": 16,
   "metadata": {},
   "outputs": [
    {
     "data": {
      "image/png": "[encoded data removed]",
      "text/plain": [
       "<Figure size 1080x360 with 4 Axes>"
      ]
     },
     "metadata": {},
     "output_type": "display_data"
    }
   ],
   "source": [
    "show_plots('LDC')"
   ]
  },
  {
   "cell_type": "markdown",
   "metadata": {},
   "source": [
    "Из графиков видно, что в тестовой группе значение **LDC** увеличилось.\n",
    "\n",
    "Для проверки на наличие статистически значимых различий в выборках, проверим распределения на нормальность с помощью критерия **Шапиро-Уилка**\n",
    "\n",
    "*Далее придётся ещё проверять нормальность распределений, поэтому создадим функцию*"
   ]
  },
  {
   "cell_type": "code",
   "execution_count": 55,
   "metadata": {},
   "outputs": [],
   "source": [
    "def normality_test(metric):\n",
    "    global df_metrics\n",
    "    print(f'p-value для проверки на нормальность распределения метрики {metric}:')\n",
    "    print()\n",
    "    for my_tuple in [(0, 1), (1, 1), (0, 2), (1, 2)]:\n",
    "        num_group, num_user = my_tuple[0], my_tuple[1]  \n",
    "        my_series = df_metrics.query(f'group == {num_group}')[f'{metric}_user_{num_user}']\n",
    "        normality_pvalue = shapiro(my_series).pvalue\n",
    "        if my_tuple == (0, 2):\n",
    "            print()\n",
    "        if num_group == 0:\n",
    "            g = 'контрольной'\n",
    "        else:\n",
    "            g = 'тестовой'\n",
    "        print(f'для user_{num_user} в {g} группе: {normality_pvalue}')"
   ]
  },
  {
   "cell_type": "code",
   "execution_count": 56,
   "metadata": {},
   "outputs": [
    {
     "name": "stdout",
     "output_type": "stream",
     "text": [
      "p-value для проверки на нормальность распределения метрики LDC:\n",
      "\n",
      "для user_1 в контрольной группе: 0.00055683683604002\n",
      "для user_1 в тестовой группе: 2.540682726248633e-05\n",
      "\n",
      "для user_2 в контрольной группе: 8.998162570605928e-07\n",
      "для user_2 в тестовой группе: 0.07568937540054321\n"
     ]
    }
   ],
   "source": [
    "normality_test('LDC')"
   ]
  },
  {
   "cell_type": "markdown",
   "metadata": {},
   "source": [
    "Все распределения, кроме LDC для user_2 в тестовой группе статистически значимо отличаются от нормального распределения (p-value < 0.05), однако отличие от нормальности, на мой взгляд, небольшое, поэтому проверим наличие статистически значимых различий с помошью **U-теста Манна-Уитни** и **t-критерия**"
   ]
  },
  {
   "cell_type": "code",
   "execution_count": 19,
   "metadata": {},
   "outputs": [],
   "source": [
    "a_user_1 = df_metrics.query('group == 0')['LDC_user_1']\n",
    "b_user_1 = df_metrics.query('group == 1')['LDC_user_1']\n",
    "a_user_2 = df_metrics.query('group == 0')['LDC_user_2']\n",
    "b_user_2 = df_metrics.query('group == 1')['LDC_user_2']"
   ]
  },
  {
   "cell_type": "code",
   "execution_count": 20,
   "metadata": {},
   "outputs": [
    {
     "data": {
      "text/plain": [
       "6.905154965510583e-157"
      ]
     },
     "execution_count": 20,
     "metadata": {},
     "output_type": "execute_result"
    }
   ],
   "source": [
    "# U-тест Манна-Уитни распределение метрики LCD для user_1\n",
    "mannwhitneyu(a_user_1, b_user_1).pvalue"
   ]
  },
  {
   "cell_type": "code",
   "execution_count": 21,
   "metadata": {},
   "outputs": [
    {
     "data": {
      "text/plain": [
       "9.211614785731813e-142"
      ]
     },
     "execution_count": 21,
     "metadata": {},
     "output_type": "execute_result"
    }
   ],
   "source": [
    "# U-тест Манна-Уитни распределение метрики LCD для user_2\n",
    "mannwhitneyu(a_user_2, b_user_2).pvalue"
   ]
  },
  {
   "cell_type": "code",
   "execution_count": 22,
   "metadata": {},
   "outputs": [
    {
     "data": {
      "text/plain": [
       "1.8942877064043142e-285"
      ]
     },
     "execution_count": 22,
     "metadata": {},
     "output_type": "execute_result"
    }
   ],
   "source": [
    "# t-критерий распределение метрики LCD для user_1\n",
    "ttest_ind(a_user_1, b_user_1).pvalue"
   ]
  },
  {
   "cell_type": "code",
   "execution_count": 23,
   "metadata": {},
   "outputs": [
    {
     "data": {
      "text/plain": [
       "7.515112760079062e-210"
      ]
     },
     "execution_count": 23,
     "metadata": {},
     "output_type": "execute_result"
    }
   ],
   "source": [
    "# t-критерий распределение метрики LCD для user_2\n",
    "ttest_ind(a_user_2, b_user_2).pvalue"
   ]
  },
  {
   "cell_type": "markdown",
   "metadata": {},
   "source": [
    "- Уровень значимости всех тестов ниже установленного уровня значимости **α** (*0.05*), что позволяет нам отвергнуть нулевую гипотезу H0.\n",
    "- Между исследуемыми выборками (контрольной и тестовой групп) по метрике LDC есть статистически значимые различия.\n",
    "\n",
    "Посмотрим как изменилась метрика LDC для user_1 и user_2 в тестовой группе по отношению к контрольной"
   ]
  },
  {
   "cell_type": "code",
   "execution_count": 57,
   "metadata": {},
   "outputs": [],
   "source": [
    "def difference(metric):\n",
    "    \n",
    "    control_user_1 = df_metrics.query('group==0')[f'{metric}_user_1'].median()\n",
    "    test_user_1 = df_metrics.query('group==1')[f'{metric}_user_1'].median()\n",
    "    \n",
    "    difference = test_user_1 - control_user_1\n",
    "    percent_difference = round(((difference) / control_user_1) * 100, 2)\n",
    "    \n",
    "    print('Для user_1:', difference, percent_difference, '%')\n",
    "    \n",
    "    control_user_2 = df_metrics.query('group==0')[f'{metric}_user_2'].median()\n",
    "    test_user_2 = df_metrics.query('group==1')[f'{metric}_user_2'].median()\n",
    "    \n",
    "    difference = test_user_2 - control_user_2\n",
    "    percent_difference = round(((difference) / control_user_2) * 100, 2)\n",
    "    \n",
    "    print('Для user_2:', difference, percent_difference, '%')"
   ]
  },
  {
   "cell_type": "code",
   "execution_count": 58,
   "metadata": {},
   "outputs": [
    {
     "name": "stdout",
     "output_type": "stream",
     "text": [
      "Для user_1: 11.0 122.22 %\n",
      "Для user_2: 10.0 111.11 %\n"
     ]
    }
   ],
   "source": [
    "difference('LDC')"
   ]
  },
  {
   "cell_type": "markdown",
   "metadata": {},
   "source": [
    "Среднее (*median*) количество взаимодействий между пользователями в тестовой группе больше, чем в контрольной для user_1 на 11 (122%) для user_2 на 10 (111%)"
   ]
  },
  {
   "cell_type": "markdown",
   "metadata": {},
   "source": [
    "### Метрика MC\n",
    "\n",
    "Введём метрику количества мэтчей на одного пользователя Match Count (**MC**)\n",
    "\n",
    "Обозначим гипотезы:\n",
    "\n",
    "- **H0** - Между выборками по метрике MC нет статистически значимых различий\n",
    "- **H1** - Между выборками по метрике MC есть статистически значимые различия\n",
    "\n",
    "Уровень значимости **α** выберем 0.05\n",
    "\n",
    "Посчитаем для каждого пользователя в разбивке по группам количество мэтчей"
   ]
  },
  {
   "cell_type": "code",
   "execution_count": 24,
   "metadata": {},
   "outputs": [],
   "source": [
    "df_metrics['MC_user_1'] = df.groupby(['group', 'user_id_1'], as_index=False)\\\n",
    "                               .agg(MC_user_1=('is_match', sum))['MC_user_1']\n",
    "df_MC_user_2 = df.groupby(['group', 'user_id_2'], as_index=False)\\\n",
    "                  .agg(MC_user_2=('is_match', sum))\n",
    "\n",
    "df_metrics = df_metrics.merge(df_MC_user_2, \n",
    "                              left_on=['user_id', 'group'], \n",
    "                              right_on=['user_id_2', 'group'], \n",
    "                              how='inner', \n",
    "                              copy=False)\\\n",
    "                        .drop('user_id_2', axis=1)                               "
   ]
  },
  {
   "cell_type": "markdown",
   "metadata": {},
   "source": [
    "Построим графики распредления **MC**"
   ]
  },
  {
   "cell_type": "code",
   "execution_count": 25,
   "metadata": {},
   "outputs": [
    {
     "data": {
      "image/png": "[encoded data removed]",
      "text/plain": [
       "<Figure size 1080x360 with 4 Axes>"
      ]
     },
     "metadata": {},
     "output_type": "display_data"
    }
   ],
   "source": [
    "show_plots('MC')"
   ]
  },
  {
   "cell_type": "markdown",
   "metadata": {},
   "source": [
    "Из графиков видно, что в тестовой группе значение **MC** увеличилось.\n",
    "\n",
    "Для проверки на наличие статистически значимых различий, проверим распределения на нормальность с помощью критерия Шапиро-Уилка "
   ]
  },
  {
   "cell_type": "code",
   "execution_count": 26,
   "metadata": {},
   "outputs": [
    {
     "name": "stdout",
     "output_type": "stream",
     "text": [
      "p-value для проверки на нормальность распределения метрики MC:\n",
      "\n",
      "для user_1 в контрольной группе: 1.1023814847670518e-16\n",
      "для user_1 в тестовой группе: 1.0627190022205468e-05\n",
      "\n",
      "для user_2 в контрольной группе: 2.661494516698851e-16\n",
      "для user_2 в тестовой группе: 3.6622728316615394e-07\n"
     ]
    }
   ],
   "source": [
    "normality_test('MC')"
   ]
  },
  {
   "cell_type": "markdown",
   "metadata": {},
   "source": [
    "Распределения обеих групп не являются нормальными, поэтому будем использовать U-тест Манна-Уитни"
   ]
  },
  {
   "cell_type": "code",
   "execution_count": 27,
   "metadata": {},
   "outputs": [],
   "source": [
    "a_user_1 = df_metrics.query('group == 0')['MC_user_1']\n",
    "b_user_1 = df_metrics.query('group == 1')['MC_user_1']\n",
    "a_user_2 = df_metrics.query('group == 0')['MC_user_2']\n",
    "b_user_2 = df_metrics.query('group == 1')['MC_user_2']"
   ]
  },
  {
   "cell_type": "code",
   "execution_count": 28,
   "metadata": {},
   "outputs": [
    {
     "data": {
      "text/plain": [
       "3.964683653930119e-155"
      ]
     },
     "execution_count": 28,
     "metadata": {},
     "output_type": "execute_result"
    }
   ],
   "source": [
    "# U-тест Манна-Уитни распределение метрики LCD для user_1\n",
    "mannwhitneyu(a_user_1, b_user_1).pvalue"
   ]
  },
  {
   "cell_type": "code",
   "execution_count": 29,
   "metadata": {},
   "outputs": [
    {
     "data": {
      "text/plain": [
       "5.206195281157607e-151"
      ]
     },
     "execution_count": 29,
     "metadata": {},
     "output_type": "execute_result"
    }
   ],
   "source": [
    "# U-тест Манна-Уитни распределение метрики LCD для user_1\n",
    "mannwhitneyu(a_user_2, b_user_2).pvalue"
   ]
  },
  {
   "cell_type": "markdown",
   "metadata": {},
   "source": [
    "- Уровень значимости ниже установленного уровня значимости **α** (0.05), что позволяет отвергнуть нулевую гипотезу H0.\n",
    "- Между исследуемыми выборками: контрольной и тестовой групп есть статистически значимые различия метрики MC."
   ]
  },
  {
   "cell_type": "code",
   "execution_count": 52,
   "metadata": {},
   "outputs": [
    {
     "name": "stdout",
     "output_type": "stream",
     "text": [
      "Для user_1: 6.0 300.0 %\n",
      "Для user_2: 6.0 300.0 %\n"
     ]
    }
   ],
   "source": [
    "difference('MC')"
   ]
  },
  {
   "cell_type": "markdown",
   "metadata": {},
   "source": [
    "Среднее (*median*) количество мэтчей на одного пользователя в тестовой группе больше, чем в контрольной на 6 (300 %)"
   ]
  },
  {
   "cell_type": "markdown",
   "metadata": {},
   "source": [
    "### Метрика CMDL\n",
    "\n",
    "Введём метрику отношения количества мэтчей к количеству взаимодействий (лайки/дизлайки) Conversion \n",
    "Matches to Dislikes/Likes (**CMDL**)\n",
    "\n",
    "Обозначим гипотезы:\n",
    "\n",
    "- **H0** - Между выборками по метрике CMDL нет статистически значимых различий\n",
    "- **H1** - Между выборками по метрике CMDL есть статистически значимые различия\n",
    "\n",
    "Уровень значимости **α** выберем 0.05"
   ]
  },
  {
   "cell_type": "code",
   "execution_count": 30,
   "metadata": {},
   "outputs": [],
   "source": [
    "df_metrics['CMDL_user_1'] = df_metrics['MC_user_1'] / df_metrics['LDC_user_1']\n",
    "df_metrics['CMDL_user_2'] = df_metrics['MC_user_2'] / df_metrics['LDC_user_1']"
   ]
  },
  {
   "cell_type": "markdown",
   "metadata": {},
   "source": [
    "Построим графики распредления CMDL"
   ]
  },
  {
   "cell_type": "code",
   "execution_count": 31,
   "metadata": {},
   "outputs": [
    {
     "data": {
      "image/png": "[encoded data removed]",
      "text/plain": [
       "<Figure size 1080x360 with 4 Axes>"
      ]
     },
     "metadata": {},
     "output_type": "display_data"
    }
   ],
   "source": [
    "show_plots('CMDL')"
   ]
  },
  {
   "cell_type": "markdown",
   "metadata": {},
   "source": [
    "Из графиков видно, что в тестовой группе значение **CMDL** увеличилось.\n",
    "\n",
    "Для проверки на наличие статистически значимых различий, проверим распределения на нормальность с помощью критерия Шапиро-Уилка"
   ]
  },
  {
   "cell_type": "code",
   "execution_count": 32,
   "metadata": {},
   "outputs": [
    {
     "name": "stdout",
     "output_type": "stream",
     "text": [
      "p-value для проверки на нормальность распределения метрики CMDL:\n",
      "\n",
      "для user_1 в контрольной группе: 7.058642559343298e-11\n",
      "для user_1 в тестовой группе: 0.2503166198730469\n",
      "\n",
      "для user_2 в контрольной группе: 3.5452075970767334e-18\n",
      "для user_2 в тестовой группе: 4.290019034458581e-11\n"
     ]
    }
   ],
   "source": [
    "normality_test('CMDL')"
   ]
  },
  {
   "cell_type": "markdown",
   "metadata": {},
   "source": [
    "Так как распределения **CMDL** в контрольной группе не является нормальным, в то время как в тестовой группе для user_1 распределение является нормальным, для сравнения этих групп мы снова применим **U-тест Манна-Уитни**. "
   ]
  },
  {
   "cell_type": "code",
   "execution_count": 33,
   "metadata": {},
   "outputs": [],
   "source": [
    "a_user_1 = df_metrics.query('group == 0')['CMDL_user_1']\n",
    "b_user_1 = df_metrics.query('group == 1')['CMDL_user_1']\n",
    "a_user_2 = df_metrics.query('group == 0')['CMDL_user_2']\n",
    "b_user_2 = df_metrics.query('group == 1')['CMDL_user_2']"
   ]
  },
  {
   "cell_type": "code",
   "execution_count": 34,
   "metadata": {},
   "outputs": [
    {
     "data": {
      "text/plain": [
       "1.0739285895805636e-96"
      ]
     },
     "execution_count": 34,
     "metadata": {},
     "output_type": "execute_result"
    }
   ],
   "source": [
    "# U-тест Манна-Уитни распределение метрики CMDL для user_1\n",
    "mannwhitneyu(a_user_1, b_user_1).pvalue"
   ]
  },
  {
   "cell_type": "code",
   "execution_count": 35,
   "metadata": {},
   "outputs": [
    {
     "data": {
      "text/plain": [
       "3.994780680429185e-66"
      ]
     },
     "execution_count": 35,
     "metadata": {},
     "output_type": "execute_result"
    }
   ],
   "source": [
    "# U-тест Манна-Уитни распределение метрики CMDL для user_2\n",
    "mannwhitneyu(a_user_2, b_user_2).pvalue"
   ]
  },
  {
   "cell_type": "markdown",
   "metadata": {},
   "source": [
    "- Уровень значимости ниже установленного уровня значимости **α** (0.05), что позволяет отвергнуть нулевую гипотезу H0 \n",
    "- Между исследуемыми выборками: контрольной и тестовой групп есть статистически значимые различия."
   ]
  },
  {
   "cell_type": "code",
   "execution_count": 53,
   "metadata": {},
   "outputs": [
    {
     "name": "stdout",
     "output_type": "stream",
     "text": [
      "Для user_1: 0.2181818181818182 120.0 %\n",
      "Для user_2: 0.20948616600790515 115.22 %\n"
     ]
    }
   ],
   "source": [
    "difference('CMDL')"
   ]
  },
  {
   "cell_type": "markdown",
   "metadata": {},
   "source": [
    "Отношение количества мэтчей к количеству взаимодействитй увеличилась в контрольной группе по сравнению с тестовой на 0.2 (115% - 120%)"
   ]
  },
  {
   "cell_type": "markdown",
   "metadata": {},
   "source": [
    "### Вывод по проекту:\n",
    "\n",
    "- В результате анализа выгрузки логов взаимодействия пользователей друг с другом можно сделать следующие выводы:\n",
    "    - Количество взаимодействий между пользователями в тестовой группе больше, чем в контрольной для user_1 на 11 (122%) для user_2 на 10 (111%)\n",
    "    - Количество мэтчей на одного пользователя в тестовой группе больше, чем в контрольной на 6 (300 %)\n",
    "    - Отношение количества мэтчей к количеству взаимодействитй увеличилась в контрольной группе по сравнению с тестовой на 0.2 (115 - 120 %)\n",
    "- Чтобы сделать выводы о генеральной совокупности, т.е. сказать, улучшает ли новый дизайн приложение, нужно узнать, репрезентативна ли выборка\n",
    "- Для следующего A/B теста, чтобы точнее определить улучшает ли новый алгоритм качество сервиса предлагаю в базу данных добавить:\n",
    "    - дату регистрации пользователя,\n",
    "    - дату взаимодействия пользователя,\n",
    "    - вид взаимодействий - лайк или дизлайк,\n",
    "    - локацию (страна, город) пользователя, \n",
    "    - пол пользователя,\n",
    "    - платформу устройства пользователя."
   ]
  }
 ],
 "metadata": {
  "kernelspec": {
   "display_name": "Python 3 (ipykernel)",
   "language": "python",
   "name": "python3"
  },
  "language_info": {
   "codemirror_mode": {
    "name": "ipython",
    "version": 3
   },
   "file_extension": ".py",
   "mimetype": "text/x-python",
   "name": "python",
   "nbconvert_exporter": "python",
   "pygments_lexer": "ipython3",
   "version": "3.9.13"
  }
 },
 "nbformat": 4,
 "nbformat_minor": 4
}
